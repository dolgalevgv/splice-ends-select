{
 "cells": [
  {
   "cell_type": "code",
   "execution_count": 32,
   "id": "48268fc4-ed77-4092-b64d-56291b194813",
   "metadata": {},
   "outputs": [],
   "source": [
    "import numpy as np\n",
    "import pandas as pd\n",
    "from functools import partial\n",
    "from itertools import chain, combinations, zip_longest, groupby\n",
    "from collections import Counter"
   ]
  },
  {
   "cell_type": "code",
   "execution_count": 2,
   "id": "9d13f2ed-5c89-4d45-a107-3c75ed6df6b0",
   "metadata": {},
   "outputs": [],
   "source": [
    "ens_main = pd.read_csv('data/ens_main_int.csv', dtype={'chromosome_or_scaffold':'O', '5utr_start': 'Int64', '5utr_end': 'Int64', '3utr_start': 'Int64', '3utr_end': 'Int64', 'cds_start': 'Int64', 'cds_end': 'Int64'})\n",
    "ens_exons = pd.read_csv('data/ens_exons_int.csv', dtype={'5utr_start': 'Int64', '5utr_end': 'Int64', '3utr_start': 'Int64', '3utr_end': 'Int64', 'cds_start': 'Int64', 'cds_end': 'Int64'})"
   ]
  },
  {
   "cell_type": "code",
   "execution_count": 3,
   "id": "cb7d64af-5a84-4b4e-8fcd-7f4465d12751",
   "metadata": {},
   "outputs": [],
   "source": [
    "ens_main = ens_main[ens_main['chromosome_or_scaffold'].isin([str(i) for i in list(range(1,23))] + ['X', 'Y'])]\n",
    "ens_main = ens_main[ens_main['gene_type'] == 'protein_coding']\n",
    "ens_main = ens_main[~ens_main['ensembl_gene_name'].isna()]"
   ]
  },
  {
   "cell_type": "code",
   "execution_count": 4,
   "id": "67d6c39b-420f-4d56-b0c6-2e9ade0dcabe",
   "metadata": {},
   "outputs": [],
   "source": [
    "gene_size = ens_main.groupby('ensembl_gene_name').size()\n",
    "gene_size = gene_size[gene_size > 1].index.to_list()\n",
    "ens_main = ens_main[ens_main['ensembl_gene_name'].isin(gene_size)]"
   ]
  },
  {
   "cell_type": "code",
   "execution_count": 5,
   "id": "a1a2d404-0f53-47b6-8c68-aaf844ec21cf",
   "metadata": {},
   "outputs": [],
   "source": [
    "ens_min = ens_main[['ensembl_gene_name','gene_start', 'gene_end', 'ensembl_trs_id', 'trs_type', 'cds_start', 'cds_end']]"
   ]
  },
  {
   "cell_type": "code",
   "execution_count": 6,
   "id": "599b371e-1dc0-4be9-95ba-6f438e0c82bb",
   "metadata": {},
   "outputs": [
    {
     "data": {
      "text/plain": [
       "16846"
      ]
     },
     "execution_count": 6,
     "metadata": {},
     "output_type": "execute_result"
    }
   ],
   "source": [
    "genes = ens_min['ensembl_gene_name'].unique()\n",
    "len(genes)"
   ]
  },
  {
   "cell_type": "code",
   "execution_count": 8,
   "id": "1a312b99-5c26-42a2-b907-0983acba761a",
   "metadata": {},
   "outputs": [],
   "source": [
    "v = ens_min[ens_min['ensembl_gene_name'] == 'TEF']"
   ]
  },
  {
   "cell_type": "code",
   "execution_count": 15,
   "id": "cb65b92c-b1d1-4b36-a883-6082167b24f5",
   "metadata": {},
   "outputs": [],
   "source": [
    "v = ens_min[ens_min['ensembl_gene_name'] == 'TEF']\n",
    "cdss = v[['cds_start', 'cds_end']].to_numpy()\n",
    "cds_unique = np.sort(pd.unique(cdss.ravel()))\n",
    "\n",
    "cds_arr = (cds_unique == cdss[..., None]).any(1).astype(int)\n",
    "\n",
    "cds_seq = np.column_stack(list(zip_longest(*ens_exons[ens_exons['ensembl_gene_name'] == 'TEF']\n",
    "           .groupby('ensembl_trs_id')[['exon_start', 'exon_end']]\n",
    "           .apply(lambda x: [np.arange(a, b+1) for a, b in zip(x['exon_start'], x['exon_end'])])\n",
    "           .apply(np.hstack).values, fillvalue=0)))\n",
    "\n",
    "cds_seq_sum = (cds_unique == cds_seq[..., None]).any(1).astype(int).sum(0)"
   ]
  },
  {
   "cell_type": "code",
   "execution_count": 42,
   "id": "ab3e9d9c-0a5e-4167-a018-373ca29063fb",
   "metadata": {},
   "outputs": [
    {
     "name": "stdout",
     "output_type": "stream",
     "text": [
      "85.4 ms ± 160 µs per loop (mean ± std. dev. of 7 runs, 10 loops each)\n"
     ]
    }
   ],
   "source": [
    "%%timeit\n",
    "gene = 'TEF'\n",
    "\n",
    "gene_sub = ens_min[ens_min['ensembl_gene_name'] == gene][['ensembl_trs_id', 'trs_type', 'cds_start', 'cds_end']]\n",
    "gene_sub_pc = gene_sub[gene_sub['trs_type'] == 'protein_coding']\n",
    "gene_exon_sub = ens_exons[ens_exons['ensembl_trs_id'].isin(gene_sub['ensembl_trs_id'])]\n",
    "\n",
    "cds_ends = gene_sub[['cds_start', 'cds_end']].to_numpy()\n",
    "\n",
    "cds_unique = np.sort(pd.unique(cds_ends.ravel()))\n",
    "\n",
    "cds_mtx = (cds_unique == cds_ends[..., None]).any(1).astype(int)\n",
    "\n",
    "seq_mtx = np.array((len(gene_sub), len(cds_unique)))"
   ]
  },
  {
   "cell_type": "code",
   "execution_count": 52,
   "id": "f0c225d4-b696-4af8-87fd-4ea3e42f0ed2",
   "metadata": {},
   "outputs": [
    {
     "name": "stdout",
     "output_type": "stream",
     "text": [
      "118 ms ± 173 µs per loop (mean ± std. dev. of 7 runs, 10 loops each)\n"
     ]
    }
   ],
   "source": [
    "%%timeit\n",
    "gene = 'TEF'\n",
    "\n",
    "gene_sub = ens_min[ens_min['ensembl_gene_name'] == gene][['ensembl_trs_id', 'trs_type', 'cds_start', 'cds_end']]\n",
    "gene_sub_pc = gene_sub[gene_sub['trs_type'] == 'protein_coding']\n",
    "gene_exon_sub = ens_exons[ens_exons['ensembl_trs_id'].isin(gene_sub['ensembl_trs_id'])]\n",
    "\n",
    "cds_ends = gene_sub[['cds_start', 'cds_end']].to_numpy()\n",
    "\n",
    "cds_unique = np.sort(pd.unique(cds_ends.ravel()))\n",
    "\n",
    "seq_mtx = np.zeros((len(gene_sub), len(cds_unique)))\n",
    "seq_one = None\n",
    "\n",
    "for i, trs in enumerate(gene_sub['ensembl_trs_id'].to_list()):\n",
    "    gene_exon_trs = gene_exon_sub[gene_exon_sub['ensembl_trs_id'] == trs]\n",
    "    seq_one = np.hstack([np.arange(a, b+1) for a, b in zip(gene_exon_trs['exon_start'], gene_exon_trs['exon_end'])])\n",
    "    seq_mtx[i,:] = np.isin(cds_unique, seq_one)\n",
    "    \n",
    "seq_mtx = seq_mtx.astype(int)"
   ]
  },
  {
   "cell_type": "code",
   "execution_count": 54,
   "id": "cfd3b750-93b0-4189-bd67-4dbe76239f64",
   "metadata": {},
   "outputs": [],
   "source": [
    "trs_prot_dup = []\n",
    "\n",
    "gene = 'TEF'\n",
    "gene_sub = ens_min[(ens_min['ensembl_gene_name'] == gene) & (ens_min['trs_type'] == 'protein_coding')][['ensembl_trs_id', 'trs_type', 'cds_start', 'cds_end']]\n",
    "gene_start = "
   ]
  },
  {
   "cell_type": "code",
   "execution_count": 43,
   "id": "c64e15c9-3699-45da-9e7b-6afe201b32e9",
   "metadata": {},
   "outputs": [
    {
     "name": "stdout",
     "output_type": "stream",
     "text": [
      "89.8 ms ± 272 µs per loop (mean ± std. dev. of 7 runs, 10 loops each)\n"
     ]
    }
   ],
   "source": [
    "%%timeit\n",
    "cds_seq = np.column_stack(list(zip_longest(*ens_exons[ens_exons['ensembl_gene_name'] == 'TEF']\n",
    "           .groupby('ensembl_trs_id')[['exon_start', 'exon_end']]\n",
    "           .apply(lambda x: [np.arange(a, b+1) for a, b in zip(x['exon_start'], x['exon_end'])])\n",
    "           .apply(np.hstack).values, fillvalue=0)))"
   ]
  },
  {
   "cell_type": "code",
   "execution_count": 41,
   "id": "2e53b2a3-eabf-4247-9cb2-05d918ee3f11",
   "metadata": {},
   "outputs": [
    {
     "data": {
      "text/plain": [
       "array([3, 5])"
      ]
     },
     "execution_count": 41,
     "metadata": {},
     "output_type": "execute_result"
    }
   ],
   "source": [
    "%%timeit"
   ]
  },
  {
   "cell_type": "code",
   "execution_count": null,
   "id": "318bda7c-48c6-4be2-b3b0-c55bd91b1fcf",
   "metadata": {},
   "outputs": [],
   "source": [
    "e = ens_exon[ae3['ensembl_trs_id'] == j].loc[:, ['exon_genomic_start', 'exon_genomic_end']].copy()\n",
    "exon_ranges = [np.arange(i[0], i[1]) for i in zip((exon_view.loc[:, \"exon_genomic_start\"] - gene_start).to_list(), (exon_view.loc[:, \"exon_genomic_end\"] - gene_start + 1).to_list())]\n",
    "np.hstack(exon_ranges)"
   ]
  },
  {
   "cell_type": "code",
   "execution_count": 121,
   "id": "0c569583-459f-45c1-aa49-c77eb0ad5405",
   "metadata": {},
   "outputs": [
    {
     "data": {
      "text/plain": [
       "(array([0, 1, 2], dtype=int64),)"
      ]
     },
     "execution_count": 121,
     "metadata": {},
     "output_type": "execute_result"
    }
   ],
   "source": [
    "np.where((cds_arr == 1).any(1))"
   ]
  },
  {
   "cell_type": "code",
   "execution_count": 34,
   "id": "4a4b13e0-5c80-4557-a26e-90e757d3ef22",
   "metadata": {},
   "outputs": [
    {
     "data": {
      "text/plain": [
       "45914    41367533\n",
       "45937    41382045\n",
       "45942    41382935\n",
       "Name: cds_start, dtype: Int64"
      ]
     },
     "execution_count": 34,
     "metadata": {},
     "output_type": "execute_result"
    }
   ],
   "source": [
    "v['cds_start']"
   ]
  },
  {
   "cell_type": "code",
   "execution_count": 50,
   "id": "3919a59b-cf3a-41bb-a8ba-3feaacf87941",
   "metadata": {},
   "outputs": [
    {
     "data": {
      "text/plain": [
       "array([[0, 1, 2],\n",
       "       [2, 1, 0]])"
      ]
     },
     "execution_count": 50,
     "metadata": {},
     "output_type": "execute_result"
    }
   ],
   "source": [
    "np.stack([[0,1,2], [2,1,0]])"
   ]
  },
  {
   "cell_type": "code",
   "execution_count": 73,
   "id": "08092a27-c1af-4ceb-997c-e40f4cbaa9eb",
   "metadata": {},
   "outputs": [
    {
     "name": "stderr",
     "output_type": "stream",
     "text": [
      "UsageError: Line magic function `%%timeit` not found.\n"
     ]
    }
   ],
   "source": [
    "def rowin(u, c):\n",
    "    return np.isin(u, c).astype(int)"
   ]
  },
  {
   "cell_type": "code",
   "execution_count": 74,
   "id": "d351618e-9fe5-4634-8ed7-73daf3ed3cec",
   "metadata": {},
   "outputs": [
    {
     "name": "stdout",
     "output_type": "stream",
     "text": [
      "153 ns ± 0.162 ns per loop (mean ± std. dev. of 7 runs, 10,000,000 loops each)\n"
     ]
    }
   ],
   "source": [
    "%%timeit\n",
    "rowinl = partial(rowin, cds_unique)"
   ]
  },
  {
   "cell_type": "code",
   "execution_count": 140,
   "id": "52729a84-feb9-41ec-8951-48c866922b33",
   "metadata": {},
   "outputs": [
    {
     "data": {
      "text/plain": [
       "array([[ 0,  1,  1,  1, -1],\n",
       "       [ 1,  0,  1,  1, -1],\n",
       "       [ 1,  1,  0,  0,  1]])"
      ]
     },
     "execution_count": 140,
     "metadata": {},
     "output_type": "execute_result"
    }
   ],
   "source": [
    "np.isin(np.where(cds_mtx==1, cds_mtx - cds_mtx.sum(0), 1)"
   ]
  },
  {
   "cell_type": "code",
   "execution_count": 75,
   "id": "c059b095-80ea-4256-8454-06da46e4a7cc",
   "metadata": {},
   "outputs": [],
   "source": []
  },
  {
   "cell_type": "code",
   "execution_count": 125,
   "id": "1cf4d36d-4d13-4b4a-bca7-e2924a60edeb",
   "metadata": {},
   "outputs": [
    {
     "data": {
      "text/plain": [
       "array([41367533, 41382045, 41382935, 41394274, 41395960], dtype=object)"
      ]
     },
     "execution_count": 125,
     "metadata": {},
     "output_type": "execute_result"
    }
   ],
   "source": [
    "cds_unique"
   ]
  },
  {
   "cell_type": "code",
   "execution_count": 115,
   "id": "fb82a27a-0afb-45f6-ba1c-dcec8b2a42bb",
   "metadata": {},
   "outputs": [
    {
     "data": {
      "text/plain": [
       "array([[1, 0, 0, 0, 1],\n",
       "       [0, 1, 0, 0, 1],\n",
       "       [0, 0, 1, 1, 0]])"
      ]
     },
     "execution_count": 115,
     "metadata": {},
     "output_type": "execute_result"
    }
   ],
   "source": [
    "(cds_unique == cdss[..., None]).any(1).astype(int)"
   ]
  },
  {
   "cell_type": "code",
   "execution_count": 109,
   "id": "918a7899-e1a1-4c3f-80b3-be6cc23aeae4",
   "metadata": {},
   "outputs": [
    {
     "data": {
      "text/plain": [
       "array([[[41367533],\n",
       "        [41395960]],\n",
       "\n",
       "       [[41382045],\n",
       "        [41395960]],\n",
       "\n",
       "       [[41382935],\n",
       "        [41394274]]], dtype=object)"
      ]
     },
     "execution_count": 109,
     "metadata": {},
     "output_type": "execute_result"
    }
   ],
   "source": [
    "cdss[..., None]"
   ]
  },
  {
   "cell_type": "code",
   "execution_count": 110,
   "id": "458d1dad-b26f-4583-96f7-438b37c322e3",
   "metadata": {},
   "outputs": [
    {
     "data": {
      "text/plain": [
       "array([41367533, 41382045, 41382935, 41394274, 41395960], dtype=object)"
      ]
     },
     "execution_count": 110,
     "metadata": {},
     "output_type": "execute_result"
    }
   ],
   "source": [
    "cds_unique"
   ]
  },
  {
   "cell_type": "code",
   "execution_count": 111,
   "id": "f8df65c8-ec61-472e-a7e7-11df8f93b976",
   "metadata": {},
   "outputs": [
    {
     "data": {
      "text/plain": [
       "array([[[ True, False, False, False, False],\n",
       "        [False, False, False, False,  True]],\n",
       "\n",
       "       [[False,  True, False, False, False],\n",
       "        [False, False, False, False,  True]],\n",
       "\n",
       "       [[False, False,  True, False, False],\n",
       "        [False, False, False,  True, False]]])"
      ]
     },
     "execution_count": 111,
     "metadata": {},
     "output_type": "execute_result"
    }
   ],
   "source": [
    "cds_unique == cdss[..., None]"
   ]
  },
  {
   "cell_type": "code",
   "execution_count": null,
   "id": "05c20060-0088-40c9-9df9-58e337154b0e",
   "metadata": {},
   "outputs": [],
   "source": [
    "lambda x: np.hstack([np.arange(a, b+1) for a, b in zip(x['exon_start'], x['exon_end'])])"
   ]
  },
  {
   "cell_type": "code",
   "execution_count": 212,
   "id": "136ffbba-f379-49a3-95cb-fe94c84b0d19",
   "metadata": {},
   "outputs": [],
   "source": [
    "cds_seq = np.column_stack(list(zip_longest(*ens_exons[ens_exons['ensembl_gene_name'] == 'TEF']\n",
    "           .groupby('ensembl_trs_id')[['exon_start', 'exon_end']]\n",
    "           .apply(lambda x: [np.arange(a, b+1) for a, b in zip(x['exon_start'], x['exon_end'])])\n",
    "           .apply(np.hstack).values, fillvalue=0)))\n",
    "\n",
    "cds_seq_sum = (cds_unique == cds_seq[..., None]).any(1).astype(int).sum(0)"
   ]
  },
  {
   "cell_type": "code",
   "execution_count": 215,
   "id": "10d8fde4-cee3-4c2f-a7b5-dde3a973f7ed",
   "metadata": {},
   "outputs": [
    {
     "data": {
      "text/plain": [
       "array([1, 1, 1, 3, 2])"
      ]
     },
     "execution_count": 215,
     "metadata": {},
     "output_type": "execute_result"
    }
   ],
   "source": [
    "(cds_unique == cds_seq[..., None]).any(1).astype(int).sum(0)"
   ]
  },
  {
   "cell_type": "code",
   "execution_count": 188,
   "id": "498c30bf-1fa0-44b0-842f-0c51ff407cb9",
   "metadata": {},
   "outputs": [
    {
     "name": "stderr",
     "output_type": "stream",
     "text": [
      "C:\\Users\\Dynev\\AppData\\Local\\Temp\\ipykernel_13732\\1896111188.py:1: DeprecationWarning: elementwise comparison failed; this will raise an error in the future.\n",
      "  (cds_unique[..., None] == cds_seq).any(1).astype(int)\n"
     ]
    },
    {
     "ename": "AttributeError",
     "evalue": "'bool' object has no attribute 'any'",
     "output_type": "error",
     "traceback": [
      "\u001b[1;31m---------------------------------------------------------------------------\u001b[0m",
      "\u001b[1;31mAttributeError\u001b[0m                            Traceback (most recent call last)",
      "Input \u001b[1;32mIn [188]\u001b[0m, in \u001b[0;36m<cell line: 1>\u001b[1;34m()\u001b[0m\n\u001b[1;32m----> 1\u001b[0m \u001b[43m(\u001b[49m\u001b[43mcds_unique\u001b[49m\u001b[43m[\u001b[49m\u001b[38;5;241;43m.\u001b[39;49m\u001b[38;5;241;43m.\u001b[39;49m\u001b[38;5;241;43m.\u001b[39;49m\u001b[43m,\u001b[49m\u001b[43m \u001b[49m\u001b[38;5;28;43;01mNone\u001b[39;49;00m\u001b[43m]\u001b[49m\u001b[43m \u001b[49m\u001b[38;5;241;43m==\u001b[39;49m\u001b[43m \u001b[49m\u001b[43mcds_seq\u001b[49m\u001b[43m)\u001b[49m\u001b[38;5;241;43m.\u001b[39;49m\u001b[43many\u001b[49m(\u001b[38;5;241m1\u001b[39m)\u001b[38;5;241m.\u001b[39mastype(\u001b[38;5;28mint\u001b[39m)\n",
      "\u001b[1;31mAttributeError\u001b[0m: 'bool' object has no attribute 'any'"
     ]
    }
   ],
   "source": [
    "(cds_unique[..., None] == cds_seq).any(1).astype(int)"
   ]
  },
  {
   "cell_type": "code",
   "execution_count": 193,
   "id": "f32261b9-0479-4d0f-8df5-c73f1d3092b4",
   "metadata": {},
   "outputs": [
    {
     "data": {
      "text/plain": [
       "array([False, False, False])"
      ]
     },
     "execution_count": 193,
     "metadata": {},
     "output_type": "execute_result"
    }
   ],
   "source": [
    "np.isin(cds_seq, cds_unique)"
   ]
  },
  {
   "cell_type": "code",
   "execution_count": 195,
   "id": "bc7121e8-2021-493d-b617-3d556aa791d2",
   "metadata": {},
   "outputs": [
    {
     "name": "stderr",
     "output_type": "stream",
     "text": [
      "C:\\Users\\Dynev\\AppData\\Local\\Temp\\ipykernel_13732\\2603883795.py:1: DeprecationWarning: elementwise comparison failed; this will raise an error in the future.\n",
      "  (cds_unique == cds_seq[..., None]).any(1).astype(int)\n"
     ]
    },
    {
     "ename": "AttributeError",
     "evalue": "'bool' object has no attribute 'any'",
     "output_type": "error",
     "traceback": [
      "\u001b[1;31m---------------------------------------------------------------------------\u001b[0m",
      "\u001b[1;31mAttributeError\u001b[0m                            Traceback (most recent call last)",
      "Input \u001b[1;32mIn [195]\u001b[0m, in \u001b[0;36m<cell line: 1>\u001b[1;34m()\u001b[0m\n\u001b[1;32m----> 1\u001b[0m \u001b[43m(\u001b[49m\u001b[43mcds_unique\u001b[49m\u001b[43m \u001b[49m\u001b[38;5;241;43m==\u001b[39;49m\u001b[43m \u001b[49m\u001b[43mcds_seq\u001b[49m\u001b[43m[\u001b[49m\u001b[38;5;241;43m.\u001b[39;49m\u001b[38;5;241;43m.\u001b[39;49m\u001b[38;5;241;43m.\u001b[39;49m\u001b[43m,\u001b[49m\u001b[43m \u001b[49m\u001b[38;5;28;43;01mNone\u001b[39;49;00m\u001b[43m]\u001b[49m\u001b[43m)\u001b[49m\u001b[38;5;241;43m.\u001b[39;49m\u001b[43many\u001b[49m(\u001b[38;5;241m1\u001b[39m)\u001b[38;5;241m.\u001b[39mastype(\u001b[38;5;28mint\u001b[39m)\n",
      "\u001b[1;31mAttributeError\u001b[0m: 'bool' object has no attribute 'any'"
     ]
    }
   ],
   "source": [
    "(cds_unique == cds_seq[..., None]).any(1).astype(int)"
   ]
  },
  {
   "cell_type": "code",
   "execution_count": 134,
   "id": "9a6695df-04f0-43cd-8ced-5e8bfb84d706",
   "metadata": {},
   "outputs": [
    {
     "data": {
      "text/html": [
       "<div>\n",
       "<style scoped>\n",
       "    .dataframe tbody tr th:only-of-type {\n",
       "        vertical-align: middle;\n",
       "    }\n",
       "\n",
       "    .dataframe tbody tr th {\n",
       "        vertical-align: top;\n",
       "    }\n",
       "\n",
       "    .dataframe thead th {\n",
       "        text-align: right;\n",
       "    }\n",
       "</style>\n",
       "<table border=\"1\" class=\"dataframe\">\n",
       "  <thead>\n",
       "    <tr style=\"text-align: right;\">\n",
       "      <th></th>\n",
       "      <th>ensembl_trs_id</th>\n",
       "      <th>ensembl_exon_id</th>\n",
       "      <th>5utr_start</th>\n",
       "      <th>5utr_end</th>\n",
       "      <th>3utr_start</th>\n",
       "      <th>3utr_end</th>\n",
       "      <th>exon_start</th>\n",
       "      <th>exon_end</th>\n",
       "      <th>cds_start</th>\n",
       "      <th>cds_end</th>\n",
       "    </tr>\n",
       "  </thead>\n",
       "  <tbody>\n",
       "    <tr>\n",
       "      <th>36308</th>\n",
       "      <td>ENST00000617794</td>\n",
       "      <td>ENSE00003745889</td>\n",
       "      <td>&lt;NA&gt;</td>\n",
       "      <td>&lt;NA&gt;</td>\n",
       "      <td>&lt;NA&gt;</td>\n",
       "      <td>&lt;NA&gt;</td>\n",
       "      <td>195798554</td>\n",
       "      <td>195798554</td>\n",
       "      <td>195798554</td>\n",
       "      <td>195798554</td>\n",
       "    </tr>\n",
       "    <tr>\n",
       "      <th>94418</th>\n",
       "      <td>ENST00000655539</td>\n",
       "      <td>ENSE00003859038</td>\n",
       "      <td>&lt;NA&gt;</td>\n",
       "      <td>&lt;NA&gt;</td>\n",
       "      <td>&lt;NA&gt;</td>\n",
       "      <td>&lt;NA&gt;</td>\n",
       "      <td>78787479</td>\n",
       "      <td>78787479</td>\n",
       "      <td>&lt;NA&gt;</td>\n",
       "      <td>&lt;NA&gt;</td>\n",
       "    </tr>\n",
       "    <tr>\n",
       "      <th>128296</th>\n",
       "      <td>ENST00000668966</td>\n",
       "      <td>ENSE00003871022</td>\n",
       "      <td>&lt;NA&gt;</td>\n",
       "      <td>&lt;NA&gt;</td>\n",
       "      <td>&lt;NA&gt;</td>\n",
       "      <td>&lt;NA&gt;</td>\n",
       "      <td>105707837</td>\n",
       "      <td>105707837</td>\n",
       "      <td>&lt;NA&gt;</td>\n",
       "      <td>&lt;NA&gt;</td>\n",
       "    </tr>\n",
       "    <tr>\n",
       "      <th>151289</th>\n",
       "      <td>ENST00000655121</td>\n",
       "      <td>ENSE00003874120</td>\n",
       "      <td>&lt;NA&gt;</td>\n",
       "      <td>&lt;NA&gt;</td>\n",
       "      <td>&lt;NA&gt;</td>\n",
       "      <td>&lt;NA&gt;</td>\n",
       "      <td>56137306</td>\n",
       "      <td>56137306</td>\n",
       "      <td>&lt;NA&gt;</td>\n",
       "      <td>&lt;NA&gt;</td>\n",
       "    </tr>\n",
       "    <tr>\n",
       "      <th>171364</th>\n",
       "      <td>ENST00000658440</td>\n",
       "      <td>ENSE00003858299</td>\n",
       "      <td>&lt;NA&gt;</td>\n",
       "      <td>&lt;NA&gt;</td>\n",
       "      <td>&lt;NA&gt;</td>\n",
       "      <td>&lt;NA&gt;</td>\n",
       "      <td>4243823</td>\n",
       "      <td>4243823</td>\n",
       "      <td>&lt;NA&gt;</td>\n",
       "      <td>&lt;NA&gt;</td>\n",
       "    </tr>\n",
       "    <tr>\n",
       "      <th>184313</th>\n",
       "      <td>ENST00000664259</td>\n",
       "      <td>ENSE00003863974</td>\n",
       "      <td>&lt;NA&gt;</td>\n",
       "      <td>&lt;NA&gt;</td>\n",
       "      <td>&lt;NA&gt;</td>\n",
       "      <td>&lt;NA&gt;</td>\n",
       "      <td>19753084</td>\n",
       "      <td>19753084</td>\n",
       "      <td>&lt;NA&gt;</td>\n",
       "      <td>&lt;NA&gt;</td>\n",
       "    </tr>\n",
       "    <tr>\n",
       "      <th>221838</th>\n",
       "      <td>ENST00000637577</td>\n",
       "      <td>ENSE00003832688</td>\n",
       "      <td>&lt;NA&gt;</td>\n",
       "      <td>&lt;NA&gt;</td>\n",
       "      <td>&lt;NA&gt;</td>\n",
       "      <td>&lt;NA&gt;</td>\n",
       "      <td>131795809</td>\n",
       "      <td>131795809</td>\n",
       "      <td>&lt;NA&gt;</td>\n",
       "      <td>&lt;NA&gt;</td>\n",
       "    </tr>\n",
       "    <tr>\n",
       "      <th>281327</th>\n",
       "      <td>ENST00000439769</td>\n",
       "      <td>ENSE00003831741</td>\n",
       "      <td>&lt;NA&gt;</td>\n",
       "      <td>&lt;NA&gt;</td>\n",
       "      <td>43540934</td>\n",
       "      <td>43540934</td>\n",
       "      <td>43540934</td>\n",
       "      <td>43540934</td>\n",
       "      <td>&lt;NA&gt;</td>\n",
       "      <td>&lt;NA&gt;</td>\n",
       "    </tr>\n",
       "    <tr>\n",
       "      <th>286564</th>\n",
       "      <td>ENST00000658725</td>\n",
       "      <td>ENSE00003888255</td>\n",
       "      <td>&lt;NA&gt;</td>\n",
       "      <td>&lt;NA&gt;</td>\n",
       "      <td>&lt;NA&gt;</td>\n",
       "      <td>&lt;NA&gt;</td>\n",
       "      <td>5446045</td>\n",
       "      <td>5446045</td>\n",
       "      <td>&lt;NA&gt;</td>\n",
       "      <td>&lt;NA&gt;</td>\n",
       "    </tr>\n",
       "    <tr>\n",
       "      <th>286653</th>\n",
       "      <td>ENST00000654287</td>\n",
       "      <td>ENSE00003888255</td>\n",
       "      <td>&lt;NA&gt;</td>\n",
       "      <td>&lt;NA&gt;</td>\n",
       "      <td>&lt;NA&gt;</td>\n",
       "      <td>&lt;NA&gt;</td>\n",
       "      <td>5446045</td>\n",
       "      <td>5446045</td>\n",
       "      <td>&lt;NA&gt;</td>\n",
       "      <td>&lt;NA&gt;</td>\n",
       "    </tr>\n",
       "    <tr>\n",
       "      <th>290495</th>\n",
       "      <td>ENST00000669345</td>\n",
       "      <td>ENSE00003879568</td>\n",
       "      <td>&lt;NA&gt;</td>\n",
       "      <td>&lt;NA&gt;</td>\n",
       "      <td>&lt;NA&gt;</td>\n",
       "      <td>&lt;NA&gt;</td>\n",
       "      <td>38923638</td>\n",
       "      <td>38923638</td>\n",
       "      <td>&lt;NA&gt;</td>\n",
       "      <td>&lt;NA&gt;</td>\n",
       "    </tr>\n",
       "    <tr>\n",
       "      <th>517836</th>\n",
       "      <td>ENST00000690369</td>\n",
       "      <td>ENSE00003938329</td>\n",
       "      <td>&lt;NA&gt;</td>\n",
       "      <td>&lt;NA&gt;</td>\n",
       "      <td>&lt;NA&gt;</td>\n",
       "      <td>&lt;NA&gt;</td>\n",
       "      <td>50474786</td>\n",
       "      <td>50474786</td>\n",
       "      <td>&lt;NA&gt;</td>\n",
       "      <td>&lt;NA&gt;</td>\n",
       "    </tr>\n",
       "    <tr>\n",
       "      <th>523408</th>\n",
       "      <td>ENST00000514657</td>\n",
       "      <td>ENSE00003854704</td>\n",
       "      <td>&lt;NA&gt;</td>\n",
       "      <td>&lt;NA&gt;</td>\n",
       "      <td>&lt;NA&gt;</td>\n",
       "      <td>&lt;NA&gt;</td>\n",
       "      <td>122722214</td>\n",
       "      <td>122722214</td>\n",
       "      <td>&lt;NA&gt;</td>\n",
       "      <td>&lt;NA&gt;</td>\n",
       "    </tr>\n",
       "    <tr>\n",
       "      <th>527517</th>\n",
       "      <td>ENST00000648684</td>\n",
       "      <td>ENSE00003831437</td>\n",
       "      <td>&lt;NA&gt;</td>\n",
       "      <td>&lt;NA&gt;</td>\n",
       "      <td>&lt;NA&gt;</td>\n",
       "      <td>&lt;NA&gt;</td>\n",
       "      <td>2768091</td>\n",
       "      <td>2768091</td>\n",
       "      <td>&lt;NA&gt;</td>\n",
       "      <td>&lt;NA&gt;</td>\n",
       "    </tr>\n",
       "    <tr>\n",
       "      <th>688649</th>\n",
       "      <td>ENST00000659571</td>\n",
       "      <td>ENSE00003877224</td>\n",
       "      <td>&lt;NA&gt;</td>\n",
       "      <td>&lt;NA&gt;</td>\n",
       "      <td>&lt;NA&gt;</td>\n",
       "      <td>&lt;NA&gt;</td>\n",
       "      <td>113111410</td>\n",
       "      <td>113111410</td>\n",
       "      <td>&lt;NA&gt;</td>\n",
       "      <td>&lt;NA&gt;</td>\n",
       "    </tr>\n",
       "    <tr>\n",
       "      <th>694410</th>\n",
       "      <td>ENST00000665256</td>\n",
       "      <td>ENSE00003856218</td>\n",
       "      <td>&lt;NA&gt;</td>\n",
       "      <td>&lt;NA&gt;</td>\n",
       "      <td>&lt;NA&gt;</td>\n",
       "      <td>&lt;NA&gt;</td>\n",
       "      <td>153412091</td>\n",
       "      <td>153412091</td>\n",
       "      <td>&lt;NA&gt;</td>\n",
       "      <td>&lt;NA&gt;</td>\n",
       "    </tr>\n",
       "    <tr>\n",
       "      <th>695602</th>\n",
       "      <td>ENST00000523617</td>\n",
       "      <td>ENSE00003873970</td>\n",
       "      <td>&lt;NA&gt;</td>\n",
       "      <td>&lt;NA&gt;</td>\n",
       "      <td>&lt;NA&gt;</td>\n",
       "      <td>&lt;NA&gt;</td>\n",
       "      <td>173807791</td>\n",
       "      <td>173807791</td>\n",
       "      <td>&lt;NA&gt;</td>\n",
       "      <td>&lt;NA&gt;</td>\n",
       "    </tr>\n",
       "    <tr>\n",
       "      <th>739241</th>\n",
       "      <td>ENST00000634941</td>\n",
       "      <td>ENSE00003873611</td>\n",
       "      <td>&lt;NA&gt;</td>\n",
       "      <td>&lt;NA&gt;</td>\n",
       "      <td>&lt;NA&gt;</td>\n",
       "      <td>&lt;NA&gt;</td>\n",
       "      <td>127499730</td>\n",
       "      <td>127499730</td>\n",
       "      <td>&lt;NA&gt;</td>\n",
       "      <td>&lt;NA&gt;</td>\n",
       "    </tr>\n",
       "    <tr>\n",
       "      <th>748721</th>\n",
       "      <td>ENST00000666128</td>\n",
       "      <td>ENSE00003884993</td>\n",
       "      <td>&lt;NA&gt;</td>\n",
       "      <td>&lt;NA&gt;</td>\n",
       "      <td>&lt;NA&gt;</td>\n",
       "      <td>&lt;NA&gt;</td>\n",
       "      <td>110511060</td>\n",
       "      <td>110511060</td>\n",
       "      <td>&lt;NA&gt;</td>\n",
       "      <td>&lt;NA&gt;</td>\n",
       "    </tr>\n",
       "    <tr>\n",
       "      <th>804073</th>\n",
       "      <td>ENST00000497811</td>\n",
       "      <td>ENSE00003858342</td>\n",
       "      <td>&lt;NA&gt;</td>\n",
       "      <td>&lt;NA&gt;</td>\n",
       "      <td>&lt;NA&gt;</td>\n",
       "      <td>&lt;NA&gt;</td>\n",
       "      <td>107855313</td>\n",
       "      <td>107855313</td>\n",
       "      <td>&lt;NA&gt;</td>\n",
       "      <td>&lt;NA&gt;</td>\n",
       "    </tr>\n",
       "    <tr>\n",
       "      <th>809582</th>\n",
       "      <td>ENST00000476999</td>\n",
       "      <td>ENSE00003844926</td>\n",
       "      <td>161105235</td>\n",
       "      <td>161105235</td>\n",
       "      <td>&lt;NA&gt;</td>\n",
       "      <td>&lt;NA&gt;</td>\n",
       "      <td>161105235</td>\n",
       "      <td>161105235</td>\n",
       "      <td>&lt;NA&gt;</td>\n",
       "      <td>&lt;NA&gt;</td>\n",
       "    </tr>\n",
       "    <tr>\n",
       "      <th>840312</th>\n",
       "      <td>ENST00000665141</td>\n",
       "      <td>ENSE00003886956</td>\n",
       "      <td>&lt;NA&gt;</td>\n",
       "      <td>&lt;NA&gt;</td>\n",
       "      <td>&lt;NA&gt;</td>\n",
       "      <td>&lt;NA&gt;</td>\n",
       "      <td>56187603</td>\n",
       "      <td>56187603</td>\n",
       "      <td>&lt;NA&gt;</td>\n",
       "      <td>&lt;NA&gt;</td>\n",
       "    </tr>\n",
       "    <tr>\n",
       "      <th>886473</th>\n",
       "      <td>ENST00000382540</td>\n",
       "      <td>ENSE00001694579</td>\n",
       "      <td>&lt;NA&gt;</td>\n",
       "      <td>&lt;NA&gt;</td>\n",
       "      <td>&lt;NA&gt;</td>\n",
       "      <td>&lt;NA&gt;</td>\n",
       "      <td>24632719</td>\n",
       "      <td>24632719</td>\n",
       "      <td>24632719</td>\n",
       "      <td>24632719</td>\n",
       "    </tr>\n",
       "    <tr>\n",
       "      <th>1094476</th>\n",
       "      <td>ENST00000651092</td>\n",
       "      <td>ENSE00003844171</td>\n",
       "      <td>114768061</td>\n",
       "      <td>114768061</td>\n",
       "      <td>&lt;NA&gt;</td>\n",
       "      <td>&lt;NA&gt;</td>\n",
       "      <td>114768061</td>\n",
       "      <td>114768061</td>\n",
       "      <td>&lt;NA&gt;</td>\n",
       "      <td>&lt;NA&gt;</td>\n",
       "    </tr>\n",
       "    <tr>\n",
       "      <th>1185720</th>\n",
       "      <td>ENST00000693234</td>\n",
       "      <td>ENSE00003926046</td>\n",
       "      <td>&lt;NA&gt;</td>\n",
       "      <td>&lt;NA&gt;</td>\n",
       "      <td>&lt;NA&gt;</td>\n",
       "      <td>&lt;NA&gt;</td>\n",
       "      <td>864270</td>\n",
       "      <td>864270</td>\n",
       "      <td>&lt;NA&gt;</td>\n",
       "      <td>&lt;NA&gt;</td>\n",
       "    </tr>\n",
       "    <tr>\n",
       "      <th>1638791</th>\n",
       "      <td>ENST00000696141</td>\n",
       "      <td>ENSE00003966141</td>\n",
       "      <td>&lt;NA&gt;</td>\n",
       "      <td>&lt;NA&gt;</td>\n",
       "      <td>31299510</td>\n",
       "      <td>31299510</td>\n",
       "      <td>31299510</td>\n",
       "      <td>31299510</td>\n",
       "      <td>&lt;NA&gt;</td>\n",
       "      <td>&lt;NA&gt;</td>\n",
       "    </tr>\n",
       "  </tbody>\n",
       "</table>\n",
       "</div>"
      ],
      "text/plain": [
       "          ensembl_trs_id  ensembl_exon_id  5utr_start   5utr_end  3utr_start  \\\n",
       "36308    ENST00000617794  ENSE00003745889        <NA>       <NA>        <NA>   \n",
       "94418    ENST00000655539  ENSE00003859038        <NA>       <NA>        <NA>   \n",
       "128296   ENST00000668966  ENSE00003871022        <NA>       <NA>        <NA>   \n",
       "151289   ENST00000655121  ENSE00003874120        <NA>       <NA>        <NA>   \n",
       "171364   ENST00000658440  ENSE00003858299        <NA>       <NA>        <NA>   \n",
       "184313   ENST00000664259  ENSE00003863974        <NA>       <NA>        <NA>   \n",
       "221838   ENST00000637577  ENSE00003832688        <NA>       <NA>        <NA>   \n",
       "281327   ENST00000439769  ENSE00003831741        <NA>       <NA>    43540934   \n",
       "286564   ENST00000658725  ENSE00003888255        <NA>       <NA>        <NA>   \n",
       "286653   ENST00000654287  ENSE00003888255        <NA>       <NA>        <NA>   \n",
       "290495   ENST00000669345  ENSE00003879568        <NA>       <NA>        <NA>   \n",
       "517836   ENST00000690369  ENSE00003938329        <NA>       <NA>        <NA>   \n",
       "523408   ENST00000514657  ENSE00003854704        <NA>       <NA>        <NA>   \n",
       "527517   ENST00000648684  ENSE00003831437        <NA>       <NA>        <NA>   \n",
       "688649   ENST00000659571  ENSE00003877224        <NA>       <NA>        <NA>   \n",
       "694410   ENST00000665256  ENSE00003856218        <NA>       <NA>        <NA>   \n",
       "695602   ENST00000523617  ENSE00003873970        <NA>       <NA>        <NA>   \n",
       "739241   ENST00000634941  ENSE00003873611        <NA>       <NA>        <NA>   \n",
       "748721   ENST00000666128  ENSE00003884993        <NA>       <NA>        <NA>   \n",
       "804073   ENST00000497811  ENSE00003858342        <NA>       <NA>        <NA>   \n",
       "809582   ENST00000476999  ENSE00003844926   161105235  161105235        <NA>   \n",
       "840312   ENST00000665141  ENSE00003886956        <NA>       <NA>        <NA>   \n",
       "886473   ENST00000382540  ENSE00001694579        <NA>       <NA>        <NA>   \n",
       "1094476  ENST00000651092  ENSE00003844171   114768061  114768061        <NA>   \n",
       "1185720  ENST00000693234  ENSE00003926046        <NA>       <NA>        <NA>   \n",
       "1638791  ENST00000696141  ENSE00003966141        <NA>       <NA>    31299510   \n",
       "\n",
       "         3utr_end  exon_start   exon_end  cds_start    cds_end  \n",
       "36308        <NA>   195798554  195798554  195798554  195798554  \n",
       "94418        <NA>    78787479   78787479       <NA>       <NA>  \n",
       "128296       <NA>   105707837  105707837       <NA>       <NA>  \n",
       "151289       <NA>    56137306   56137306       <NA>       <NA>  \n",
       "171364       <NA>     4243823    4243823       <NA>       <NA>  \n",
       "184313       <NA>    19753084   19753084       <NA>       <NA>  \n",
       "221838       <NA>   131795809  131795809       <NA>       <NA>  \n",
       "281327   43540934    43540934   43540934       <NA>       <NA>  \n",
       "286564       <NA>     5446045    5446045       <NA>       <NA>  \n",
       "286653       <NA>     5446045    5446045       <NA>       <NA>  \n",
       "290495       <NA>    38923638   38923638       <NA>       <NA>  \n",
       "517836       <NA>    50474786   50474786       <NA>       <NA>  \n",
       "523408       <NA>   122722214  122722214       <NA>       <NA>  \n",
       "527517       <NA>     2768091    2768091       <NA>       <NA>  \n",
       "688649       <NA>   113111410  113111410       <NA>       <NA>  \n",
       "694410       <NA>   153412091  153412091       <NA>       <NA>  \n",
       "695602       <NA>   173807791  173807791       <NA>       <NA>  \n",
       "739241       <NA>   127499730  127499730       <NA>       <NA>  \n",
       "748721       <NA>   110511060  110511060       <NA>       <NA>  \n",
       "804073       <NA>   107855313  107855313       <NA>       <NA>  \n",
       "809582       <NA>   161105235  161105235       <NA>       <NA>  \n",
       "840312       <NA>    56187603   56187603       <NA>       <NA>  \n",
       "886473       <NA>    24632719   24632719   24632719   24632719  \n",
       "1094476      <NA>   114768061  114768061       <NA>       <NA>  \n",
       "1185720      <NA>      864270     864270       <NA>       <NA>  \n",
       "1638791  31299510    31299510   31299510       <NA>       <NA>  "
      ]
     },
     "execution_count": 134,
     "metadata": {},
     "output_type": "execute_result"
    }
   ],
   "source": [
    "ens_exons[ens_exons['exon_start'] == ens_exons['exon_end']]"
   ]
  },
  {
   "cell_type": "code",
   "execution_count": 59,
   "id": "a33adb68-cc5a-4971-bad4-bd85d01b5cfb",
   "metadata": {},
   "outputs": [
    {
     "data": {
      "text/html": [
       "<div>\n",
       "<style scoped>\n",
       "    .dataframe tbody tr th:only-of-type {\n",
       "        vertical-align: middle;\n",
       "    }\n",
       "\n",
       "    .dataframe tbody tr th {\n",
       "        vertical-align: top;\n",
       "    }\n",
       "\n",
       "    .dataframe thead th {\n",
       "        text-align: right;\n",
       "    }\n",
       "</style>\n",
       "<table border=\"1\" class=\"dataframe\">\n",
       "  <thead>\n",
       "    <tr style=\"text-align: right;\">\n",
       "      <th></th>\n",
       "      <th>ensembl_trs_id</th>\n",
       "      <th>trs_type</th>\n",
       "      <th>cds_start</th>\n",
       "      <th>cds_end</th>\n",
       "    </tr>\n",
       "  </thead>\n",
       "  <tbody>\n",
       "    <tr>\n",
       "      <th>45914</th>\n",
       "      <td>ENST00000406644</td>\n",
       "      <td>protein_coding</td>\n",
       "      <td>41367533</td>\n",
       "      <td>41395960</td>\n",
       "    </tr>\n",
       "    <tr>\n",
       "      <th>45937</th>\n",
       "      <td>ENST00000266304</td>\n",
       "      <td>protein_coding</td>\n",
       "      <td>41382045</td>\n",
       "      <td>41395960</td>\n",
       "    </tr>\n",
       "    <tr>\n",
       "      <th>45942</th>\n",
       "      <td>ENST00000413942</td>\n",
       "      <td>protein_coding</td>\n",
       "      <td>41382935</td>\n",
       "      <td>41394274</td>\n",
       "    </tr>\n",
       "  </tbody>\n",
       "</table>\n",
       "</div>"
      ],
      "text/plain": [
       "        ensembl_trs_id        trs_type  cds_start   cds_end\n",
       "45914  ENST00000406644  protein_coding   41367533  41395960\n",
       "45937  ENST00000266304  protein_coding   41382045  41395960\n",
       "45942  ENST00000413942  protein_coding   41382935  41394274"
      ]
     },
     "execution_count": 59,
     "metadata": {},
     "output_type": "execute_result"
    }
   ],
   "source": [
    "gene_sub"
   ]
  },
  {
   "cell_type": "code",
   "execution_count": 82,
   "id": "71baf769-52f5-4a2a-9d37-bc287d8437b9",
   "metadata": {},
   "outputs": [],
   "source": [
    "cds_sub = ens_exons[ens_exons['ensembl_trs_id'] == 'ENST00000484142'].iloc[:, -2:].dropna().to_numpy()"
   ]
  },
  {
   "cell_type": "code",
   "execution_count": 83,
   "id": "e5e55dbc-7eae-4e9c-8bc2-778b358b0e3c",
   "metadata": {},
   "outputs": [
    {
     "data": {
      "text/plain": [
       "array([63842186, 63842204, 63856306, 63856433, 63857829, 63857863],\n",
       "      dtype=object)"
      ]
     },
     "execution_count": 83,
     "metadata": {},
     "output_type": "execute_result"
    }
   ],
   "source": [
    "np.sort(cds_sub.ravel())"
   ]
  },
  {
   "cell_type": "code",
   "execution_count": 79,
   "id": "40bfbc4a-6d41-48b9-b698-e2c8aa7b6d38",
   "metadata": {},
   "outputs": [
    {
     "data": {
      "text/html": [
       "<div>\n",
       "<style scoped>\n",
       "    .dataframe tbody tr th:only-of-type {\n",
       "        vertical-align: middle;\n",
       "    }\n",
       "\n",
       "    .dataframe tbody tr th {\n",
       "        vertical-align: top;\n",
       "    }\n",
       "\n",
       "    .dataframe thead th {\n",
       "        text-align: right;\n",
       "    }\n",
       "</style>\n",
       "<table border=\"1\" class=\"dataframe\">\n",
       "  <thead>\n",
       "    <tr style=\"text-align: right;\">\n",
       "      <th></th>\n",
       "      <th>ensembl_gene_name</th>\n",
       "      <th>ensembl_trs_id</th>\n",
       "      <th>ensembl_exon_id</th>\n",
       "      <th>5utr_start</th>\n",
       "      <th>5utr_end</th>\n",
       "      <th>3utr_start</th>\n",
       "      <th>3utr_end</th>\n",
       "      <th>exon_start</th>\n",
       "      <th>exon_end</th>\n",
       "      <th>cds_start</th>\n",
       "      <th>cds_end</th>\n",
       "    </tr>\n",
       "  </thead>\n",
       "  <tbody>\n",
       "    <tr>\n",
       "      <th>1194278</th>\n",
       "      <td>UGP2</td>\n",
       "      <td>ENST00000484142</td>\n",
       "      <td>ENSE00001873492</td>\n",
       "      <td>63840954</td>\n",
       "      <td>63841232</td>\n",
       "      <td>&lt;NA&gt;</td>\n",
       "      <td>&lt;NA&gt;</td>\n",
       "      <td>63840954</td>\n",
       "      <td>63841232</td>\n",
       "      <td>&lt;NA&gt;</td>\n",
       "      <td>&lt;NA&gt;</td>\n",
       "    </tr>\n",
       "    <tr>\n",
       "      <th>1194279</th>\n",
       "      <td>UGP2</td>\n",
       "      <td>ENST00000484142</td>\n",
       "      <td>ENSE00001907097</td>\n",
       "      <td>63842059</td>\n",
       "      <td>63842185</td>\n",
       "      <td>&lt;NA&gt;</td>\n",
       "      <td>&lt;NA&gt;</td>\n",
       "      <td>63842059</td>\n",
       "      <td>63842204</td>\n",
       "      <td>63842186</td>\n",
       "      <td>63842204</td>\n",
       "    </tr>\n",
       "    <tr>\n",
       "      <th>1194280</th>\n",
       "      <td>UGP2</td>\n",
       "      <td>ENST00000484142</td>\n",
       "      <td>ENSE00003645549</td>\n",
       "      <td>&lt;NA&gt;</td>\n",
       "      <td>&lt;NA&gt;</td>\n",
       "      <td>&lt;NA&gt;</td>\n",
       "      <td>&lt;NA&gt;</td>\n",
       "      <td>63856306</td>\n",
       "      <td>63856433</td>\n",
       "      <td>63856306</td>\n",
       "      <td>63856433</td>\n",
       "    </tr>\n",
       "    <tr>\n",
       "      <th>1194281</th>\n",
       "      <td>UGP2</td>\n",
       "      <td>ENST00000484142</td>\n",
       "      <td>ENSE00003905523</td>\n",
       "      <td>&lt;NA&gt;</td>\n",
       "      <td>&lt;NA&gt;</td>\n",
       "      <td>&lt;NA&gt;</td>\n",
       "      <td>&lt;NA&gt;</td>\n",
       "      <td>63857829</td>\n",
       "      <td>63857863</td>\n",
       "      <td>63857829</td>\n",
       "      <td>63857863</td>\n",
       "    </tr>\n",
       "  </tbody>\n",
       "</table>\n",
       "</div>"
      ],
      "text/plain": [
       "        ensembl_gene_name   ensembl_trs_id  ensembl_exon_id  5utr_start  \\\n",
       "1194278              UGP2  ENST00000484142  ENSE00001873492    63840954   \n",
       "1194279              UGP2  ENST00000484142  ENSE00001907097    63842059   \n",
       "1194280              UGP2  ENST00000484142  ENSE00003645549        <NA>   \n",
       "1194281              UGP2  ENST00000484142  ENSE00003905523        <NA>   \n",
       "\n",
       "         5utr_end  3utr_start  3utr_end  exon_start  exon_end  cds_start  \\\n",
       "1194278  63841232        <NA>      <NA>    63840954  63841232       <NA>   \n",
       "1194279  63842185        <NA>      <NA>    63842059  63842204   63842186   \n",
       "1194280      <NA>        <NA>      <NA>    63856306  63856433   63856306   \n",
       "1194281      <NA>        <NA>      <NA>    63857829  63857863   63857829   \n",
       "\n",
       "          cds_end  \n",
       "1194278      <NA>  \n",
       "1194279  63842204  \n",
       "1194280  63856433  \n",
       "1194281  63857863  "
      ]
     },
     "execution_count": 79,
     "metadata": {},
     "output_type": "execute_result"
    }
   ],
   "source": [
    "ens_exons[ens_exons['ensembl_trs_id'] == 'ENST00000484142']"
   ]
  },
  {
   "cell_type": "code",
   "execution_count": 76,
   "id": "661fb01d-f079-4d58-bc5c-46c51a603479",
   "metadata": {},
   "outputs": [],
   "source": [
    "def dup(gene):\n",
    "    v = ens_min[(ens_min['ensembl_gene_name'] == gene) & (ens_min['trs_type'] == 'protein_coding')]['ensembl_trs_id'].values\n",
    "    cdsrg = []\n",
    "    \n",
    "    for trs in v:\n",
    "        cdsrg.append(np.sort(exons_int_safe[exons_int_safe['ensembl_trs_id'] == trs].iloc[:, -2:].to_numpy().ravel()))\n",
    "    \n",
    "    hits = []\n",
    "    \n",
    "    for i in combinations(range(len(cdsrg)), 2):\n",
    "        if np.array_equal(cdsrg[i[0]], cdsrg[i[1]]):\n",
    "            hits.append(list(v[list(i)]))\n",
    "    \n",
    "    if hits:\n",
    "        return hits\n",
    "    else:\n",
    "        return np.nan"
   ]
  },
  {
   "cell_type": "code",
   "execution_count": 75,
   "id": "d6de3496-b75c-4d38-9b56-54b9603a8fc2",
   "metadata": {},
   "outputs": [
    {
     "data": {
      "text/plain": [
       "[['ENST00000651177', 'ENST00000338981']]"
      ]
     },
     "execution_count": 75,
     "metadata": {},
     "output_type": "execute_result"
    }
   ],
   "source": [
    "dup('USP9Y')"
   ]
  },
  {
   "cell_type": "code",
   "execution_count": 78,
   "id": "82123c11-f6ab-472c-a42d-f478e1f63094",
   "metadata": {},
   "outputs": [
    {
     "name": "stdout",
     "output_type": "stream",
     "text": [
      "Done 16846 out of 16846            \r"
     ]
    }
   ],
   "source": [
    "all_hits = pd.Series(index=genes, dtype='O')\n",
    "for x, g in enumerate(genes):\n",
    "    all_hits[g] = dup(g)\n",
    "    print(f'Done {x+1} out of {len(genes)}            ', end='\\r')"
   ]
  },
  {
   "cell_type": "code",
   "execution_count": 80,
   "id": "e36461d5-bf2a-4927-9614-7a39150bbed0",
   "metadata": {},
   "outputs": [],
   "source": [
    "all_hits2 = all_hits[~all_hits.isna()]"
   ]
  },
  {
   "cell_type": "code",
   "execution_count": 82,
   "id": "3cb9718a-6f99-4e93-9584-1b1029d0630b",
   "metadata": {},
   "outputs": [],
   "source": [
    "all_hits3 = all_hits2.explode()"
   ]
  },
  {
   "cell_type": "code",
   "execution_count": 85,
   "id": "1093b790-cc57-43b6-a237-3f7901662534",
   "metadata": {},
   "outputs": [
    {
     "data": {
      "text/plain": [
       "USP9Y      [ENST00000651177, ENST00000338981]\n",
       "BPY2       [ENST00000331070, ENST00000382585]\n",
       "PCDH11Y    [ENST00000333703, ENST00000622698]\n",
       "BPY2B      [ENST00000382392, ENST00000615850]\n",
       "TGIF2LY    [ENST00000321217, ENST00000559055]\n",
       "                          ...                \n",
       "EIF3I      [ENST00000677760, ENST00000677711]\n",
       "EIF3I      [ENST00000676801, ENST00000677202]\n",
       "EIF3I      [ENST00000676801, ENST00000677711]\n",
       "EIF3I      [ENST00000677202, ENST00000677711]\n",
       "UBAP2L     [ENST00000428931, ENST00000361546]\n",
       "Length: 27300, dtype: object"
      ]
     },
     "execution_count": 85,
     "metadata": {},
     "output_type": "execute_result"
    }
   ],
   "source": [
    "all_hits3"
   ]
  },
  {
   "cell_type": "code",
   "execution_count": 91,
   "id": "36d93220-4219-4487-9bb7-1265d7c35196",
   "metadata": {},
   "outputs": [],
   "source": [
    "all_hits4.to_frame().to_csv('ens_dup.csv')"
   ]
  },
  {
   "cell_type": "code",
   "execution_count": 90,
   "id": "8349fd0f-a0fd-4caf-98f9-307a7362f202",
   "metadata": {},
   "outputs": [],
   "source": [
    "all_hits4 = all_hits3.apply(lambda x: x[1]).drop_duplicates()"
   ]
  },
  {
   "cell_type": "code",
   "execution_count": 92,
   "id": "4aaa7bc2-e98a-4de1-a3e8-d1298b439f74",
   "metadata": {},
   "outputs": [
    {
     "data": {
      "text/plain": [
       "5850"
      ]
     },
     "execution_count": 92,
     "metadata": {},
     "output_type": "execute_result"
    }
   ],
   "source": [
    "all_hits4.index.nunique()"
   ]
  },
  {
   "cell_type": "code",
   "execution_count": 69,
   "id": "b12eb7e7-9a78-4e26-b5e9-24780ce501b5",
   "metadata": {},
   "outputs": [
    {
     "ename": "TypeError",
     "evalue": "The axis argument to unique is not supported for dtype object",
     "output_type": "error",
     "traceback": [
      "\u001b[1;31m---------------------------------------------------------------------------\u001b[0m",
      "\u001b[1;31mTypeError\u001b[0m                                 Traceback (most recent call last)",
      "File \u001b[1;32m~\\AppData\\Local\\Programs\\Python\\Python310\\lib\\site-packages\\numpy\\lib\\arraysetops.py:294\u001b[0m, in \u001b[0;36munique\u001b[1;34m(ar, return_index, return_inverse, return_counts, axis)\u001b[0m\n\u001b[0;32m    293\u001b[0m \u001b[38;5;28;01mif\u001b[39;00m ar\u001b[38;5;241m.\u001b[39mshape[\u001b[38;5;241m1\u001b[39m] \u001b[38;5;241m>\u001b[39m \u001b[38;5;241m0\u001b[39m:\n\u001b[1;32m--> 294\u001b[0m     consolidated \u001b[38;5;241m=\u001b[39m \u001b[43mar\u001b[49m\u001b[38;5;241;43m.\u001b[39;49m\u001b[43mview\u001b[49m\u001b[43m(\u001b[49m\u001b[43mdtype\u001b[49m\u001b[43m)\u001b[49m\n\u001b[0;32m    295\u001b[0m \u001b[38;5;28;01melse\u001b[39;00m:\n\u001b[0;32m    296\u001b[0m     \u001b[38;5;66;03m# If ar.shape[1] == 0, then dtype will be `np.dtype([])`, which is\u001b[39;00m\n\u001b[0;32m    297\u001b[0m     \u001b[38;5;66;03m# a data type with itemsize 0, and the call `ar.view(dtype)` will\u001b[39;00m\n\u001b[0;32m    298\u001b[0m     \u001b[38;5;66;03m# fail.  Instead, we'll use `np.empty` to explicitly create the\u001b[39;00m\n\u001b[0;32m    299\u001b[0m     \u001b[38;5;66;03m# array with shape `(len(ar),)`.  Because `dtype` in this case has\u001b[39;00m\n\u001b[0;32m    300\u001b[0m     \u001b[38;5;66;03m# itemsize 0, the total size of the result is still 0 bytes.\u001b[39;00m\n",
      "File \u001b[1;32m~\\AppData\\Local\\Programs\\Python\\Python310\\lib\\site-packages\\numpy\\core\\_internal.py:494\u001b[0m, in \u001b[0;36m_view_is_safe\u001b[1;34m(oldtype, newtype)\u001b[0m\n\u001b[0;32m    493\u001b[0m \u001b[38;5;28;01mif\u001b[39;00m newtype\u001b[38;5;241m.\u001b[39mhasobject \u001b[38;5;129;01mor\u001b[39;00m oldtype\u001b[38;5;241m.\u001b[39mhasobject:\n\u001b[1;32m--> 494\u001b[0m     \u001b[38;5;28;01mraise\u001b[39;00m \u001b[38;5;167;01mTypeError\u001b[39;00m(\u001b[38;5;124m\"\u001b[39m\u001b[38;5;124mCannot change data-type for object array.\u001b[39m\u001b[38;5;124m\"\u001b[39m)\n\u001b[0;32m    495\u001b[0m \u001b[38;5;28;01mreturn\u001b[39;00m\n",
      "\u001b[1;31mTypeError\u001b[0m: Cannot change data-type for object array.",
      "\nThe above exception was the direct cause of the following exception:\n",
      "\u001b[1;31mTypeError\u001b[0m                                 Traceback (most recent call last)",
      "Input \u001b[1;32mIn [69]\u001b[0m, in \u001b[0;36m<cell line: 7>\u001b[1;34m()\u001b[0m\n\u001b[0;32m      4\u001b[0m \u001b[38;5;28;01mfor\u001b[39;00m trs \u001b[38;5;129;01min\u001b[39;00m v:\n\u001b[0;32m      5\u001b[0m     cdsrg\u001b[38;5;241m.\u001b[39mappend(\u001b[38;5;28mlist\u001b[39m(np\u001b[38;5;241m.\u001b[39msort(exons_int_safe[exons_int_safe[\u001b[38;5;124m'\u001b[39m\u001b[38;5;124mensembl_trs_id\u001b[39m\u001b[38;5;124m'\u001b[39m] \u001b[38;5;241m==\u001b[39m trs]\u001b[38;5;241m.\u001b[39miloc[:, \u001b[38;5;241m-\u001b[39m\u001b[38;5;241m2\u001b[39m:]\u001b[38;5;241m.\u001b[39mto_numpy()\u001b[38;5;241m.\u001b[39mravel())))\n\u001b[1;32m----> 7\u001b[0m unique, indices, inverse \u001b[38;5;241m=\u001b[39m \u001b[43mnp\u001b[49m\u001b[38;5;241;43m.\u001b[39;49m\u001b[43munique\u001b[49m\u001b[43m(\u001b[49m\u001b[43mcdsrg\u001b[49m\u001b[43m,\u001b[49m\u001b[43m \u001b[49m\u001b[43maxis\u001b[49m\u001b[38;5;241;43m=\u001b[39;49m\u001b[38;5;241;43m0\u001b[39;49m\u001b[43m,\u001b[49m\u001b[43m \u001b[49m\u001b[43mreturn_index\u001b[49m\u001b[38;5;241;43m=\u001b[39;49m\u001b[38;5;28;43;01mTrue\u001b[39;49;00m\u001b[43m,\u001b[49m\u001b[43m \u001b[49m\u001b[43mreturn_inverse\u001b[49m\u001b[38;5;241;43m=\u001b[39;49m\u001b[38;5;28;43;01mTrue\u001b[39;49;00m\u001b[43m)\u001b[49m\n",
      "File \u001b[1;32m<__array_function__ internals>:180\u001b[0m, in \u001b[0;36munique\u001b[1;34m(*args, **kwargs)\u001b[0m\n",
      "File \u001b[1;32m~\\AppData\\Local\\Programs\\Python\\Python310\\lib\\site-packages\\numpy\\lib\\arraysetops.py:305\u001b[0m, in \u001b[0;36munique\u001b[1;34m(ar, return_index, return_inverse, return_counts, axis)\u001b[0m\n\u001b[0;32m    302\u001b[0m \u001b[38;5;28;01mexcept\u001b[39;00m \u001b[38;5;167;01mTypeError\u001b[39;00m \u001b[38;5;28;01mas\u001b[39;00m e:\n\u001b[0;32m    303\u001b[0m     \u001b[38;5;66;03m# There's no good way to do this for object arrays, etc...\u001b[39;00m\n\u001b[0;32m    304\u001b[0m     msg \u001b[38;5;241m=\u001b[39m \u001b[38;5;124m'\u001b[39m\u001b[38;5;124mThe axis argument to unique is not supported for dtype \u001b[39m\u001b[38;5;132;01m{dt}\u001b[39;00m\u001b[38;5;124m'\u001b[39m\n\u001b[1;32m--> 305\u001b[0m     \u001b[38;5;28;01mraise\u001b[39;00m \u001b[38;5;167;01mTypeError\u001b[39;00m(msg\u001b[38;5;241m.\u001b[39mformat(dt\u001b[38;5;241m=\u001b[39mar\u001b[38;5;241m.\u001b[39mdtype)) \u001b[38;5;28;01mfrom\u001b[39;00m \u001b[38;5;21;01me\u001b[39;00m\n\u001b[0;32m    307\u001b[0m \u001b[38;5;28;01mdef\u001b[39;00m \u001b[38;5;21mreshape_uniq\u001b[39m(uniq):\n\u001b[0;32m    308\u001b[0m     n \u001b[38;5;241m=\u001b[39m \u001b[38;5;28mlen\u001b[39m(uniq)\n",
      "\u001b[1;31mTypeError\u001b[0m: The axis argument to unique is not supported for dtype object"
     ]
    }
   ],
   "source": [
    "v = ens_min[(ens_min['ensembl_gene_name'] == 'TEF') & (ens_min['trs_type'] == 'protein_coding')]['ensembl_trs_id'].values\n",
    "cdsrg = []\n",
    "\n",
    "for trs in v:\n",
    "    cdsrg.append(list(np.sort(exons_int_safe[exons_int_safe['ensembl_trs_id'] == trs].iloc[:, -2:].to_numpy().ravel())))\n",
    "\n",
    "unique, indices, inverse = np.unique(cdsrg, axis=0, return_index=True, return_inverse=True)"
   ]
  },
  {
   "cell_type": "code",
   "execution_count": 58,
   "id": "0e461112-e48e-49c5-910b-c5976f3bd9af",
   "metadata": {},
   "outputs": [],
   "source": [
    "exons_int_safe = ens_exons.drop(['5utr_start', '5utr_end', '3utr_start', '3utr_end'], axis=1).dropna(subset=['cds_start', 'cds_end'])\n",
    "exons_int_safe.loc[:, ['cds_start', 'cds_end']] = exons_int_safe.loc[:, ['cds_start', 'cds_end']].astype(int)"
   ]
  },
  {
   "cell_type": "code",
   "execution_count": 59,
   "id": "4e1db390-4a63-4e64-be48-0cae8f149c2b",
   "metadata": {},
   "outputs": [
    {
     "data": {
      "text/plain": [
       "array([     4262,      5511,      7445, ..., 154275483, 154273961,\n",
       "       154275701])"
      ]
     },
     "execution_count": 59,
     "metadata": {},
     "output_type": "execute_result"
    }
   ],
   "source": [
    "exons_int_safe.iloc[:,-1].to_numpy()"
   ]
  },
  {
   "cell_type": "code",
   "execution_count": 63,
   "id": "ac74c7bc-ad1b-46fc-af1c-1fbdebb1d21a",
   "metadata": {},
   "outputs": [
    {
     "data": {
      "text/plain": [
       "[[41367533,\n",
       "  41367599,\n",
       "  41387351,\n",
       "  41387668,\n",
       "  41394096,\n",
       "  41394316,\n",
       "  41395745,\n",
       "  41395960],\n",
       " [41382045,\n",
       "  41382201,\n",
       "  41387351,\n",
       "  41387668,\n",
       "  41394096,\n",
       "  41394316,\n",
       "  41395745,\n",
       "  41395960],\n",
       " [41382935, 41382988, 41387351, 41387668, 41394096, 41394274]]"
      ]
     },
     "execution_count": 63,
     "metadata": {},
     "output_type": "execute_result"
    }
   ],
   "source": [
    "cdsrg"
   ]
  },
  {
   "cell_type": "code",
   "execution_count": 64,
   "id": "a68bd303-3ec5-4093-945d-7bf006e0ba72",
   "metadata": {},
   "outputs": [],
   "source": [
    "y = [\n",
    "    [1, 2, 3],\n",
    "    [1, 2, 3],\n",
    "    [3, 4, 5],\n",
    "    [6, 5, 4],\n",
    "    [4, 2, 5],\n",
    "    [4, 2, 5],\n",
    "    [1, 2, 8],\n",
    "    [1, 2, 3]\n",
    "]\n",
    "\n",
    "# Returns unique values of array, indices of that\n",
    "# array, and the indices that would rebuild the original array\n",
    "unique, indices, inverse = np.unique(y, axis=0, return_index=True, return_inverse=True)"
   ]
  },
  {
   "cell_type": "code",
   "execution_count": 67,
   "id": "c9a6ec85-2dfc-4f6d-8cba-d78e1d7883fb",
   "metadata": {},
   "outputs": [
    {
     "data": {
      "text/plain": [
       "[([1, 2, 3], <itertools._grouper at 0x13a50b3c640>),\n",
       " ([3, 4, 5], <itertools._grouper at 0x13a50b3c910>),\n",
       " ([6, 5, 4], <itertools._grouper at 0x13a50b3e3e0>),\n",
       " ([4, 2, 5], <itertools._grouper at 0x13a50b3e860>),\n",
       " ([1, 2, 8], <itertools._grouper at 0x13a50b3c460>),\n",
       " ([1, 2, 3], <itertools._grouper at 0x13a50b3d9f0>)]"
      ]
     },
     "execution_count": 68,
     "metadata": {},
     "output_type": "execute_result"
    }
   ],
   "source": [
    "list(groupby(y)"
   ]
  },
  {
   "cell_type": "code",
   "execution_count": null,
   "id": "37c37aae-f0a4-4f1f-b390-92e378da7d73",
   "metadata": {},
   "outputs": [],
   "source": [
    "gene = 'UGP2'\n",
    "\n",
    "v = ens_min[(ens_min['ensembl_gene_name'] == gene) & (ens_min['trs_type'] == 'protein_coding')]['ensembl_trs_id'].values\n",
    "   \n",
    "exon_ends = np.sort(ens_exons[ens_exons['ensembl_trs_id'].isin(v)].iloc[:, -2:].to_numpy().ravel())\n",
    "    \n",
    "hits = []\n",
    "\n",
    "cds_ends = gene_sub[['cds_start', 'cds_end']].to_numpy()\n",
    "\n",
    "cds_unique = np.sort(np.unique(cds_ends.ravel()))\n",
    "\n",
    "cds_mtx = (cds_unique == cds_ends[..., None]).any(1).astype(int)\n",
    "\n",
    "seq_mtx = np.array((len(gene_sub), len(cds_unique)))"
   ]
  }
 ],
 "metadata": {
  "kernelspec": {
   "display_name": "Python 3 (ipykernel)",
   "language": "python",
   "name": "python3"
  },
  "language_info": {
   "codemirror_mode": {
    "name": "ipython",
    "version": 3
   },
   "file_extension": ".py",
   "mimetype": "text/x-python",
   "name": "python",
   "nbconvert_exporter": "python",
   "pygments_lexer": "ipython3",
   "version": "3.10.4"
  }
 },
 "nbformat": 4,
 "nbformat_minor": 5
}
