{
 "cells": [
  {
   "cell_type": "code",
   "execution_count": 2,
   "id": "629d1c15-ade0-4f37-9f52-54352175da8d",
   "metadata": {},
   "outputs": [],
   "source": [
    "from collections import Counter\n",
    "from itertools import combinations, chain\n",
    "\n",
    "import networkx\n",
    "from networkx import connected_components\n",
    "import numpy as np\n",
    "import pandas as pd"
   ]
  },
  {
   "cell_type": "code",
   "execution_count": 8,
   "id": "eb343caf-8aab-43cc-bed3-641650fa33d1",
   "metadata": {},
   "outputs": [],
   "source": [
    "pd.set_option('display.max_columns', None)"
   ]
  },
  {
   "cell_type": "code",
   "execution_count": 162,
   "id": "46159c79-c431-402e-9c40-d843e0a34830",
   "metadata": {},
   "outputs": [],
   "source": [
    "ens_annot = pd.read_csv('../data/processed/ensembl_annotation_20220705.csv', \n",
    "                        dtype={'chromosome_or_scaffold': 'O', \n",
    "                               '5utr_start': 'Int64', \n",
    "                               '5utr_end': 'Int64', \n",
    "                               '3utr_start': 'Int64', \n",
    "                               '3utr_end': 'Int64', \n",
    "                               'cds_start': 'Int64', \n",
    "                               'cds_end': 'Int64'})\n",
    "\n",
    "ens_exons = pd.read_csv('../data/processed/ensembl_exons_20220705.csv', \n",
    "                        dtype={'5utr_start': 'Int64', \n",
    "                               '5utr_end': 'Int64', \n",
    "                               '3utr_start': 'Int64', \n",
    "                               '3utr_end': 'Int64', \n",
    "                               'cds_start': 'Int64', \n",
    "                               'cds_end': 'Int64'})"
   ]
  },
  {
   "cell_type": "code",
   "execution_count": 163,
   "id": "32e9712a-b5f3-4597-a702-48368d89d794",
   "metadata": {},
   "outputs": [],
   "source": [
    "ens_exons = ens_exons.set_index(['ensembl_trs_id', 'ensembl_exon_id'])\n",
    "ens_annot = ens_annot.set_index('ensembl_trs_id')"
   ]
  },
  {
   "cell_type": "code",
   "execution_count": 141,
   "id": "70c787b6-2ff1-4438-956a-a5006de3ba0a",
   "metadata": {},
   "outputs": [],
   "source": [
    "def connect_components(edge_list):\n",
    "    G = networkx.Graph()\n",
    "    G.add_edges_from(edge_list)\n",
    "    \n",
    "    return [list(i) for i in connected_components(G)]"
   ]
  },
  {
   "cell_type": "code",
   "execution_count": 147,
   "id": "e1b467cd-6719-4ab5-949b-755503a9e5ab",
   "metadata": {},
   "outputs": [],
   "source": [
    "def extract_duplicate_cds_trs(gene):\n",
    "    trs_pc_cds_arrs = []\n",
    "    \n",
    "    trs_pc = ens_annot[(ens_annot['ensembl_gene_id'] == gene) & (ens_annot['trs_type'] == 'protein_coding')].index.values\n",
    "    \n",
    "    for trs in trs_pc:\n",
    "        cds_arr = np.sort(ens_exons.loc[trs, ['cds_start', 'cds_end']].dropna().to_numpy().ravel())\n",
    "        trs_pc_cds_arrs.append(cds_arr)\n",
    "    \n",
    "    results = []\n",
    "    \n",
    "    # Pairwise check of equality between cds arrays = transcripts\n",
    "    for pair in combinations(range(len(trs_pc_cds_arrs)), 2):\n",
    "        if np.array_equal(trs_pc_cds_arrs[pair[0]], trs_pc_cds_arrs[pair[1]]):\n",
    "            results.append(list(trs_pc[list(pair)]))\n",
    "    \n",
    "    # Connect pairs of trs with equal cds if possible\n",
    "    if results:\n",
    "        results = connect_components(results)\n",
    "        return results\n",
    "    else:\n",
    "        return np.nan"
   ]
  },
  {
   "cell_type": "code",
   "execution_count": 164,
   "id": "1f279065-0469-426e-9ac3-962dea4f8f92",
   "metadata": {},
   "outputs": [],
   "source": [
    "ens_annot = ens_annot[ens_annot['chromosome_or_scaffold'].isin([str(i) for i in list(range(1,23))] + ['X', 'Y'])]\n",
    "genes_pc = ens_annot[ens_annot['trs_type'] == 'protein_coding'].groupby('ensembl_gene_id').size()\n",
    "genes_pc = genes_pc[genes_pc >= 2].index"
   ]
  },
  {
   "cell_type": "code",
   "execution_count": 145,
   "id": "f9272456-e9a5-41f1-8dd2-96feda5e6976",
   "metadata": {},
   "outputs": [
    {
     "data": {
      "text/plain": [
       "15211"
      ]
     },
     "execution_count": 145,
     "metadata": {},
     "output_type": "execute_result"
    }
   ],
   "source": [
    "len(genes_pc)"
   ]
  },
  {
   "cell_type": "code",
   "execution_count": 148,
   "id": "272f6b3d-6c5c-46d4-98f7-004d9097fd8b",
   "metadata": {},
   "outputs": [
    {
     "name": "stdout",
     "output_type": "stream",
     "text": [
      "Done 15211 out of 15211        \r"
     ]
    }
   ],
   "source": [
    "genes_dup = pd.Series(index=genes_pc, dtype='O')\n",
    "\n",
    "for i, gene in enumerate(genes_pc):\n",
    "    genes_dup[gene] = extract_duplicate_cds_trs(gene)\n",
    "    print(f'Done {i+1} out of {len(genes_dup)}        ', end='\\r')"
   ]
  },
  {
   "cell_type": "code",
   "execution_count": 151,
   "id": "49d78125-6c3b-4d8b-bd6b-175764dac376",
   "metadata": {},
   "outputs": [],
   "source": [
    "genes_dup = genes_dup[~genes_dup.isna()]"
   ]
  },
  {
   "cell_type": "code",
   "execution_count": 165,
   "id": "5973d839-0182-4de0-9ed6-0b352d090cb4",
   "metadata": {},
   "outputs": [],
   "source": [
    "ens_annot['_protein_id'] = ens_annot['uniprot_isoform_id'].combine_first(ens_annot['uniprot_trembl_id']).combine_first(ens_annot['ensembl_protein_id'])"
   ]
  },
  {
   "cell_type": "code",
   "execution_count": 153,
   "id": "de989b86-04ca-4e52-b02c-5b876ee37eb0",
   "metadata": {},
   "outputs": [],
   "source": [
    "dup_all = genes_dup.explode().explode().values"
   ]
  },
  {
   "cell_type": "code",
   "execution_count": 166,
   "id": "d4f65d44-0c60-4e7e-8b7a-be4f7957598b",
   "metadata": {},
   "outputs": [],
   "source": [
    "assert ~ens_annot[ens_annot.index.isin(dup_all)]['_protein_id'].isna().any()"
   ]
  },
  {
   "cell_type": "code",
   "execution_count": 155,
   "id": "08554b45-8a3e-4ba8-9041-04fc1b894ac5",
   "metadata": {},
   "outputs": [],
   "source": [
    "genes_dup = genes_dup.explode()"
   ]
  },
  {
   "cell_type": "code",
   "execution_count": 156,
   "id": "ba0597bd-dda5-4816-97c3-5238c3b50ebe",
   "metadata": {},
   "outputs": [
    {
     "name": "stdout",
     "output_type": "stream",
     "text": [
      "7393 / 7393        \r"
     ]
    }
   ],
   "source": [
    "conflicts = []\n",
    "uniprot_id_conflicts = []\n",
    "\n",
    "for i, j in enumerate(genes_dup.values):\n",
    "    prot_ids = ens_annot.loc[j, '_protein_id'].to_numpy()\n",
    "    \n",
    "    if not (prot_ids == prot_ids[0]).all():\n",
    "        conflicts.append(i)\n",
    "        prot_ids_ranked = ens_annot.loc[j, ['uniprot_isoform_id', 'uniprot_trembl_id', 'ensembl_protein_id']].melt().dropna()\n",
    "        if 'uniprot_isoform_id' in prot_ids_ranked['variable'].to_list():\n",
    "            uniprot_id_conflicts.append(i)\n",
    "        ens_annot.loc[j, '_protein_id'] = prot_ids_ranked['value'].iloc[0]\n",
    "        \n",
    "    print(f'{i+1} / {len(genes_dup.values)}        ', end='\\r')"
   ]
  },
  {
   "cell_type": "code",
   "execution_count": 168,
   "id": "06f1f324-df21-4d31-b747-abc87f5cac2e",
   "metadata": {},
   "outputs": [
    {
     "data": {
      "text/plain": [
       "871"
      ]
     },
     "execution_count": 168,
     "metadata": {},
     "output_type": "execute_result"
    }
   ],
   "source": [
    "len(conflicts)"
   ]
  },
  {
   "cell_type": "code",
   "execution_count": 169,
   "id": "3a6b1957-1dc0-4585-a5bf-bd6cf12745b9",
   "metadata": {},
   "outputs": [
    {
     "data": {
      "text/plain": [
       "623"
      ]
     },
     "execution_count": 169,
     "metadata": {},
     "output_type": "execute_result"
    }
   ],
   "source": [
    "len(uniprot_id_conflicts)"
   ]
  },
  {
   "cell_type": "code",
   "execution_count": 159,
   "id": "4ada6860-0159-4450-ae3e-d0a34ef0607e",
   "metadata": {},
   "outputs": [
    {
     "data": {
      "text/plain": [
       "ensembl_gene_id\n",
       "ENSG00000164733    39\n",
       "ENSG00000121940    33\n",
       "ENSG00000169255    31\n",
       "ENSG00000157601    30\n",
       "ENSG00000087053    29\n",
       "                   ..\n",
       "ENSG00000134313     2\n",
       "ENSG00000134308     2\n",
       "ENSG00000134291     2\n",
       "ENSG00000134287     2\n",
       "ENSG00000145725     2\n",
       "Length: 7393, dtype: int64"
      ]
     },
     "execution_count": 159,
     "metadata": {},
     "output_type": "execute_result"
    }
   ],
   "source": [
    "genes_dup.apply(lambda x: len(x)).sort_values(ascending=False)"
   ]
  },
  {
   "cell_type": "code",
   "execution_count": 175,
   "id": "d64cde91-e091-4a6b-9af4-136540c75295",
   "metadata": {},
   "outputs": [],
   "source": [
    "ens_annot['_protein_id'] = ens_annot['_protein_id'].combine_first(ens_annot['uniprot_isoform_id']).combine_first(ens_annot['uniprot_trembl_id']).combine_first(ens_annot['ensembl_protein_id'])"
   ]
  },
  {
   "cell_type": "code",
   "execution_count": 181,
   "id": "bec38110-83a5-4127-8991-166b9e95068d",
   "metadata": {},
   "outputs": [],
   "source": [
    "assert (~ens_annot.loc[ens_annot['trs_type'] == 'protein_coding', '_protein_id'].isna()).all()"
   ]
  },
  {
   "cell_type": "code",
   "execution_count": 182,
   "id": "4cb919f0-3861-4fc9-8d1a-9716411f46a7",
   "metadata": {},
   "outputs": [],
   "source": [
    "ens_annot.to_csv('../data/interim/ensembl_annotation_with_dups_20220705.csv')"
   ]
  },
  {
   "cell_type": "code",
   "execution_count": null,
   "id": "436db808-f140-4b23-a171-527e9edf7d37",
   "metadata": {},
   "outputs": [],
   "source": []
  }
 ],
 "metadata": {
  "kernelspec": {
   "display_name": "Python 3 (ipykernel)",
   "language": "python",
   "name": "python3"
  },
  "language_info": {
   "codemirror_mode": {
    "name": "ipython",
    "version": 3
   },
   "file_extension": ".py",
   "mimetype": "text/x-python",
   "name": "python",
   "nbconvert_exporter": "python",
   "pygments_lexer": "ipython3",
   "version": "3.10.4"
  }
 },
 "nbformat": 4,
 "nbformat_minor": 5
}
