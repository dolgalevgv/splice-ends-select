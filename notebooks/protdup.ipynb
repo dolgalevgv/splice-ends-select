{
 "cells": [
  {
   "cell_type": "code",
   "execution_count": 310,
   "id": "b43d55fb-ccbc-4d8a-b301-0a231a31dec3",
   "metadata": {},
   "outputs": [],
   "source": [
    "from collections import Counter\n",
    "from itertools import combinations, count, chain\n",
    "\n",
    "import networkx\n",
    "from networkx import connected_components\n",
    "import numpy as np\n",
    "import pandas as pd"
   ]
  },
  {
   "cell_type": "code",
   "execution_count": 21,
   "id": "d4b6f57b-2a5e-4766-b884-9e779f93b466",
   "metadata": {},
   "outputs": [],
   "source": [
    "ens_main = pd.read_csv('data/ens_main_int.csv', dtype={'chromosome_or_scaffold':'O', '5utr_start': 'Int64', '5utr_end': 'Int64', '3utr_start': 'Int64', '3utr_end': 'Int64', 'cds_start': 'Int64', 'cds_end': 'Int64'})\n",
    "ens_exons = pd.read_csv('data/ens_exons_int.csv', dtype={'5utr_start': 'Int64', '5utr_end': 'Int64', '3utr_start': 'Int64', '3utr_end': 'Int64', 'cds_start': 'Int64', 'cds_end': 'Int64'})"
   ]
  },
  {
   "cell_type": "code",
   "execution_count": 22,
   "id": "aecbf82a-b49a-4488-b436-92ebaeaf3730",
   "metadata": {},
   "outputs": [],
   "source": [
    "ens_main = ens_main[ens_main['chromosome_or_scaffold'].isin([str(i) for i in list(range(1,23))] + ['X', 'Y'])]\n",
    "ens_main = ens_main[ens_main['gene_type'] == 'protein_coding']\n",
    "ens_main = ens_main[~ens_main['ensembl_gene_name'].isna()]\n",
    "gene_size = ens_main.groupby('ensembl_gene_name').size()\n",
    "gene_size = gene_size[gene_size > 1].index.to_list()\n",
    "ens_main = ens_main[ens_main['ensembl_gene_name'].isin(gene_size)]\n",
    "ens_min = ens_main[['ensembl_gene_name', 'ensembl_trs_id', 'trs_type', 'uniprot_isoform_id', 'uniprot_trembl_id', 'cds_start', 'cds_end']]"
   ]
  },
  {
   "cell_type": "code",
   "execution_count": 31,
   "id": "1030af0d-62f9-4a5c-8602-1f41b6d8f406",
   "metadata": {},
   "outputs": [],
   "source": [
    "exons_int_safe = ens_exons.drop(['5utr_start', '5utr_end', '3utr_start', '3utr_end'], axis=1).dropna(subset=['cds_start', 'cds_end'])\n",
    "exons_int_safe.loc[:, ['cds_start', 'cds_end']] = exons_int_safe.loc[:, ['cds_start', 'cds_end']].astype(int)"
   ]
  },
  {
   "cell_type": "code",
   "execution_count": 26,
   "id": "5d16acae-7c77-4e12-a32a-2eb9abcdbeec",
   "metadata": {},
   "outputs": [
    {
     "data": {
      "text/plain": [
       "16846"
      ]
     },
     "execution_count": 26,
     "metadata": {},
     "output_type": "execute_result"
    }
   ],
   "source": [
    "genes = ens_min['ensembl_gene_name'].unique()\n",
    "len(genes)"
   ]
  },
  {
   "cell_type": "code",
   "execution_count": 38,
   "id": "fae464d1-3e04-4f84-b4d0-641c731654af",
   "metadata": {},
   "outputs": [],
   "source": [
    "def connect_dups(dup_list):\n",
    "    G = networkx.Graph()\n",
    "    \n",
    "    G.add_edges_from(dup_list)\n",
    "    \n",
    "    return [list(i) for i in connected_components(G)]"
   ]
  },
  {
   "cell_type": "code",
   "execution_count": 39,
   "id": "c1df7bea-aaf7-4b8a-aa0c-054573eb5b73",
   "metadata": {},
   "outputs": [],
   "source": [
    "def find_dups(gene):\n",
    "    v = ens_min[(ens_min['ensembl_gene_name'] == gene) & (ens_min['trs_type'] == 'protein_coding')]['ensembl_trs_id'].values\n",
    "    cdsrg = []\n",
    "    \n",
    "    for trs in v:\n",
    "        cdsrg.append(np.sort(exons_int_safe[exons_int_safe['ensembl_trs_id'] == trs].iloc[:, -2:].to_numpy().ravel()))\n",
    "    \n",
    "    hits = []\n",
    "    \n",
    "    for i in combinations(range(len(cdsrg)), 2):\n",
    "        if np.array_equal(cdsrg[i[0]], cdsrg[i[1]]):\n",
    "            hits.append(list(v[list(i)]))\n",
    "            \n",
    "    hits = connect_dups(hits)\n",
    "    \n",
    "    return hits"
   ]
  },
  {
   "cell_type": "code",
   "execution_count": 45,
   "id": "8f8cc868-0ec7-4e49-a5e4-ee1fad0088dd",
   "metadata": {},
   "outputs": [
    {
     "name": "stdout",
     "output_type": "stream",
     "text": [
      "Done 16846 out of 16846        \r"
     ]
    }
   ],
   "source": [
    "all_hits = pd.Series(index=genes, dtype='O')\n",
    "\n",
    "for x, g in enumerate(genes):\n",
    "    all_hits[g] = find_dups(g)\n",
    "    print(f'Done {x+1} out of {len(genes)}        ', end='\\r')"
   ]
  },
  {
   "cell_type": "code",
   "execution_count": 47,
   "id": "6339acbc-db78-4bd4-8ee4-34829752ee6c",
   "metadata": {},
   "outputs": [],
   "source": [
    "all_hits = all_hits.explode()"
   ]
  },
  {
   "cell_type": "code",
   "execution_count": 58,
   "id": "010181a4-9eff-45a3-9d35-0588951923cf",
   "metadata": {},
   "outputs": [],
   "source": [
    "all_hits = all_hits.dropna()"
   ]
  },
  {
   "cell_type": "code",
   "execution_count": 59,
   "id": "6aeb4931-1790-46a2-8555-d3a77ea73554",
   "metadata": {},
   "outputs": [
    {
     "data": {
      "text/plain": [
       "USP9Y                     [ENST00000338981, ENST00000651177]\n",
       "BPY2                      [ENST00000382585, ENST00000331070]\n",
       "PCDH11Y                   [ENST00000333703, ENST00000622698]\n",
       "BPY2B                     [ENST00000615850, ENST00000382392]\n",
       "TGIF2LY                   [ENST00000559055, ENST00000321217]\n",
       "                                 ...                        \n",
       "CTPS1      [ENST00000649124, ENST00000470271, ENST0000037...\n",
       "CTPS1                     [ENST00000696111, ENST00000696110]\n",
       "AGT        [ENST00000681514, ENST00000366667, ENST0000068...\n",
       "EIF3I      [ENST00000677701, ENST00000677711, ENST0000067...\n",
       "UBAP2L                    [ENST00000361546, ENST00000428931]\n",
       "Length: 7376, dtype: object"
      ]
     },
     "execution_count": 59,
     "metadata": {},
     "output_type": "execute_result"
    }
   ],
   "source": [
    "all_hits"
   ]
  },
  {
   "cell_type": "code",
   "execution_count": 56,
   "id": "1914d587-02f1-4170-92e9-56aa6f7b9b54",
   "metadata": {},
   "outputs": [
    {
     "name": "stderr",
     "output_type": "stream",
     "text": [
      "C:\\Users\\Dynev\\AppData\\Local\\Temp\\ipykernel_14536\\3031323621.py:1: SettingWithCopyWarning: \n",
      "A value is trying to be set on a copy of a slice from a DataFrame.\n",
      "Try using .loc[row_indexer,col_indexer] = value instead\n",
      "\n",
      "See the caveats in the documentation: https://pandas.pydata.org/pandas-docs/stable/user_guide/indexing.html#returning-a-view-versus-a-copy\n",
      "  ens_min['_protein_id'] = ens_min['uniprot_isoform_id'].combine_first(ens_min['uniprot_trembl_id'])\n"
     ]
    }
   ],
   "source": [
    "ens_min['_protein_id'] = ens_min['uniprot_isoform_id'].combine_first(ens_min['uniprot_trembl_id'])"
   ]
  },
  {
   "cell_type": "code",
   "execution_count": 120,
   "id": "b2d39f7b-4812-4d0c-b250-d358e3ebaecf",
   "metadata": {},
   "outputs": [
    {
     "name": "stderr",
     "output_type": "stream",
     "text": [
      "C:\\Users\\Dynev\\AppData\\Local\\Temp\\ipykernel_14536\\4198038661.py:1: SettingWithCopyWarning: \n",
      "A value is trying to be set on a copy of a slice from a DataFrame\n",
      "\n",
      "See the caveats in the documentation: https://pandas.pydata.org/pandas-docs/stable/user_guide/indexing.html#returning-a-view-versus-a-copy\n",
      "  ens_min.loc[0, '_id_warning'] = np.nan\n"
     ]
    }
   ],
   "source": [
    "ens_min.loc[0, '_id_warning'] = np.nan"
   ]
  },
  {
   "cell_type": "code",
   "execution_count": 151,
   "id": "3284b267-a02f-420e-85a3-9aa3da2480c4",
   "metadata": {},
   "outputs": [
    {
     "name": "stdout",
     "output_type": "stream",
     "text": [
      "7376 / 7376         \r"
     ]
    }
   ],
   "source": [
    "xc = count()\n",
    "\n",
    "for j, i in enumerate(all_hits.values):\n",
    "    v = ens_min.loc[i, :]\n",
    "    try:\n",
    "        if not np.all((v.iloc[:, -2].to_numpy()) == v.iloc[0,-2]):\n",
    "            cons_id = pd.concat([v['uniprot_isoform_id'], v['uniprot_trembl_id']]).dropna().to_numpy()\n",
    "\n",
    "            if len(cons_id) != 0:\n",
    "                ens_min.loc[i, '_protein_id'] = cons_id[0]\n",
    "                ens_min.loc[i, '_id_warning'] = '!conf'\n",
    "            else:\n",
    "                if v.iloc[:, -2].isna().all():\n",
    "                    ens_min.loc[i, '_protein_id'] = '_' + str(next(xc))\n",
    "                    ens_min.loc[i, '_id_warning'] = '!nan'\n",
    "                else:\n",
    "                    raise\n",
    "\n",
    "        else:\n",
    "            ens_min.loc[i, '_id_warning'] = 'dup'\n",
    "    except TypeError:\n",
    "        print(v)\n",
    "        raise\n",
    "    print(f'{j+1} / {len(all_hits)}         ', end='\\r')\n",
    "    #if ens_min[ens_min['ensembl_trs_id'] == i[0]]['_protein_id'].item() != np.nan:"
   ]
  },
  {
   "cell_type": "code",
   "execution_count": 115,
   "id": "37a2c140-6782-4159-98a3-c0adcffa47ad",
   "metadata": {},
   "outputs": [
    {
     "data": {
      "text/html": [
       "<div>\n",
       "<style scoped>\n",
       "    .dataframe tbody tr th:only-of-type {\n",
       "        vertical-align: middle;\n",
       "    }\n",
       "\n",
       "    .dataframe tbody tr th {\n",
       "        vertical-align: top;\n",
       "    }\n",
       "\n",
       "    .dataframe thead th {\n",
       "        text-align: right;\n",
       "    }\n",
       "</style>\n",
       "<table border=\"1\" class=\"dataframe\">\n",
       "  <thead>\n",
       "    <tr style=\"text-align: right;\">\n",
       "      <th></th>\n",
       "      <th>ensembl_gene_name</th>\n",
       "      <th>ensembl_trs_id</th>\n",
       "      <th>trs_type</th>\n",
       "      <th>uniprot_isoform_id</th>\n",
       "      <th>uniprot_trembl_id</th>\n",
       "      <th>cds_start</th>\n",
       "      <th>cds_end</th>\n",
       "      <th>_protein_id</th>\n",
       "      <th>_id_warning</th>\n",
       "    </tr>\n",
       "  </thead>\n",
       "  <tbody>\n",
       "    <tr>\n",
       "      <th>37721</th>\n",
       "      <td>BRCA2</td>\n",
       "      <td>ENST00000544455</td>\n",
       "      <td>protein_coding</td>\n",
       "      <td>P51587-1</td>\n",
       "      <td>NaN</td>\n",
       "      <td>32316461</td>\n",
       "      <td>32398770</td>\n",
       "      <td>P51587-1</td>\n",
       "      <td>NaN</td>\n",
       "    </tr>\n",
       "    <tr>\n",
       "      <th>37737</th>\n",
       "      <td>BRCA2</td>\n",
       "      <td>ENST00000380152</td>\n",
       "      <td>protein_coding</td>\n",
       "      <td>P51587-1</td>\n",
       "      <td>NaN</td>\n",
       "      <td>32316461</td>\n",
       "      <td>32398770</td>\n",
       "      <td>P51587-1</td>\n",
       "      <td>NaN</td>\n",
       "    </tr>\n",
       "    <tr>\n",
       "      <th>37742</th>\n",
       "      <td>BRCA2</td>\n",
       "      <td>ENST00000680887</td>\n",
       "      <td>protein_coding</td>\n",
       "      <td>NaN</td>\n",
       "      <td>A0A7P0T9D7</td>\n",
       "      <td>32316461</td>\n",
       "      <td>32398770</td>\n",
       "      <td>A0A7P0T9D7</td>\n",
       "      <td>NaN</td>\n",
       "    </tr>\n",
       "  </tbody>\n",
       "</table>\n",
       "</div>"
      ],
      "text/plain": [
       "      ensembl_gene_name   ensembl_trs_id        trs_type uniprot_isoform_id  \\\n",
       "37721             BRCA2  ENST00000544455  protein_coding           P51587-1   \n",
       "37737             BRCA2  ENST00000380152  protein_coding           P51587-1   \n",
       "37742             BRCA2  ENST00000680887  protein_coding                NaN   \n",
       "\n",
       "      uniprot_trembl_id  cds_start   cds_end _protein_id  _id_warning  \n",
       "37721               NaN   32316461  32398770    P51587-1          NaN  \n",
       "37737               NaN   32316461  32398770    P51587-1          NaN  \n",
       "37742        A0A7P0T9D7   32316461  32398770  A0A7P0T9D7          NaN  "
      ]
     },
     "execution_count": 115,
     "metadata": {},
     "output_type": "execute_result"
    }
   ],
   "source": [
    "ens_min[ens_min['ensembl_trs_id'].isin(['ENST00000380152', 'ENST00000680887', 'ENST00000544455'])]"
   ]
  },
  {
   "cell_type": "code",
   "execution_count": 152,
   "id": "f4e52410-f59b-4bfb-95b6-5d064cd6860c",
   "metadata": {},
   "outputs": [
    {
     "data": {
      "text/html": [
       "<div>\n",
       "<style scoped>\n",
       "    .dataframe tbody tr th:only-of-type {\n",
       "        vertical-align: middle;\n",
       "    }\n",
       "\n",
       "    .dataframe tbody tr th {\n",
       "        vertical-align: top;\n",
       "    }\n",
       "\n",
       "    .dataframe thead th {\n",
       "        text-align: right;\n",
       "    }\n",
       "</style>\n",
       "<table border=\"1\" class=\"dataframe\">\n",
       "  <thead>\n",
       "    <tr style=\"text-align: right;\">\n",
       "      <th></th>\n",
       "      <th>ensembl_gene_name</th>\n",
       "      <th>trs_type</th>\n",
       "      <th>uniprot_isoform_id</th>\n",
       "      <th>uniprot_trembl_id</th>\n",
       "      <th>cds_start</th>\n",
       "      <th>cds_end</th>\n",
       "      <th>_protein_id</th>\n",
       "      <th>_id_warning</th>\n",
       "    </tr>\n",
       "    <tr>\n",
       "      <th>ensembl_trs_id</th>\n",
       "      <th></th>\n",
       "      <th></th>\n",
       "      <th></th>\n",
       "      <th></th>\n",
       "      <th></th>\n",
       "      <th></th>\n",
       "      <th></th>\n",
       "      <th></th>\n",
       "    </tr>\n",
       "  </thead>\n",
       "  <tbody>\n",
       "    <tr>\n",
       "      <th>ENST00000543457</th>\n",
       "      <td>OXGR1</td>\n",
       "      <td>protein_coding</td>\n",
       "      <td>Q96P68-1</td>\n",
       "      <td>B2R986</td>\n",
       "      <td>96986746</td>\n",
       "      <td>96987759</td>\n",
       "      <td>Q96P68-1</td>\n",
       "      <td>!conf</td>\n",
       "    </tr>\n",
       "    <tr>\n",
       "      <th>ENST00000541038</th>\n",
       "      <td>OXGR1</td>\n",
       "      <td>protein_coding</td>\n",
       "      <td>NaN</td>\n",
       "      <td>B2R986, F5H6U5</td>\n",
       "      <td>96986746</td>\n",
       "      <td>96987759</td>\n",
       "      <td>Q96P68-1</td>\n",
       "      <td>!conf</td>\n",
       "    </tr>\n",
       "    <tr>\n",
       "      <th>ENST00000541518</th>\n",
       "      <td>OXGR1</td>\n",
       "      <td>protein_coding</td>\n",
       "      <td>NaN</td>\n",
       "      <td>B2R986, F5H3P1</td>\n",
       "      <td>96986746</td>\n",
       "      <td>96987759</td>\n",
       "      <td>Q96P68-1</td>\n",
       "      <td>!conf</td>\n",
       "    </tr>\n",
       "    <tr>\n",
       "      <th>ENST00000298440</th>\n",
       "      <td>OXGR1</td>\n",
       "      <td>protein_coding</td>\n",
       "      <td>Q96P68-1</td>\n",
       "      <td>B2R986</td>\n",
       "      <td>96986746</td>\n",
       "      <td>96987759</td>\n",
       "      <td>Q96P68-1</td>\n",
       "      <td>!conf</td>\n",
       "    </tr>\n",
       "  </tbody>\n",
       "</table>\n",
       "</div>"
      ],
      "text/plain": [
       "                ensembl_gene_name        trs_type uniprot_isoform_id  \\\n",
       "ensembl_trs_id                                                         \n",
       "ENST00000543457             OXGR1  protein_coding           Q96P68-1   \n",
       "ENST00000541038             OXGR1  protein_coding                NaN   \n",
       "ENST00000541518             OXGR1  protein_coding                NaN   \n",
       "ENST00000298440             OXGR1  protein_coding           Q96P68-1   \n",
       "\n",
       "                uniprot_trembl_id  cds_start   cds_end _protein_id _id_warning  \n",
       "ensembl_trs_id                                                                  \n",
       "ENST00000543457            B2R986   96986746  96987759    Q96P68-1       !conf  \n",
       "ENST00000541038    B2R986, F5H6U5   96986746  96987759    Q96P68-1       !conf  \n",
       "ENST00000541518    B2R986, F5H3P1   96986746  96987759    Q96P68-1       !conf  \n",
       "ENST00000298440            B2R986   96986746  96987759    Q96P68-1       !conf  "
      ]
     },
     "execution_count": 152,
     "metadata": {},
     "output_type": "execute_result"
    }
   ],
   "source": [
    "ens_min[ens_min['ensembl_gene_name'] == 'OXGR1']"
   ]
  },
  {
   "cell_type": "code",
   "execution_count": 156,
   "id": "dee74964-a506-46ba-a03b-edb8276e4777",
   "metadata": {},
   "outputs": [],
   "source": [
    "ens_min['idd'] = np.arange(len(ens_min)) + 1000"
   ]
  },
  {
   "cell_type": "code",
   "execution_count": 157,
   "id": "e0d96581-74e2-4baa-8fb7-4b1fe77f7cd0",
   "metadata": {},
   "outputs": [],
   "source": [
    "ens_min['idd'] = ens_min['idd'].map(lambda x: '_' + str(x))"
   ]
  },
  {
   "cell_type": "code",
   "execution_count": 158,
   "id": "5552d187-e8cc-4c0b-a501-f8189ed3dff1",
   "metadata": {},
   "outputs": [],
   "source": [
    "ens_min['pr2'] = ens_min['uniprot_isoform_id'].combine_first(ens_min['uniprot_trembl_id']).combine_first(ens_min['idd'])"
   ]
  },
  {
   "cell_type": "code",
   "execution_count": 138,
   "id": "460314dd-c80f-4838-8963-3af7f76630aa",
   "metadata": {},
   "outputs": [],
   "source": [
    "v = ens_min.loc[['ENST00000541518', 'ENST00000543457', 'ENST00000541038', 'ENST00000298440'], :]"
   ]
  },
  {
   "cell_type": "code",
   "execution_count": 140,
   "id": "a1ae508a-035c-45e1-93bb-943c5ff1f2f7",
   "metadata": {},
   "outputs": [],
   "source": [
    "if not np.all((v.iloc[:, -2].to_numpy()) == v.iloc[0,-2]):\n",
    "    cons_id = pd.concat([v['uniprot_isoform_id'], v['uniprot_trembl_id']]).dropna().to_numpy()"
   ]
  },
  {
   "cell_type": "code",
   "execution_count": 141,
   "id": "4bead3b9-7934-46fb-be84-60e7ce3670f2",
   "metadata": {},
   "outputs": [
    {
     "data": {
      "text/plain": [
       "array(['Q96P68-1', 'Q96P68-1', 'B2R986, F5H3P1', 'B2R986',\n",
       "       'B2R986, F5H6U5', 'B2R986'], dtype=object)"
      ]
     },
     "execution_count": 141,
     "metadata": {},
     "output_type": "execute_result"
    }
   ],
   "source": [
    "cons_id"
   ]
  },
  {
   "cell_type": "code",
   "execution_count": 104,
   "id": "986fc4a0-cb07-4344-a17e-093fe78e7a57",
   "metadata": {},
   "outputs": [
    {
     "data": {
      "text/plain": [
       "1"
      ]
     },
     "execution_count": 104,
     "metadata": {},
     "output_type": "execute_result"
    }
   ],
   "source": [
    "next(xc)"
   ]
  },
  {
   "cell_type": "code",
   "execution_count": 137,
   "id": "8176bb29-0d9b-4007-b30b-b390615c1372",
   "metadata": {},
   "outputs": [
    {
     "data": {
      "text/plain": [
       "['ENST00000541518', 'ENST00000543457', 'ENST00000541038', 'ENST00000298440']"
      ]
     },
     "execution_count": 137,
     "metadata": {},
     "output_type": "execute_result"
    }
   ],
   "source": [
    "all_hits.loc['OXGR1']"
   ]
  },
  {
   "cell_type": "code",
   "execution_count": 124,
   "id": "3174e5d8-fdde-4ea8-9034-00ebe1381f6c",
   "metadata": {},
   "outputs": [],
   "source": [
    "ens_min = ens_min.dropna(subset=['ensembl_trs_id'])"
   ]
  },
  {
   "cell_type": "code",
   "execution_count": 122,
   "id": "5de68b9d-45a8-4c1b-b360-4bb115f52e97",
   "metadata": {},
   "outputs": [
    {
     "name": "stderr",
     "output_type": "stream",
     "text": [
      "C:\\Users\\Dynev\\AppData\\Local\\Temp\\ipykernel_14536\\2172448945.py:1: SettingWithCopyWarning: \n",
      "A value is trying to be set on a copy of a slice from a DataFrame.\n",
      "Try using .loc[row_indexer,col_indexer] = value instead\n",
      "\n",
      "See the caveats in the documentation: https://pandas.pydata.org/pandas-docs/stable/user_guide/indexing.html#returning-a-view-versus-a-copy\n",
      "  ens_min[ens_min['ensembl_trs_id'].isin(['ENST00000303728'])]['_id_warning'] = 'check'\n"
     ]
    }
   ],
   "source": [
    "ens_min[ens_min['ensembl_trs_id'].isin(['ENST00000303728'])]['_id_warning'] = 'check'"
   ]
  },
  {
   "cell_type": "code",
   "execution_count": 126,
   "id": "386e0bd5-d134-43c2-ac86-7ed7172c0bc7",
   "metadata": {},
   "outputs": [],
   "source": [
    "ens_min = ens_min.set_index('ensembl_trs_id', drop=True)"
   ]
  },
  {
   "cell_type": "code",
   "execution_count": 148,
   "id": "56517ccc-985f-47b7-ae64-065216d748ab",
   "metadata": {},
   "outputs": [],
   "source": [
    "v.loc[:, '_protein_id'] = 'x'"
   ]
  },
  {
   "cell_type": "code",
   "execution_count": 160,
   "id": "8cb5d58d-7b26-40aa-b17b-6881b1f20dc5",
   "metadata": {},
   "outputs": [],
   "source": [
    "ens_min['_protein_id'] = ens_min['_protein_id'].combine_first(ens_min['pr2'])"
   ]
  },
  {
   "cell_type": "code",
   "execution_count": 150,
   "id": "7fd6876d-629c-4df3-8c58-7d55d8d10694",
   "metadata": {},
   "outputs": [
    {
     "data": {
      "text/html": [
       "<div>\n",
       "<style scoped>\n",
       "    .dataframe tbody tr th:only-of-type {\n",
       "        vertical-align: middle;\n",
       "    }\n",
       "\n",
       "    .dataframe tbody tr th {\n",
       "        vertical-align: top;\n",
       "    }\n",
       "\n",
       "    .dataframe thead th {\n",
       "        text-align: right;\n",
       "    }\n",
       "</style>\n",
       "<table border=\"1\" class=\"dataframe\">\n",
       "  <thead>\n",
       "    <tr style=\"text-align: right;\">\n",
       "      <th></th>\n",
       "      <th>ensembl_gene_name</th>\n",
       "      <th>trs_type</th>\n",
       "      <th>uniprot_isoform_id</th>\n",
       "      <th>uniprot_trembl_id</th>\n",
       "      <th>cds_start</th>\n",
       "      <th>cds_end</th>\n",
       "      <th>_protein_id</th>\n",
       "      <th>_id_warning</th>\n",
       "    </tr>\n",
       "    <tr>\n",
       "      <th>ensembl_trs_id</th>\n",
       "      <th></th>\n",
       "      <th></th>\n",
       "      <th></th>\n",
       "      <th></th>\n",
       "      <th></th>\n",
       "      <th></th>\n",
       "      <th></th>\n",
       "      <th></th>\n",
       "    </tr>\n",
       "  </thead>\n",
       "  <tbody>\n",
       "    <tr>\n",
       "      <th>ENST00000541518</th>\n",
       "      <td>OXGR1</td>\n",
       "      <td>protein_coding</td>\n",
       "      <td>NaN</td>\n",
       "      <td>B2R986, F5H3P1</td>\n",
       "      <td>96986746</td>\n",
       "      <td>96987759</td>\n",
       "      <td>B2R986, F5H3P1</td>\n",
       "      <td>NaN</td>\n",
       "    </tr>\n",
       "    <tr>\n",
       "      <th>ENST00000543457</th>\n",
       "      <td>OXGR1</td>\n",
       "      <td>protein_coding</td>\n",
       "      <td>Q96P68-1</td>\n",
       "      <td>B2R986</td>\n",
       "      <td>96986746</td>\n",
       "      <td>96987759</td>\n",
       "      <td>Q96P68-1</td>\n",
       "      <td>NaN</td>\n",
       "    </tr>\n",
       "    <tr>\n",
       "      <th>ENST00000541038</th>\n",
       "      <td>OXGR1</td>\n",
       "      <td>protein_coding</td>\n",
       "      <td>NaN</td>\n",
       "      <td>B2R986, F5H6U5</td>\n",
       "      <td>96986746</td>\n",
       "      <td>96987759</td>\n",
       "      <td>B2R986, F5H6U5</td>\n",
       "      <td>NaN</td>\n",
       "    </tr>\n",
       "    <tr>\n",
       "      <th>ENST00000298440</th>\n",
       "      <td>OXGR1</td>\n",
       "      <td>protein_coding</td>\n",
       "      <td>Q96P68-1</td>\n",
       "      <td>B2R986</td>\n",
       "      <td>96986746</td>\n",
       "      <td>96987759</td>\n",
       "      <td>Q96P68-1</td>\n",
       "      <td>NaN</td>\n",
       "    </tr>\n",
       "  </tbody>\n",
       "</table>\n",
       "</div>"
      ],
      "text/plain": [
       "                ensembl_gene_name        trs_type uniprot_isoform_id  \\\n",
       "ensembl_trs_id                                                         \n",
       "ENST00000541518             OXGR1  protein_coding                NaN   \n",
       "ENST00000543457             OXGR1  protein_coding           Q96P68-1   \n",
       "ENST00000541038             OXGR1  protein_coding                NaN   \n",
       "ENST00000298440             OXGR1  protein_coding           Q96P68-1   \n",
       "\n",
       "                uniprot_trembl_id  cds_start   cds_end     _protein_id  \\\n",
       "ensembl_trs_id                                                           \n",
       "ENST00000541518    B2R986, F5H3P1   96986746  96987759  B2R986, F5H3P1   \n",
       "ENST00000543457            B2R986   96986746  96987759        Q96P68-1   \n",
       "ENST00000541038    B2R986, F5H6U5   96986746  96987759  B2R986, F5H6U5   \n",
       "ENST00000298440            B2R986   96986746  96987759        Q96P68-1   \n",
       "\n",
       "                 _id_warning  \n",
       "ensembl_trs_id                \n",
       "ENST00000541518          NaN  \n",
       "ENST00000543457          NaN  \n",
       "ENST00000541038          NaN  \n",
       "ENST00000298440          NaN  "
      ]
     },
     "execution_count": 150,
     "metadata": {},
     "output_type": "execute_result"
    }
   ],
   "source": [
    "ens_min.loc[['ENST00000541518', 'ENST00000543457', 'ENST00000541038', 'ENST00000298440'], :]"
   ]
  },
  {
   "cell_type": "code",
   "execution_count": 163,
   "id": "4ef3d77e-d7c0-44a9-951c-4f12ccb20e32",
   "metadata": {},
   "outputs": [],
   "source": [
    "ens_min = ens_min.drop(['idd', 'pr2'], axis=1)"
   ]
  },
  {
   "cell_type": "code",
   "execution_count": 164,
   "id": "3f0d560d-cef8-4ce9-870e-84c2d2d42474",
   "metadata": {},
   "outputs": [],
   "source": [
    "ens_min = ens_min.reset_index()"
   ]
  },
  {
   "cell_type": "code",
   "execution_count": 168,
   "id": "e4a0fa05-7f92-4f8c-b095-bc2b650be437",
   "metadata": {},
   "outputs": [],
   "source": [
    "ens_min = ens_min.drop_duplicates('_protein_id')"
   ]
  },
  {
   "cell_type": "code",
   "execution_count": 167,
   "id": "6f5072a0-d020-4541-ac7f-336d6b1c230e",
   "metadata": {},
   "outputs": [
    {
     "data": {
      "text/plain": [
       "USP9Y                     [ENST00000338981, ENST00000651177]\n",
       "BPY2                      [ENST00000382585, ENST00000331070]\n",
       "PCDH11Y                   [ENST00000333703, ENST00000622698]\n",
       "BPY2B                     [ENST00000615850, ENST00000382392]\n",
       "TGIF2LY                   [ENST00000559055, ENST00000321217]\n",
       "                                 ...                        \n",
       "CTPS1      [ENST00000649124, ENST00000470271, ENST0000037...\n",
       "CTPS1                     [ENST00000696111, ENST00000696110]\n",
       "AGT        [ENST00000681514, ENST00000366667, ENST0000068...\n",
       "EIF3I      [ENST00000677701, ENST00000677711, ENST0000067...\n",
       "UBAP2L                    [ENST00000361546, ENST00000428931]\n",
       "Length: 7376, dtype: object"
      ]
     },
     "execution_count": 167,
     "metadata": {},
     "output_type": "execute_result"
    }
   ],
   "source": [
    "all_hits"
   ]
  },
  {
   "cell_type": "code",
   "execution_count": 174,
   "id": "645f8da7-3630-4f0f-b49e-d4280429e90a",
   "metadata": {},
   "outputs": [
    {
     "data": {
      "text/html": [
       "<div>\n",
       "<style scoped>\n",
       "    .dataframe tbody tr th:only-of-type {\n",
       "        vertical-align: middle;\n",
       "    }\n",
       "\n",
       "    .dataframe tbody tr th {\n",
       "        vertical-align: top;\n",
       "    }\n",
       "\n",
       "    .dataframe thead th {\n",
       "        text-align: right;\n",
       "    }\n",
       "</style>\n",
       "<table border=\"1\" class=\"dataframe\">\n",
       "  <thead>\n",
       "    <tr style=\"text-align: right;\">\n",
       "      <th></th>\n",
       "      <th>ensembl_trs_id</th>\n",
       "      <th>ensembl_gene_name</th>\n",
       "      <th>trs_type</th>\n",
       "      <th>uniprot_isoform_id</th>\n",
       "      <th>uniprot_trembl_id</th>\n",
       "      <th>cds_start</th>\n",
       "      <th>cds_end</th>\n",
       "      <th>_protein_id</th>\n",
       "      <th>_id_warning</th>\n",
       "    </tr>\n",
       "  </thead>\n",
       "  <tbody>\n",
       "    <tr>\n",
       "      <th>110808</th>\n",
       "      <td>ENST00000466642</td>\n",
       "      <td>UGP2</td>\n",
       "      <td>nonsense_mediated_decay</td>\n",
       "      <td>NaN</td>\n",
       "      <td>F8WC70</td>\n",
       "      <td>63856320</td>\n",
       "      <td>63857594</td>\n",
       "      <td>F8WC70</td>\n",
       "      <td>NaN</td>\n",
       "    </tr>\n",
       "    <tr>\n",
       "      <th>110822</th>\n",
       "      <td>ENST00000484142</td>\n",
       "      <td>UGP2</td>\n",
       "      <td>protein_coding</td>\n",
       "      <td>NaN</td>\n",
       "      <td>C9J6Q0</td>\n",
       "      <td>63842186</td>\n",
       "      <td>63857863</td>\n",
       "      <td>C9J6Q0</td>\n",
       "      <td>NaN</td>\n",
       "    </tr>\n",
       "    <tr>\n",
       "      <th>110899</th>\n",
       "      <td>ENST00000482668</td>\n",
       "      <td>UGP2</td>\n",
       "      <td>protein_coding</td>\n",
       "      <td>NaN</td>\n",
       "      <td>C9JTZ5</td>\n",
       "      <td>63856320</td>\n",
       "      <td>63882557</td>\n",
       "      <td>C9JTZ5</td>\n",
       "      <td>NaN</td>\n",
       "    </tr>\n",
       "    <tr>\n",
       "      <th>110959</th>\n",
       "      <td>ENST00000467648</td>\n",
       "      <td>UGP2</td>\n",
       "      <td>protein_coding</td>\n",
       "      <td>Q16851-2</td>\n",
       "      <td>A0A140VKE1</td>\n",
       "      <td>63856320</td>\n",
       "      <td>63891227</td>\n",
       "      <td>Q16851-2</td>\n",
       "      <td>dup</td>\n",
       "    </tr>\n",
       "    <tr>\n",
       "      <th>110963</th>\n",
       "      <td>ENST00000497510</td>\n",
       "      <td>UGP2</td>\n",
       "      <td>nonsense_mediated_decay</td>\n",
       "      <td>NaN</td>\n",
       "      <td>F2Z3H1</td>\n",
       "      <td>63856320</td>\n",
       "      <td>63862849</td>\n",
       "      <td>F2Z3H1</td>\n",
       "      <td>NaN</td>\n",
       "    </tr>\n",
       "    <tr>\n",
       "      <th>110966</th>\n",
       "      <td>ENST00000483461</td>\n",
       "      <td>UGP2</td>\n",
       "      <td>retained_intron</td>\n",
       "      <td>NaN</td>\n",
       "      <td>NaN</td>\n",
       "      <td>&lt;NA&gt;</td>\n",
       "      <td>&lt;NA&gt;</td>\n",
       "      <td>_111966</td>\n",
       "      <td>NaN</td>\n",
       "    </tr>\n",
       "    <tr>\n",
       "      <th>110967</th>\n",
       "      <td>ENST00000480679</td>\n",
       "      <td>UGP2</td>\n",
       "      <td>protein_coding</td>\n",
       "      <td>NaN</td>\n",
       "      <td>C9J3M0</td>\n",
       "      <td>63856320</td>\n",
       "      <td>63856433</td>\n",
       "      <td>C9J3M0</td>\n",
       "      <td>NaN</td>\n",
       "    </tr>\n",
       "    <tr>\n",
       "      <th>110969</th>\n",
       "      <td>ENST00000613823</td>\n",
       "      <td>UGP2</td>\n",
       "      <td>protein_coding</td>\n",
       "      <td>NaN</td>\n",
       "      <td>A0A087WYS1</td>\n",
       "      <td>63856320</td>\n",
       "      <td>63891160</td>\n",
       "      <td>A0A087WYS1</td>\n",
       "      <td>NaN</td>\n",
       "    </tr>\n",
       "    <tr>\n",
       "      <th>110971</th>\n",
       "      <td>ENST00000483108</td>\n",
       "      <td>UGP2</td>\n",
       "      <td>nonsense_mediated_decay</td>\n",
       "      <td>NaN</td>\n",
       "      <td>F2Z3P4</td>\n",
       "      <td>63856320</td>\n",
       "      <td>63856820</td>\n",
       "      <td>F2Z3P4</td>\n",
       "      <td>NaN</td>\n",
       "    </tr>\n",
       "    <tr>\n",
       "      <th>110977</th>\n",
       "      <td>ENST00000487469</td>\n",
       "      <td>UGP2</td>\n",
       "      <td>processed_transcript</td>\n",
       "      <td>NaN</td>\n",
       "      <td>NaN</td>\n",
       "      <td>&lt;NA&gt;</td>\n",
       "      <td>&lt;NA&gt;</td>\n",
       "      <td>_111977</td>\n",
       "      <td>NaN</td>\n",
       "    </tr>\n",
       "    <tr>\n",
       "      <th>110984</th>\n",
       "      <td>ENST00000676870</td>\n",
       "      <td>UGP2</td>\n",
       "      <td>nonsense_mediated_decay</td>\n",
       "      <td>NaN</td>\n",
       "      <td>A0A7I2V676</td>\n",
       "      <td>63856320</td>\n",
       "      <td>63886530</td>\n",
       "      <td>A0A7I2V676</td>\n",
       "      <td>NaN</td>\n",
       "    </tr>\n",
       "    <tr>\n",
       "      <th>110988</th>\n",
       "      <td>ENST00000678298</td>\n",
       "      <td>UGP2</td>\n",
       "      <td>nonsense_mediated_decay</td>\n",
       "      <td>NaN</td>\n",
       "      <td>A0A7I2V4T0</td>\n",
       "      <td>63856320</td>\n",
       "      <td>63885774</td>\n",
       "      <td>A0A7I2V4T0</td>\n",
       "      <td>NaN</td>\n",
       "    </tr>\n",
       "    <tr>\n",
       "      <th>110991</th>\n",
       "      <td>ENST00000677841</td>\n",
       "      <td>UGP2</td>\n",
       "      <td>protein_coding</td>\n",
       "      <td>NaN</td>\n",
       "      <td>A0A7I2YQ74</td>\n",
       "      <td>63856320</td>\n",
       "      <td>63891227</td>\n",
       "      <td>A0A7I2YQ74</td>\n",
       "      <td>NaN</td>\n",
       "    </tr>\n",
       "    <tr>\n",
       "      <th>111007</th>\n",
       "      <td>ENST00000678974</td>\n",
       "      <td>UGP2</td>\n",
       "      <td>nonsense_mediated_decay</td>\n",
       "      <td>NaN</td>\n",
       "      <td>A0A7I2V2Q3</td>\n",
       "      <td>63856320</td>\n",
       "      <td>63883086</td>\n",
       "      <td>A0A7I2V2Q3</td>\n",
       "      <td>NaN</td>\n",
       "    </tr>\n",
       "    <tr>\n",
       "      <th>111012</th>\n",
       "      <td>ENST00000475550</td>\n",
       "      <td>UGP2</td>\n",
       "      <td>retained_intron</td>\n",
       "      <td>NaN</td>\n",
       "      <td>NaN</td>\n",
       "      <td>&lt;NA&gt;</td>\n",
       "      <td>&lt;NA&gt;</td>\n",
       "      <td>_112012</td>\n",
       "      <td>NaN</td>\n",
       "    </tr>\n",
       "    <tr>\n",
       "      <th>111014</th>\n",
       "      <td>ENST00000484056</td>\n",
       "      <td>UGP2</td>\n",
       "      <td>processed_transcript</td>\n",
       "      <td>NaN</td>\n",
       "      <td>NaN</td>\n",
       "      <td>&lt;NA&gt;</td>\n",
       "      <td>&lt;NA&gt;</td>\n",
       "      <td>_112014</td>\n",
       "      <td>NaN</td>\n",
       "    </tr>\n",
       "    <tr>\n",
       "      <th>111016</th>\n",
       "      <td>ENST00000640075</td>\n",
       "      <td>UGP2</td>\n",
       "      <td>processed_transcript</td>\n",
       "      <td>NaN</td>\n",
       "      <td>NaN</td>\n",
       "      <td>&lt;NA&gt;</td>\n",
       "      <td>&lt;NA&gt;</td>\n",
       "      <td>_112016</td>\n",
       "      <td>NaN</td>\n",
       "    </tr>\n",
       "    <tr>\n",
       "      <th>111017</th>\n",
       "      <td>ENST00000337130</td>\n",
       "      <td>UGP2</td>\n",
       "      <td>protein_coding</td>\n",
       "      <td>Q16851-1</td>\n",
       "      <td>NaN</td>\n",
       "      <td>63842186</td>\n",
       "      <td>63891227</td>\n",
       "      <td>Q16851-1</td>\n",
       "      <td>NaN</td>\n",
       "    </tr>\n",
       "    <tr>\n",
       "      <th>111019</th>\n",
       "      <td>ENST00000488245</td>\n",
       "      <td>UGP2</td>\n",
       "      <td>protein_coding</td>\n",
       "      <td>NaN</td>\n",
       "      <td>C9JUW1</td>\n",
       "      <td>63856320</td>\n",
       "      <td>63882649</td>\n",
       "      <td>C9JUW1</td>\n",
       "      <td>NaN</td>\n",
       "    </tr>\n",
       "    <tr>\n",
       "      <th>111025</th>\n",
       "      <td>ENST00000497883</td>\n",
       "      <td>UGP2</td>\n",
       "      <td>protein_coding</td>\n",
       "      <td>NaN</td>\n",
       "      <td>C9JQU9</td>\n",
       "      <td>63842186</td>\n",
       "      <td>63884067</td>\n",
       "      <td>C9JQU9</td>\n",
       "      <td>NaN</td>\n",
       "    </tr>\n",
       "    <tr>\n",
       "      <th>111029</th>\n",
       "      <td>ENST00000445915</td>\n",
       "      <td>UGP2</td>\n",
       "      <td>protein_coding</td>\n",
       "      <td>NaN</td>\n",
       "      <td>E7EUC7</td>\n",
       "      <td>63842392</td>\n",
       "      <td>63891227</td>\n",
       "      <td>E7EUC7</td>\n",
       "      <td>NaN</td>\n",
       "    </tr>\n",
       "    <tr>\n",
       "      <th>111031</th>\n",
       "      <td>ENST00000496334</td>\n",
       "      <td>UGP2</td>\n",
       "      <td>nonsense_mediated_decay</td>\n",
       "      <td>NaN</td>\n",
       "      <td>F8WDA2</td>\n",
       "      <td>63842392</td>\n",
       "      <td>63856312</td>\n",
       "      <td>F8WDA2</td>\n",
       "      <td>NaN</td>\n",
       "    </tr>\n",
       "    <tr>\n",
       "      <th>111033</th>\n",
       "      <td>ENST00000467999</td>\n",
       "      <td>UGP2</td>\n",
       "      <td>nonsense_mediated_decay</td>\n",
       "      <td>NaN</td>\n",
       "      <td>H7C500</td>\n",
       "      <td>63842416</td>\n",
       "      <td>63856312</td>\n",
       "      <td>H7C500</td>\n",
       "      <td>NaN</td>\n",
       "    </tr>\n",
       "    <tr>\n",
       "      <th>111036</th>\n",
       "      <td>ENST00000475462</td>\n",
       "      <td>UGP2</td>\n",
       "      <td>protein_coding</td>\n",
       "      <td>NaN</td>\n",
       "      <td>C9JVG3</td>\n",
       "      <td>63856320</td>\n",
       "      <td>63884063</td>\n",
       "      <td>C9JVG3</td>\n",
       "      <td>NaN</td>\n",
       "    </tr>\n",
       "    <tr>\n",
       "      <th>111042</th>\n",
       "      <td>ENST00000491621</td>\n",
       "      <td>UGP2</td>\n",
       "      <td>protein_coding</td>\n",
       "      <td>NaN</td>\n",
       "      <td>C9JNZ1</td>\n",
       "      <td>63856320</td>\n",
       "      <td>63885684</td>\n",
       "      <td>C9JNZ1</td>\n",
       "      <td>NaN</td>\n",
       "    </tr>\n",
       "    <tr>\n",
       "      <th>111046</th>\n",
       "      <td>ENST00000472047</td>\n",
       "      <td>UGP2</td>\n",
       "      <td>protein_coding</td>\n",
       "      <td>NaN</td>\n",
       "      <td>C9JWG0</td>\n",
       "      <td>63856320</td>\n",
       "      <td>63884003</td>\n",
       "      <td>C9JWG0</td>\n",
       "      <td>NaN</td>\n",
       "    </tr>\n",
       "    <tr>\n",
       "      <th>111048</th>\n",
       "      <td>ENST00000465515</td>\n",
       "      <td>UGP2</td>\n",
       "      <td>retained_intron</td>\n",
       "      <td>NaN</td>\n",
       "      <td>NaN</td>\n",
       "      <td>&lt;NA&gt;</td>\n",
       "      <td>&lt;NA&gt;</td>\n",
       "      <td>_112048</td>\n",
       "      <td>NaN</td>\n",
       "    </tr>\n",
       "    <tr>\n",
       "      <th>111051</th>\n",
       "      <td>ENST00000494536</td>\n",
       "      <td>UGP2</td>\n",
       "      <td>retained_intron</td>\n",
       "      <td>NaN</td>\n",
       "      <td>NaN</td>\n",
       "      <td>&lt;NA&gt;</td>\n",
       "      <td>&lt;NA&gt;</td>\n",
       "      <td>_112051</td>\n",
       "      <td>NaN</td>\n",
       "    </tr>\n",
       "    <tr>\n",
       "      <th>111059</th>\n",
       "      <td>ENST00000495020</td>\n",
       "      <td>UGP2</td>\n",
       "      <td>processed_transcript</td>\n",
       "      <td>NaN</td>\n",
       "      <td>NaN</td>\n",
       "      <td>&lt;NA&gt;</td>\n",
       "      <td>&lt;NA&gt;</td>\n",
       "      <td>_112059</td>\n",
       "      <td>NaN</td>\n",
       "    </tr>\n",
       "  </tbody>\n",
       "</table>\n",
       "</div>"
      ],
      "text/plain": [
       "         ensembl_trs_id ensembl_gene_name                 trs_type  \\\n",
       "110808  ENST00000466642              UGP2  nonsense_mediated_decay   \n",
       "110822  ENST00000484142              UGP2           protein_coding   \n",
       "110899  ENST00000482668              UGP2           protein_coding   \n",
       "110959  ENST00000467648              UGP2           protein_coding   \n",
       "110963  ENST00000497510              UGP2  nonsense_mediated_decay   \n",
       "110966  ENST00000483461              UGP2          retained_intron   \n",
       "110967  ENST00000480679              UGP2           protein_coding   \n",
       "110969  ENST00000613823              UGP2           protein_coding   \n",
       "110971  ENST00000483108              UGP2  nonsense_mediated_decay   \n",
       "110977  ENST00000487469              UGP2     processed_transcript   \n",
       "110984  ENST00000676870              UGP2  nonsense_mediated_decay   \n",
       "110988  ENST00000678298              UGP2  nonsense_mediated_decay   \n",
       "110991  ENST00000677841              UGP2           protein_coding   \n",
       "111007  ENST00000678974              UGP2  nonsense_mediated_decay   \n",
       "111012  ENST00000475550              UGP2          retained_intron   \n",
       "111014  ENST00000484056              UGP2     processed_transcript   \n",
       "111016  ENST00000640075              UGP2     processed_transcript   \n",
       "111017  ENST00000337130              UGP2           protein_coding   \n",
       "111019  ENST00000488245              UGP2           protein_coding   \n",
       "111025  ENST00000497883              UGP2           protein_coding   \n",
       "111029  ENST00000445915              UGP2           protein_coding   \n",
       "111031  ENST00000496334              UGP2  nonsense_mediated_decay   \n",
       "111033  ENST00000467999              UGP2  nonsense_mediated_decay   \n",
       "111036  ENST00000475462              UGP2           protein_coding   \n",
       "111042  ENST00000491621              UGP2           protein_coding   \n",
       "111046  ENST00000472047              UGP2           protein_coding   \n",
       "111048  ENST00000465515              UGP2          retained_intron   \n",
       "111051  ENST00000494536              UGP2          retained_intron   \n",
       "111059  ENST00000495020              UGP2     processed_transcript   \n",
       "\n",
       "       uniprot_isoform_id uniprot_trembl_id  cds_start   cds_end _protein_id  \\\n",
       "110808                NaN            F8WC70   63856320  63857594      F8WC70   \n",
       "110822                NaN            C9J6Q0   63842186  63857863      C9J6Q0   \n",
       "110899                NaN            C9JTZ5   63856320  63882557      C9JTZ5   \n",
       "110959           Q16851-2        A0A140VKE1   63856320  63891227    Q16851-2   \n",
       "110963                NaN            F2Z3H1   63856320  63862849      F2Z3H1   \n",
       "110966                NaN               NaN       <NA>      <NA>     _111966   \n",
       "110967                NaN            C9J3M0   63856320  63856433      C9J3M0   \n",
       "110969                NaN        A0A087WYS1   63856320  63891160  A0A087WYS1   \n",
       "110971                NaN            F2Z3P4   63856320  63856820      F2Z3P4   \n",
       "110977                NaN               NaN       <NA>      <NA>     _111977   \n",
       "110984                NaN        A0A7I2V676   63856320  63886530  A0A7I2V676   \n",
       "110988                NaN        A0A7I2V4T0   63856320  63885774  A0A7I2V4T0   \n",
       "110991                NaN        A0A7I2YQ74   63856320  63891227  A0A7I2YQ74   \n",
       "111007                NaN        A0A7I2V2Q3   63856320  63883086  A0A7I2V2Q3   \n",
       "111012                NaN               NaN       <NA>      <NA>     _112012   \n",
       "111014                NaN               NaN       <NA>      <NA>     _112014   \n",
       "111016                NaN               NaN       <NA>      <NA>     _112016   \n",
       "111017           Q16851-1               NaN   63842186  63891227    Q16851-1   \n",
       "111019                NaN            C9JUW1   63856320  63882649      C9JUW1   \n",
       "111025                NaN            C9JQU9   63842186  63884067      C9JQU9   \n",
       "111029                NaN            E7EUC7   63842392  63891227      E7EUC7   \n",
       "111031                NaN            F8WDA2   63842392  63856312      F8WDA2   \n",
       "111033                NaN            H7C500   63842416  63856312      H7C500   \n",
       "111036                NaN            C9JVG3   63856320  63884063      C9JVG3   \n",
       "111042                NaN            C9JNZ1   63856320  63885684      C9JNZ1   \n",
       "111046                NaN            C9JWG0   63856320  63884003      C9JWG0   \n",
       "111048                NaN               NaN       <NA>      <NA>     _112048   \n",
       "111051                NaN               NaN       <NA>      <NA>     _112051   \n",
       "111059                NaN               NaN       <NA>      <NA>     _112059   \n",
       "\n",
       "       _id_warning  \n",
       "110808         NaN  \n",
       "110822         NaN  \n",
       "110899         NaN  \n",
       "110959         dup  \n",
       "110963         NaN  \n",
       "110966         NaN  \n",
       "110967         NaN  \n",
       "110969         NaN  \n",
       "110971         NaN  \n",
       "110977         NaN  \n",
       "110984         NaN  \n",
       "110988         NaN  \n",
       "110991         NaN  \n",
       "111007         NaN  \n",
       "111012         NaN  \n",
       "111014         NaN  \n",
       "111016         NaN  \n",
       "111017         NaN  \n",
       "111019         NaN  \n",
       "111025         NaN  \n",
       "111029         NaN  \n",
       "111031         NaN  \n",
       "111033         NaN  \n",
       "111036         NaN  \n",
       "111042         NaN  \n",
       "111046         NaN  \n",
       "111048         NaN  \n",
       "111051         NaN  \n",
       "111059         NaN  "
      ]
     },
     "execution_count": 174,
     "metadata": {},
     "output_type": "execute_result"
    }
   ],
   "source": [
    "ens_min[ens_min['ensembl_gene_name'] == 'UGP2']"
   ]
  },
  {
   "cell_type": "code",
   "execution_count": 171,
   "id": "6034a671-34fc-48ed-a309-ccbb8df7a873",
   "metadata": {},
   "outputs": [],
   "source": [
    "gene_size2 = ens_main[ens_main['trs_type'] == 'protein_coding'].groupby('ensembl_gene_name').size()\n",
    "gene_size2 = gene_size2[gene_size2 > 1].index.to_list()"
   ]
  },
  {
   "cell_type": "code",
   "execution_count": 173,
   "id": "8a67806f-d194-4002-92db-8e56fd0be2c5",
   "metadata": {},
   "outputs": [
    {
     "data": {
      "text/plain": [
       "15129"
      ]
     },
     "execution_count": 173,
     "metadata": {},
     "output_type": "execute_result"
    }
   ],
   "source": [
    "len(gene_size2)"
   ]
  },
  {
   "cell_type": "code",
   "execution_count": 176,
   "id": "ea1e5df1-6a73-490c-bc77-1725c12d2229",
   "metadata": {},
   "outputs": [],
   "source": [
    "ens_min.to_csv('data/interim/ens_min_040722.csv', index=False)"
   ]
  },
  {
   "cell_type": "code",
   "execution_count": 180,
   "id": "1482d669-629b-4dee-962a-e999d280681f",
   "metadata": {},
   "outputs": [],
   "source": [
    "gene_cds = pd.DataFrame(index=gene_size2, columns=['cds_arr', 'cds_unique', 'cds_mtx', 'cds_good', 'exons_mtx'])"
   ]
  },
  {
   "cell_type": "code",
   "execution_count": 181,
   "id": "b0ff7ac5-16ea-409b-bde5-f54a7b42ce67",
   "metadata": {},
   "outputs": [
    {
     "data": {
      "text/html": [
       "<div>\n",
       "<style scoped>\n",
       "    .dataframe tbody tr th:only-of-type {\n",
       "        vertical-align: middle;\n",
       "    }\n",
       "\n",
       "    .dataframe tbody tr th {\n",
       "        vertical-align: top;\n",
       "    }\n",
       "\n",
       "    .dataframe thead th {\n",
       "        text-align: right;\n",
       "    }\n",
       "</style>\n",
       "<table border=\"1\" class=\"dataframe\">\n",
       "  <thead>\n",
       "    <tr style=\"text-align: right;\">\n",
       "      <th></th>\n",
       "      <th>cds_arr</th>\n",
       "      <th>cds_unique</th>\n",
       "      <th>cds_mtx</th>\n",
       "      <th>cds_good</th>\n",
       "      <th>exons_mtx</th>\n",
       "    </tr>\n",
       "  </thead>\n",
       "  <tbody>\n",
       "    <tr>\n",
       "      <th>A1BG</th>\n",
       "      <td>NaN</td>\n",
       "      <td>NaN</td>\n",
       "      <td>NaN</td>\n",
       "      <td>NaN</td>\n",
       "      <td>NaN</td>\n",
       "    </tr>\n",
       "    <tr>\n",
       "      <th>A1CF</th>\n",
       "      <td>NaN</td>\n",
       "      <td>NaN</td>\n",
       "      <td>NaN</td>\n",
       "      <td>NaN</td>\n",
       "      <td>NaN</td>\n",
       "    </tr>\n",
       "    <tr>\n",
       "      <th>A2M</th>\n",
       "      <td>NaN</td>\n",
       "      <td>NaN</td>\n",
       "      <td>NaN</td>\n",
       "      <td>NaN</td>\n",
       "      <td>NaN</td>\n",
       "    </tr>\n",
       "    <tr>\n",
       "      <th>A2ML1</th>\n",
       "      <td>NaN</td>\n",
       "      <td>NaN</td>\n",
       "      <td>NaN</td>\n",
       "      <td>NaN</td>\n",
       "      <td>NaN</td>\n",
       "    </tr>\n",
       "    <tr>\n",
       "      <th>A4GALT</th>\n",
       "      <td>NaN</td>\n",
       "      <td>NaN</td>\n",
       "      <td>NaN</td>\n",
       "      <td>NaN</td>\n",
       "      <td>NaN</td>\n",
       "    </tr>\n",
       "    <tr>\n",
       "      <th>...</th>\n",
       "      <td>...</td>\n",
       "      <td>...</td>\n",
       "      <td>...</td>\n",
       "      <td>...</td>\n",
       "      <td>...</td>\n",
       "    </tr>\n",
       "    <tr>\n",
       "      <th>ZYG11A</th>\n",
       "      <td>NaN</td>\n",
       "      <td>NaN</td>\n",
       "      <td>NaN</td>\n",
       "      <td>NaN</td>\n",
       "      <td>NaN</td>\n",
       "    </tr>\n",
       "    <tr>\n",
       "      <th>ZYG11B</th>\n",
       "      <td>NaN</td>\n",
       "      <td>NaN</td>\n",
       "      <td>NaN</td>\n",
       "      <td>NaN</td>\n",
       "      <td>NaN</td>\n",
       "    </tr>\n",
       "    <tr>\n",
       "      <th>ZYX</th>\n",
       "      <td>NaN</td>\n",
       "      <td>NaN</td>\n",
       "      <td>NaN</td>\n",
       "      <td>NaN</td>\n",
       "      <td>NaN</td>\n",
       "    </tr>\n",
       "    <tr>\n",
       "      <th>ZZEF1</th>\n",
       "      <td>NaN</td>\n",
       "      <td>NaN</td>\n",
       "      <td>NaN</td>\n",
       "      <td>NaN</td>\n",
       "      <td>NaN</td>\n",
       "    </tr>\n",
       "    <tr>\n",
       "      <th>ZZZ3</th>\n",
       "      <td>NaN</td>\n",
       "      <td>NaN</td>\n",
       "      <td>NaN</td>\n",
       "      <td>NaN</td>\n",
       "      <td>NaN</td>\n",
       "    </tr>\n",
       "  </tbody>\n",
       "</table>\n",
       "<p>15129 rows × 5 columns</p>\n",
       "</div>"
      ],
      "text/plain": [
       "       cds_arr cds_unique cds_mtx cds_good exons_mtx\n",
       "A1BG       NaN        NaN     NaN      NaN       NaN\n",
       "A1CF       NaN        NaN     NaN      NaN       NaN\n",
       "A2M        NaN        NaN     NaN      NaN       NaN\n",
       "A2ML1      NaN        NaN     NaN      NaN       NaN\n",
       "A4GALT     NaN        NaN     NaN      NaN       NaN\n",
       "...        ...        ...     ...      ...       ...\n",
       "ZYG11A     NaN        NaN     NaN      NaN       NaN\n",
       "ZYG11B     NaN        NaN     NaN      NaN       NaN\n",
       "ZYX        NaN        NaN     NaN      NaN       NaN\n",
       "ZZEF1      NaN        NaN     NaN      NaN       NaN\n",
       "ZZZ3       NaN        NaN     NaN      NaN       NaN\n",
       "\n",
       "[15129 rows x 5 columns]"
      ]
     },
     "execution_count": 181,
     "metadata": {},
     "output_type": "execute_result"
    }
   ],
   "source": [
    "gene_cds"
   ]
  },
  {
   "cell_type": "code",
   "execution_count": 182,
   "id": "c2f98308-7d3a-4d2f-b761-6c5dcd15c5d1",
   "metadata": {},
   "outputs": [],
   "source": [
    "def pop_cds_arr(gene):\n",
    "    v = ens_min[ens_min['ensembl_gene_name'] == gene]\n",
    "    v = v[v['trs_type'] == 'protein_coding']\n",
    "\n",
    "    return v.loc[:, ['cds_start', 'cds_end']].to_numpy()"
   ]
  },
  {
   "cell_type": "code",
   "execution_count": 184,
   "id": "9b732151-2ebd-4513-92e5-eca2baf89436",
   "metadata": {},
   "outputs": [],
   "source": [
    "def pop_cds_unique(cds_arr):\n",
    "    return np.sort(pd.unique(cds_arr.ravel()))"
   ]
  },
  {
   "cell_type": "code",
   "execution_count": 192,
   "id": "cfcd0877-a17f-46bb-8e9f-956143ac06c6",
   "metadata": {},
   "outputs": [],
   "source": [
    "def pop_cds_mtx(cds_arr):\n",
    "    u = np.sort(pd.unique(cds_arr.ravel()))\n",
    "    \n",
    "    return (u == cds_arr[..., None]).any(1).astype(int)"
   ]
  },
  {
   "cell_type": "code",
   "execution_count": 186,
   "id": "fb0e7140-eba1-4435-973e-9e7e8f44c908",
   "metadata": {},
   "outputs": [],
   "source": [
    "gene_cds['cds_arr'] = gene_cds.index.map(pop_cds_arr)"
   ]
  },
  {
   "cell_type": "code",
   "execution_count": 188,
   "id": "460e0d68-51da-46e8-8683-43c732c5fbbc",
   "metadata": {},
   "outputs": [],
   "source": [
    "gene_cds['cds_unique'] = gene_cds['cds_arr'].map(pop_cds_unique)"
   ]
  },
  {
   "cell_type": "code",
   "execution_count": 227,
   "id": "ee44ca5b-86dc-4ef7-9abe-7e5de55747bb",
   "metadata": {},
   "outputs": [],
   "source": [
    "gene_cds['cds_mtx'] = gene_cds['cds_arr'].map(pop_cds_mtx)"
   ]
  },
  {
   "cell_type": "code",
   "execution_count": 198,
   "id": "eedbee3f-d927-470d-b5f0-506bba5e2143",
   "metadata": {},
   "outputs": [],
   "source": [
    "x = gene_cds.loc['TEF', 'cds_mtx'].copy()"
   ]
  },
  {
   "cell_type": "code",
   "execution_count": 226,
   "id": "8abf083c-97c3-40bc-8ea0-61fb39b58409",
   "metadata": {},
   "outputs": [],
   "source": [
    "def pop_cds_good(cds_mtx):\n",
    "    \"\"\"At least two trs must have one 0 after substracting sum\"\"\"\n",
    "    cds_mtx2 = cds_mtx - cds_mtx.sum(0)\n",
    "    zeros = np.count_nonzero(cds_mtx2==0, axis=1)\n",
    "    if len(zeros[zeros == 1]) >=2:\n",
    "        return True\n",
    "    else:\n",
    "        return False"
   ]
  },
  {
   "cell_type": "code",
   "execution_count": 199,
   "id": "81454007-1699-4acb-8a14-9720423d031e",
   "metadata": {},
   "outputs": [],
   "source": [
    "x -= x.sum(0)"
   ]
  },
  {
   "cell_type": "code",
   "execution_count": 210,
   "id": "537dcf37-21d9-4e05-93a3-71d00639b3ad",
   "metadata": {},
   "outputs": [
    {
     "data": {
      "text/plain": [
       "(array([-2, -1,  0]), array([ 1, 10,  4], dtype=int64))"
      ]
     },
     "execution_count": 210,
     "metadata": {},
     "output_type": "execute_result"
    }
   ],
   "source": [
    "np.unique(x, return_counts=True)"
   ]
  },
  {
   "cell_type": "code",
   "execution_count": 216,
   "id": "c58b6468-3f83-4219-a2ae-3672eb80c384",
   "metadata": {},
   "outputs": [
    {
     "data": {
      "text/plain": [
       "array([1, 1, 2], dtype=int64)"
      ]
     },
     "execution_count": 216,
     "metadata": {},
     "output_type": "execute_result"
    }
   ],
   "source": [
    "np.count_nonzero(x==0, axis=1)"
   ]
  },
  {
   "cell_type": "code",
   "execution_count": 228,
   "id": "a652db2e-7d0b-43a2-91ed-c9439da88aec",
   "metadata": {},
   "outputs": [],
   "source": [
    "gene_cds['cds_good'] = gene_cds['cds_mtx'].map(pop_cds_good)"
   ]
  },
  {
   "cell_type": "code",
   "execution_count": 230,
   "id": "88e43d0f-d423-4c10-b798-3953916de9a9",
   "metadata": {},
   "outputs": [],
   "source": [
    "gene_cds2 = gene_cds[gene_cds['cds_good']]"
   ]
  },
  {
   "cell_type": "code",
   "execution_count": 231,
   "id": "b266ebf1-df47-433c-8e7e-4f5a49f4bff1",
   "metadata": {},
   "outputs": [
    {
     "data": {
      "text/html": [
       "<div>\n",
       "<style scoped>\n",
       "    .dataframe tbody tr th:only-of-type {\n",
       "        vertical-align: middle;\n",
       "    }\n",
       "\n",
       "    .dataframe tbody tr th {\n",
       "        vertical-align: top;\n",
       "    }\n",
       "\n",
       "    .dataframe thead th {\n",
       "        text-align: right;\n",
       "    }\n",
       "</style>\n",
       "<table border=\"1\" class=\"dataframe\">\n",
       "  <thead>\n",
       "    <tr style=\"text-align: right;\">\n",
       "      <th></th>\n",
       "      <th>cds_arr</th>\n",
       "      <th>cds_unique</th>\n",
       "      <th>cds_mtx</th>\n",
       "      <th>cds_good</th>\n",
       "      <th>exons_mtx</th>\n",
       "    </tr>\n",
       "  </thead>\n",
       "  <tbody>\n",
       "    <tr>\n",
       "      <th>A2M</th>\n",
       "      <td>[[9115764, 9067839], [9115764, 9110334]]</td>\n",
       "      <td>[9067839, 9110334, 9115764]</td>\n",
       "      <td>[[1, 0, 1], [0, 1, 1]]</td>\n",
       "      <td>True</td>\n",
       "      <td>NaN</td>\n",
       "    </tr>\n",
       "    <tr>\n",
       "      <th>A2ML1</th>\n",
       "      <td>[[8822652, 8875011], [8843236, 8875011], [8845...</td>\n",
       "      <td>[8822652, 8843236, 8845172, 8845300, 8846124, ...</td>\n",
       "      <td>[[1, 0, 0, 0, 0, 0, 1], [0, 1, 0, 0, 0, 0, 1],...</td>\n",
       "      <td>True</td>\n",
       "      <td>NaN</td>\n",
       "    </tr>\n",
       "    <tr>\n",
       "      <th>AAAS</th>\n",
       "      <td>[[53314751, 53307713], [53321343, 53307713], [...</td>\n",
       "      <td>[53307713, 53308133, 53308960, 53314751, 53315...</td>\n",
       "      <td>[[1, 0, 0, 1, 0, 0], [1, 0, 0, 0, 0, 1], [1, 0...</td>\n",
       "      <td>True</td>\n",
       "      <td>NaN</td>\n",
       "    </tr>\n",
       "    <tr>\n",
       "      <th>AADAC</th>\n",
       "      <td>[[151814163, 151828172], [151814163, 151824846]]</td>\n",
       "      <td>[151814163, 151824846, 151828172]</td>\n",
       "      <td>[[1, 0, 1], [1, 1, 0]]</td>\n",
       "      <td>True</td>\n",
       "      <td>NaN</td>\n",
       "    </tr>\n",
       "    <tr>\n",
       "      <th>AAGAB</th>\n",
       "      <td>[[67254559, 67202898], [67236408, 67202898], [...</td>\n",
       "      <td>[67202898, 67231897, 67236408, 67254559]</td>\n",
       "      <td>[[1, 0, 0, 1], [1, 0, 1, 0], [0, 1, 1, 0]]</td>\n",
       "      <td>True</td>\n",
       "      <td>NaN</td>\n",
       "    </tr>\n",
       "    <tr>\n",
       "      <th>...</th>\n",
       "      <td>...</td>\n",
       "      <td>...</td>\n",
       "      <td>...</td>\n",
       "      <td>...</td>\n",
       "      <td>...</td>\n",
       "    </tr>\n",
       "    <tr>\n",
       "      <th>ZXDC</th>\n",
       "      <td>[[126474959, 126438461], [126474959, 126462220]]</td>\n",
       "      <td>[126438461, 126462220, 126474959]</td>\n",
       "      <td>[[1, 0, 1], [0, 1, 1]]</td>\n",
       "      <td>True</td>\n",
       "      <td>NaN</td>\n",
       "    </tr>\n",
       "    <tr>\n",
       "      <th>ZYG11A</th>\n",
       "      <td>[[52860749, 52892957], [52842884, 52892957]]</td>\n",
       "      <td>[52842884, 52860749, 52892957]</td>\n",
       "      <td>[[0, 1, 1], [1, 0, 1]]</td>\n",
       "      <td>True</td>\n",
       "      <td>NaN</td>\n",
       "    </tr>\n",
       "    <tr>\n",
       "      <th>ZYG11B</th>\n",
       "      <td>[[52726654, 52821629], [52726654, 52805476]]</td>\n",
       "      <td>[52726654, 52805476, 52821629]</td>\n",
       "      <td>[[1, 0, 1], [1, 1, 0]]</td>\n",
       "      <td>True</td>\n",
       "      <td>NaN</td>\n",
       "    </tr>\n",
       "    <tr>\n",
       "      <th>ZYX</th>\n",
       "      <td>[[143381295, 143382925], [143381572, 143390682...</td>\n",
       "      <td>[143381295, 143381572, 143381575, 143382656, 1...</td>\n",
       "      <td>[[1, 0, 0, 0, 0, 1, 0, 0, 0], [0, 1, 0, 0, 0, ...</td>\n",
       "      <td>True</td>\n",
       "      <td>NaN</td>\n",
       "    </tr>\n",
       "    <tr>\n",
       "      <th>ZZZ3</th>\n",
       "      <td>[[77631850, 77565784], [77639449, 77565784], [...</td>\n",
       "      <td>[77565784, 77631850, 77633182, 77633246, 77633...</td>\n",
       "      <td>[[1, 1, 0, 0, 0, 0], [1, 0, 0, 0, 0, 1], [0, 0...</td>\n",
       "      <td>True</td>\n",
       "      <td>NaN</td>\n",
       "    </tr>\n",
       "  </tbody>\n",
       "</table>\n",
       "<p>9477 rows × 5 columns</p>\n",
       "</div>"
      ],
      "text/plain": [
       "                                                  cds_arr  \\\n",
       "A2M              [[9115764, 9067839], [9115764, 9110334]]   \n",
       "A2ML1   [[8822652, 8875011], [8843236, 8875011], [8845...   \n",
       "AAAS    [[53314751, 53307713], [53321343, 53307713], [...   \n",
       "AADAC    [[151814163, 151828172], [151814163, 151824846]]   \n",
       "AAGAB   [[67254559, 67202898], [67236408, 67202898], [...   \n",
       "...                                                   ...   \n",
       "ZXDC     [[126474959, 126438461], [126474959, 126462220]]   \n",
       "ZYG11A       [[52860749, 52892957], [52842884, 52892957]]   \n",
       "ZYG11B       [[52726654, 52821629], [52726654, 52805476]]   \n",
       "ZYX     [[143381295, 143382925], [143381572, 143390682...   \n",
       "ZZZ3    [[77631850, 77565784], [77639449, 77565784], [...   \n",
       "\n",
       "                                               cds_unique  \\\n",
       "A2M                           [9067839, 9110334, 9115764]   \n",
       "A2ML1   [8822652, 8843236, 8845172, 8845300, 8846124, ...   \n",
       "AAAS    [53307713, 53308133, 53308960, 53314751, 53315...   \n",
       "AADAC                   [151814163, 151824846, 151828172]   \n",
       "AAGAB            [67202898, 67231897, 67236408, 67254559]   \n",
       "...                                                   ...   \n",
       "ZXDC                    [126438461, 126462220, 126474959]   \n",
       "ZYG11A                     [52842884, 52860749, 52892957]   \n",
       "ZYG11B                     [52726654, 52805476, 52821629]   \n",
       "ZYX     [143381295, 143381572, 143381575, 143382656, 1...   \n",
       "ZZZ3    [77565784, 77631850, 77633182, 77633246, 77633...   \n",
       "\n",
       "                                                  cds_mtx  cds_good exons_mtx  \n",
       "A2M                                [[1, 0, 1], [0, 1, 1]]      True       NaN  \n",
       "A2ML1   [[1, 0, 0, 0, 0, 0, 1], [0, 1, 0, 0, 0, 0, 1],...      True       NaN  \n",
       "AAAS    [[1, 0, 0, 1, 0, 0], [1, 0, 0, 0, 0, 1], [1, 0...      True       NaN  \n",
       "AADAC                              [[1, 0, 1], [1, 1, 0]]      True       NaN  \n",
       "AAGAB          [[1, 0, 0, 1], [1, 0, 1, 0], [0, 1, 1, 0]]      True       NaN  \n",
       "...                                                   ...       ...       ...  \n",
       "ZXDC                               [[1, 0, 1], [0, 1, 1]]      True       NaN  \n",
       "ZYG11A                             [[0, 1, 1], [1, 0, 1]]      True       NaN  \n",
       "ZYG11B                             [[1, 0, 1], [1, 1, 0]]      True       NaN  \n",
       "ZYX     [[1, 0, 0, 0, 0, 1, 0, 0, 0], [0, 1, 0, 0, 0, ...      True       NaN  \n",
       "ZZZ3    [[1, 1, 0, 0, 0, 0], [1, 0, 0, 0, 0, 1], [0, 0...      True       NaN  \n",
       "\n",
       "[9477 rows x 5 columns]"
      ]
     },
     "execution_count": 231,
     "metadata": {},
     "output_type": "execute_result"
    }
   ],
   "source": [
    "gene_cds2"
   ]
  },
  {
   "cell_type": "code",
   "execution_count": 285,
   "id": "73072efe-f908-45d1-b62a-3abd1a4d7e46",
   "metadata": {},
   "outputs": [],
   "source": [
    "def pop_exons_mtx(gene, cds_unique):\n",
    "    x = (ens_exons[ens_exons['ensembl_gene_name'] == gene]\n",
    "         .groupby('ensembl_trs_id')[['exon_start', 'exon_end']]\n",
    "         .apply(lambda z: [np.arange(a, b+1) for a, b in zip(z['exon_start'], z['exon_end'])]).apply(np.hstack))\n",
    "\n",
    "    return np.vstack([np.isin(cds_unique, xi).astype(int) for xi in x]).sum(axis=0)"
   ]
  },
  {
   "cell_type": "code",
   "execution_count": 289,
   "id": "89a93ba2-570e-471b-9d36-94b7b44e8def",
   "metadata": {},
   "outputs": [
    {
     "name": "stdout",
     "output_type": "stream",
     "text": [
      "9477 / 9477          \r"
     ]
    }
   ],
   "source": [
    "exons_mtx_l = []\n",
    "for i,j in enumerate(gene_cds2.index.to_list()):\n",
    "    exons_mtx_l.append(pop_exons_mtx(j, gene_cds2.loc[j, 'cds_unique']))\n",
    "    print(f'{i+1} / {len(gene_cds2.index)}          ', end='\\r')"
   ]
  },
  {
   "cell_type": "code",
   "execution_count": 291,
   "id": "0de7c387-4f4c-4195-9f0b-5db8d6affc75",
   "metadata": {},
   "outputs": [
    {
     "name": "stderr",
     "output_type": "stream",
     "text": [
      "C:\\Users\\Dynev\\AppData\\Local\\Temp\\ipykernel_14536\\2647946077.py:1: SettingWithCopyWarning: \n",
      "A value is trying to be set on a copy of a slice from a DataFrame.\n",
      "Try using .loc[row_indexer,col_indexer] = value instead\n",
      "\n",
      "See the caveats in the documentation: https://pandas.pydata.org/pandas-docs/stable/user_guide/indexing.html#returning-a-view-versus-a-copy\n",
      "  gene_cds2['exons_mtx'] = exons_mtx_l\n"
     ]
    }
   ],
   "source": [
    "gene_cds2['exons_mtx'] = exons_mtx_l"
   ]
  },
  {
   "cell_type": "code",
   "execution_count": 294,
   "id": "6dc773df-75b4-4e85-a587-055614144705",
   "metadata": {},
   "outputs": [],
   "source": [
    "#exons_mtx_l"
   ]
  },
  {
   "cell_type": "code",
   "execution_count": 295,
   "id": "987b4316-9d16-4018-99e6-06ce0aca6542",
   "metadata": {},
   "outputs": [],
   "source": [
    "def final(exons_mtx):\n",
    "    if np.count_nonzero(exons_mtx == 1) > 1:\n",
    "        return True\n",
    "    else:\n",
    "        return False"
   ]
  },
  {
   "cell_type": "code",
   "execution_count": 296,
   "id": "3be40b86-af06-488c-9430-08db0d5c7d29",
   "metadata": {},
   "outputs": [
    {
     "name": "stderr",
     "output_type": "stream",
     "text": [
      "C:\\Users\\Dynev\\AppData\\Local\\Temp\\ipykernel_14536\\2794190523.py:1: SettingWithCopyWarning: \n",
      "A value is trying to be set on a copy of a slice from a DataFrame.\n",
      "Try using .loc[row_indexer,col_indexer] = value instead\n",
      "\n",
      "See the caveats in the documentation: https://pandas.pydata.org/pandas-docs/stable/user_guide/indexing.html#returning-a-view-versus-a-copy\n",
      "  gene_cds2['f'] = gene_cds2['exons_mtx'].map(final)\n"
     ]
    }
   ],
   "source": [
    "gene_cds2['f'] = gene_cds2['exons_mtx'].map(final)"
   ]
  },
  {
   "cell_type": "code",
   "execution_count": 299,
   "id": "63d776a5-45bd-4397-b115-2d2ebb0e6bd1",
   "metadata": {},
   "outputs": [],
   "source": [
    "gene_cds3 = gene_cds2[gene_cds2['f']]"
   ]
  },
  {
   "cell_type": "code",
   "execution_count": 342,
   "id": "25d0ea0b-da7a-4f34-96af-80d21618d4bb",
   "metadata": {},
   "outputs": [],
   "source": [
    "def superfinal(gene):\n",
    "    \n",
    "    cds_mtx = gene_cds3.loc[gene, 'cds_mtx']\n",
    "    cds_mtx2 = cds_mtx - cds_mtx.sum(0)\n",
    "    zeros = np.count_nonzero(cds_mtx2==0, axis=1)\n",
    "    \n",
    "    s = list(np.where(zeros == 1)[0])\n",
    "    solutions = []\n",
    "\n",
    "    for indices in sorted(list(chain.from_iterable(combinations(s, r) for r in range(2, len(s)+1))), key=len, reverse=True):\n",
    "        cds_sum_loc = cds_mtx[indices, :].sum(axis=0)\n",
    "        c = Counter(cds_sum_loc)\n",
    "        if c[len(indices)] == 1 and c[1] == len(indices):\n",
    "            mask = np.where(cds_sum_loc >= 1)[0]\n",
    "            if not (cds_sum_loc[mask] - gene_cds3.loc[gene, 'exons_mtx'][mask]).any():\n",
    "                solutions.append(indices)\n",
    "                \n",
    "    solutions_ids = []\n",
    "    if solutions:\n",
    "        for i in solutions:\n",
    "            v = ens_min[ens_min['ensembl_gene_name'] == gene]\n",
    "            solutions_ids.append(v.iloc[[*i],:]['ensembl_trs_id'].to_list())\n",
    "        return solutions_ids\n",
    "    else:\n",
    "        return np.nan"
   ]
  },
  {
   "cell_type": "code",
   "execution_count": 343,
   "id": "0df1871a-6877-48ef-bf11-a24118006f6e",
   "metadata": {},
   "outputs": [
    {
     "name": "stdout",
     "output_type": "stream",
     "text": [
      "1584 / 1585       \r"
     ]
    }
   ],
   "source": [
    "zz = []\n",
    "for i, gene in enumerate(gene_cds3.index):\n",
    "    zz.append(superfinal(gene))\n",
    "    print(f'{i} / {len(gene_cds3.index)}       ', end='\\r')"
   ]
  },
  {
   "cell_type": "code",
   "execution_count": 344,
   "id": "87bea588-c278-44c6-9c7b-b2525ce51abe",
   "metadata": {},
   "outputs": [
    {
     "name": "stderr",
     "output_type": "stream",
     "text": [
      "C:\\Users\\Dynev\\AppData\\Local\\Temp\\ipykernel_14536\\4264072357.py:1: SettingWithCopyWarning: \n",
      "A value is trying to be set on a copy of a slice from a DataFrame.\n",
      "Try using .loc[row_indexer,col_indexer] = value instead\n",
      "\n",
      "See the caveats in the documentation: https://pandas.pydata.org/pandas-docs/stable/user_guide/indexing.html#returning-a-view-versus-a-copy\n",
      "  gene_cds3['sol'] = zz\n"
     ]
    }
   ],
   "source": [
    "gene_cds3['sol'] = zz"
   ]
  },
  {
   "cell_type": "code",
   "execution_count": 346,
   "id": "4f7eff73-5f0c-446f-a84f-80a958c3d0a5",
   "metadata": {},
   "outputs": [],
   "source": [
    "gene_cds4 = gene_cds3[~gene_cds3['sol'].isna()]"
   ]
  },
  {
   "cell_type": "code",
   "execution_count": 352,
   "id": "b69c44ca-c156-4c35-91ec-fa46d0a66f5c",
   "metadata": {},
   "outputs": [
    {
     "data": {
      "text/plain": [
       "array([[1, 0, 0, 1, 0, 0],\n",
       "       [1, 1, 0, 0, 0, 0],\n",
       "       [1, 0, 1, 0, 0, 0],\n",
       "       [0, 0, 0, 0, 1, 1]])"
      ]
     },
     "execution_count": 352,
     "metadata": {},
     "output_type": "execute_result"
    }
   ],
   "source": [
    "gene_cds4.loc['ASB5']['cds_mtx']"
   ]
  },
  {
   "cell_type": "code",
   "execution_count": 353,
   "id": "878479e0-7afa-44b5-8751-f0d40253db87",
   "metadata": {},
   "outputs": [
    {
     "data": {
      "text/plain": [
       "array([3, 1, 1, 1, 2, 2])"
      ]
     },
     "execution_count": 353,
     "metadata": {},
     "output_type": "execute_result"
    }
   ],
   "source": [
    "gene_cds4.loc['ASB5']['exons_mtx']"
   ]
  },
  {
   "cell_type": "code",
   "execution_count": 355,
   "id": "6d9ca316-c6b5-4dda-8f36-7c5fac717bf2",
   "metadata": {},
   "outputs": [
    {
     "data": {
      "text/html": [
       "<div>\n",
       "<style scoped>\n",
       "    .dataframe tbody tr th:only-of-type {\n",
       "        vertical-align: middle;\n",
       "    }\n",
       "\n",
       "    .dataframe tbody tr th {\n",
       "        vertical-align: top;\n",
       "    }\n",
       "\n",
       "    .dataframe thead th {\n",
       "        text-align: right;\n",
       "    }\n",
       "</style>\n",
       "<table border=\"1\" class=\"dataframe\">\n",
       "  <thead>\n",
       "    <tr style=\"text-align: right;\">\n",
       "      <th></th>\n",
       "      <th>ensembl_trs_id</th>\n",
       "      <th>ensembl_gene_name</th>\n",
       "      <th>trs_type</th>\n",
       "      <th>uniprot_isoform_id</th>\n",
       "      <th>uniprot_trembl_id</th>\n",
       "      <th>cds_start</th>\n",
       "      <th>cds_end</th>\n",
       "      <th>_protein_id</th>\n",
       "      <th>_id_warning</th>\n",
       "    </tr>\n",
       "  </thead>\n",
       "  <tbody>\n",
       "    <tr>\n",
       "      <th>60430</th>\n",
       "      <td>ENST00000296525</td>\n",
       "      <td>ASB5</td>\n",
       "      <td>protein_coding</td>\n",
       "      <td>Q8WWX0-1</td>\n",
       "      <td>Q5HYF3</td>\n",
       "      <td>176268913</td>\n",
       "      <td>176215727</td>\n",
       "      <td>Q8WWX0-1</td>\n",
       "      <td>NaN</td>\n",
       "    </tr>\n",
       "    <tr>\n",
       "      <th>60434</th>\n",
       "      <td>ENST00000672074</td>\n",
       "      <td>ASB5</td>\n",
       "      <td>protein_coding</td>\n",
       "      <td>NaN</td>\n",
       "      <td>A0A5F9ZHS2</td>\n",
       "      <td>176231163</td>\n",
       "      <td>176215727</td>\n",
       "      <td>A0A5F9ZHS2</td>\n",
       "      <td>NaN</td>\n",
       "    </tr>\n",
       "    <tr>\n",
       "      <th>60439</th>\n",
       "      <td>ENST00000512254</td>\n",
       "      <td>ASB5</td>\n",
       "      <td>protein_coding</td>\n",
       "      <td>Q8WWX0-2</td>\n",
       "      <td>NaN</td>\n",
       "      <td>176241462</td>\n",
       "      <td>176215727</td>\n",
       "      <td>Q8WWX0-2</td>\n",
       "      <td>NaN</td>\n",
       "    </tr>\n",
       "    <tr>\n",
       "      <th>60444</th>\n",
       "      <td>ENST00000511879</td>\n",
       "      <td>ASB5</td>\n",
       "      <td>processed_transcript</td>\n",
       "      <td>NaN</td>\n",
       "      <td>NaN</td>\n",
       "      <td>&lt;NA&gt;</td>\n",
       "      <td>&lt;NA&gt;</td>\n",
       "      <td>_61444</td>\n",
       "      <td>NaN</td>\n",
       "    </tr>\n",
       "    <tr>\n",
       "      <th>60446</th>\n",
       "      <td>ENST00000510578</td>\n",
       "      <td>ASB5</td>\n",
       "      <td>processed_transcript</td>\n",
       "      <td>NaN</td>\n",
       "      <td>NaN</td>\n",
       "      <td>&lt;NA&gt;</td>\n",
       "      <td>&lt;NA&gt;</td>\n",
       "      <td>_61446</td>\n",
       "      <td>NaN</td>\n",
       "    </tr>\n",
       "    <tr>\n",
       "      <th>60453</th>\n",
       "      <td>ENST00000505299</td>\n",
       "      <td>ASB5</td>\n",
       "      <td>protein_coding</td>\n",
       "      <td>NaN</td>\n",
       "      <td>D6R9Q2</td>\n",
       "      <td>176269049</td>\n",
       "      <td>176269108</td>\n",
       "      <td>D6R9Q2</td>\n",
       "      <td>NaN</td>\n",
       "    </tr>\n",
       "  </tbody>\n",
       "</table>\n",
       "</div>"
      ],
      "text/plain": [
       "        ensembl_trs_id ensembl_gene_name              trs_type  \\\n",
       "60430  ENST00000296525              ASB5        protein_coding   \n",
       "60434  ENST00000672074              ASB5        protein_coding   \n",
       "60439  ENST00000512254              ASB5        protein_coding   \n",
       "60444  ENST00000511879              ASB5  processed_transcript   \n",
       "60446  ENST00000510578              ASB5  processed_transcript   \n",
       "60453  ENST00000505299              ASB5        protein_coding   \n",
       "\n",
       "      uniprot_isoform_id uniprot_trembl_id  cds_start    cds_end _protein_id  \\\n",
       "60430           Q8WWX0-1            Q5HYF3  176268913  176215727    Q8WWX0-1   \n",
       "60434                NaN        A0A5F9ZHS2  176231163  176215727  A0A5F9ZHS2   \n",
       "60439           Q8WWX0-2               NaN  176241462  176215727    Q8WWX0-2   \n",
       "60444                NaN               NaN       <NA>       <NA>      _61444   \n",
       "60446                NaN               NaN       <NA>       <NA>      _61446   \n",
       "60453                NaN            D6R9Q2  176269049  176269108      D6R9Q2   \n",
       "\n",
       "      _id_warning  \n",
       "60430         NaN  \n",
       "60434         NaN  \n",
       "60439         NaN  \n",
       "60444         NaN  \n",
       "60446         NaN  \n",
       "60453         NaN  "
      ]
     },
     "execution_count": 355,
     "metadata": {},
     "output_type": "execute_result"
    }
   ],
   "source": [
    "ens_min[ens_min['ensembl_gene_name'] == 'ASB5']"
   ]
  },
  {
   "cell_type": "code",
   "execution_count": 357,
   "id": "bfc55401-dd39-4554-a2c5-6f7c2710b345",
   "metadata": {},
   "outputs": [
    {
     "data": {
      "text/html": [
       "<div>\n",
       "<style scoped>\n",
       "    .dataframe tbody tr th:only-of-type {\n",
       "        vertical-align: middle;\n",
       "    }\n",
       "\n",
       "    .dataframe tbody tr th {\n",
       "        vertical-align: top;\n",
       "    }\n",
       "\n",
       "    .dataframe thead th {\n",
       "        text-align: right;\n",
       "    }\n",
       "</style>\n",
       "<table border=\"1\" class=\"dataframe\">\n",
       "  <thead>\n",
       "    <tr style=\"text-align: right;\">\n",
       "      <th></th>\n",
       "      <th>ensembl_gene_name</th>\n",
       "      <th>ensembl_trs_id</th>\n",
       "      <th>ensembl_exon_id</th>\n",
       "      <th>5utr_start</th>\n",
       "      <th>5utr_end</th>\n",
       "      <th>3utr_start</th>\n",
       "      <th>3utr_end</th>\n",
       "      <th>exon_start</th>\n",
       "      <th>exon_end</th>\n",
       "      <th>cds_start</th>\n",
       "      <th>cds_end</th>\n",
       "    </tr>\n",
       "  </thead>\n",
       "  <tbody>\n",
       "    <tr>\n",
       "      <th>721031</th>\n",
       "      <td>ASB5</td>\n",
       "      <td>ENST00000296525</td>\n",
       "      <td>ENSE00001081670</td>\n",
       "      <td>176269109</td>\n",
       "      <td>176269222</td>\n",
       "      <td>&lt;NA&gt;</td>\n",
       "      <td>&lt;NA&gt;</td>\n",
       "      <td>176268913</td>\n",
       "      <td>176269222</td>\n",
       "      <td>176268913</td>\n",
       "      <td>176269108</td>\n",
       "    </tr>\n",
       "    <tr>\n",
       "      <th>721032</th>\n",
       "      <td>ASB5</td>\n",
       "      <td>ENST00000296525</td>\n",
       "      <td>ENSE00003603238</td>\n",
       "      <td>&lt;NA&gt;</td>\n",
       "      <td>&lt;NA&gt;</td>\n",
       "      <td>&lt;NA&gt;</td>\n",
       "      <td>&lt;NA&gt;</td>\n",
       "      <td>176225262</td>\n",
       "      <td>176225341</td>\n",
       "      <td>176225262</td>\n",
       "      <td>176225341</td>\n",
       "    </tr>\n",
       "    <tr>\n",
       "      <th>721033</th>\n",
       "      <td>ASB5</td>\n",
       "      <td>ENST00000296525</td>\n",
       "      <td>ENSE00003502184</td>\n",
       "      <td>&lt;NA&gt;</td>\n",
       "      <td>&lt;NA&gt;</td>\n",
       "      <td>&lt;NA&gt;</td>\n",
       "      <td>&lt;NA&gt;</td>\n",
       "      <td>176222313</td>\n",
       "      <td>176222420</td>\n",
       "      <td>176222313</td>\n",
       "      <td>176222420</td>\n",
       "    </tr>\n",
       "    <tr>\n",
       "      <th>721034</th>\n",
       "      <td>ASB5</td>\n",
       "      <td>ENST00000296525</td>\n",
       "      <td>ENSE00001081665</td>\n",
       "      <td>&lt;NA&gt;</td>\n",
       "      <td>&lt;NA&gt;</td>\n",
       "      <td>&lt;NA&gt;</td>\n",
       "      <td>&lt;NA&gt;</td>\n",
       "      <td>176221450</td>\n",
       "      <td>176221600</td>\n",
       "      <td>176221450</td>\n",
       "      <td>176221600</td>\n",
       "    </tr>\n",
       "    <tr>\n",
       "      <th>721035</th>\n",
       "      <td>ASB5</td>\n",
       "      <td>ENST00000296525</td>\n",
       "      <td>ENSE00001081666</td>\n",
       "      <td>&lt;NA&gt;</td>\n",
       "      <td>&lt;NA&gt;</td>\n",
       "      <td>&lt;NA&gt;</td>\n",
       "      <td>&lt;NA&gt;</td>\n",
       "      <td>176221155</td>\n",
       "      <td>176221289</td>\n",
       "      <td>176221155</td>\n",
       "      <td>176221289</td>\n",
       "    </tr>\n",
       "    <tr>\n",
       "      <th>721036</th>\n",
       "      <td>ASB5</td>\n",
       "      <td>ENST00000296525</td>\n",
       "      <td>ENSE00001254223</td>\n",
       "      <td>&lt;NA&gt;</td>\n",
       "      <td>&lt;NA&gt;</td>\n",
       "      <td>&lt;NA&gt;</td>\n",
       "      <td>&lt;NA&gt;</td>\n",
       "      <td>176216818</td>\n",
       "      <td>176217009</td>\n",
       "      <td>176216818</td>\n",
       "      <td>176217009</td>\n",
       "    </tr>\n",
       "    <tr>\n",
       "      <th>721037</th>\n",
       "      <td>ASB5</td>\n",
       "      <td>ENST00000296525</td>\n",
       "      <td>ENSE00001254259</td>\n",
       "      <td>&lt;NA&gt;</td>\n",
       "      <td>&lt;NA&gt;</td>\n",
       "      <td>176213673</td>\n",
       "      <td>176215599</td>\n",
       "      <td>176213673</td>\n",
       "      <td>176215727</td>\n",
       "      <td>176215600</td>\n",
       "      <td>176215727</td>\n",
       "    </tr>\n",
       "  </tbody>\n",
       "</table>\n",
       "</div>"
      ],
      "text/plain": [
       "       ensembl_gene_name   ensembl_trs_id  ensembl_exon_id  5utr_start  \\\n",
       "721031              ASB5  ENST00000296525  ENSE00001081670   176269109   \n",
       "721032              ASB5  ENST00000296525  ENSE00003603238        <NA>   \n",
       "721033              ASB5  ENST00000296525  ENSE00003502184        <NA>   \n",
       "721034              ASB5  ENST00000296525  ENSE00001081665        <NA>   \n",
       "721035              ASB5  ENST00000296525  ENSE00001081666        <NA>   \n",
       "721036              ASB5  ENST00000296525  ENSE00001254223        <NA>   \n",
       "721037              ASB5  ENST00000296525  ENSE00001254259        <NA>   \n",
       "\n",
       "         5utr_end  3utr_start   3utr_end  exon_start   exon_end  cds_start  \\\n",
       "721031  176269222        <NA>       <NA>   176268913  176269222  176268913   \n",
       "721032       <NA>        <NA>       <NA>   176225262  176225341  176225262   \n",
       "721033       <NA>        <NA>       <NA>   176222313  176222420  176222313   \n",
       "721034       <NA>        <NA>       <NA>   176221450  176221600  176221450   \n",
       "721035       <NA>        <NA>       <NA>   176221155  176221289  176221155   \n",
       "721036       <NA>        <NA>       <NA>   176216818  176217009  176216818   \n",
       "721037       <NA>   176213673  176215599   176213673  176215727  176215600   \n",
       "\n",
       "          cds_end  \n",
       "721031  176269108  \n",
       "721032  176225341  \n",
       "721033  176222420  \n",
       "721034  176221600  \n",
       "721035  176221289  \n",
       "721036  176217009  \n",
       "721037  176215727  "
      ]
     },
     "execution_count": 357,
     "metadata": {},
     "output_type": "execute_result"
    }
   ],
   "source": [
    "ens_exons[ens_exons['ensembl_trs_id'] == 'ENST00000296525']"
   ]
  },
  {
   "cell_type": "code",
   "execution_count": 300,
   "id": "32e8779e-5188-4854-b1c5-a13b71979ec2",
   "metadata": {},
   "outputs": [],
   "source": [
    "cds_mtx = gene_cds2.loc['TEF', 'cds_mtx']\n",
    "cds_mtx2 = cds_mtx - cds_mtx.sum(0)\n",
    "zeros = np.count_nonzero(cds_mtx2==0, axis=1)"
   ]
  },
  {
   "cell_type": "code",
   "execution_count": 302,
   "id": "e9bb19f5-6469-4cb8-9fce-ccded425705d",
   "metadata": {},
   "outputs": [
    {
     "data": {
      "text/plain": [
       "(array([0, 1], dtype=int64),)"
      ]
     },
     "execution_count": 302,
     "metadata": {},
     "output_type": "execute_result"
    }
   ],
   "source": [
    "np.where(zeros == 1)"
   ]
  },
  {
   "cell_type": "code",
   "execution_count": 311,
   "id": "661880b3-7af7-4a87-9534-4a19f567de00",
   "metadata": {},
   "outputs": [
    {
     "data": {
      "text/plain": [
       "[(4, 5)]"
      ]
     },
     "execution_count": 311,
     "metadata": {},
     "output_type": "execute_result"
    }
   ],
   "source": [
    "list(chain.from_iterable(combinations([4,5], r) for r in range(2, len([4,5])+1)))"
   ]
  },
  {
   "cell_type": "code",
   "execution_count": 263,
   "id": "3b16bb32-caaa-4208-9a20-c60bc3f9388b",
   "metadata": {},
   "outputs": [
    {
     "data": {
      "text/plain": [
       "array([1, 1, 1, 3, 2])"
      ]
     },
     "execution_count": 263,
     "metadata": {},
     "output_type": "execute_result"
    }
   ],
   "source": [
    "pop_exons_mtx('TEF', gene_cds2.loc['TEF', 'cds_unique'])"
   ]
  },
  {
   "cell_type": "code",
   "execution_count": 284,
   "id": "6e88d371-b76a-4ea4-9c0c-bea7f9304233",
   "metadata": {},
   "outputs": [
    {
     "data": {
      "text/plain": [
       "array([3, 3, 5])"
      ]
     },
     "execution_count": 284,
     "metadata": {},
     "output_type": "execute_result"
    }
   ],
   "source": [
    "gene = 'A2M'\n",
    "\n",
    "x = (ens_exons[ens_exons['ensembl_gene_name'] == gene]\n",
    ".groupby('ensembl_trs_id')[['exon_start', 'exon_end']]\n",
    ".apply(lambda x: [np.arange(a, b+1) for a, b in zip(x['exon_start'], x['exon_end'])]).apply(np.hstack))\n",
    "\n",
    "np.vstack([np.isin(gene_cds2.loc['A2M', 'cds_unique'], xi).astype(int) for xi in x]).sum(axis=0)"
   ]
  },
  {
   "cell_type": "code",
   "execution_count": 283,
   "id": "43b769b7-651e-4d04-8d9b-edce4ff41dd2",
   "metadata": {},
   "outputs": [
    {
     "data": {
      "text/plain": [
       "ensembl_trs_id\n",
       "ENST00000318602    [9115764, 9115765, 9115766, 9115767, 9115768, ...\n",
       "ENST00000404455    [9113360, 9113361, 9113362, 9113363, 9113364, ...\n",
       "ENST00000462568    [9090356, 9090357, 9090358, 9090359, 9090360, ...\n",
       "ENST00000467091    [9115764, 9115765, 9115766, 9115767, 9115768, ...\n",
       "ENST00000472360    [9101447, 9101448, 9101449, 9101450, 9101451, ...\n",
       "ENST00000495442    [9068740, 9068741, 9068742, 9068743, 9068744, ...\n",
       "ENST00000495709    [9068740, 9068741, 9068742, 9068743, 9068744, ...\n",
       "ENST00000497324    [9115764, 9115765, 9115766, 9115767, 9115768, ...\n",
       "ENST00000539638    [9113360, 9113361, 9113362, 9113363, 9113364, ...\n",
       "ENST00000542567    [9080274, 9080275, 9080276, 9080277, 9080278, ...\n",
       "ENST00000543436    [9091201, 9091202, 9091203, 9091204, 9091205, ...\n",
       "ENST00000545828    [9106236, 9106237, 9106238, 9106239, 9106240, ...\n",
       "ENST00000546069    [9101144, 9101145, 9101146, 9101147, 9101148, ...\n",
       "dtype: object"
      ]
     },
     "execution_count": 283,
     "metadata": {},
     "output_type": "execute_result"
    }
   ],
   "source": [
    "x"
   ]
  },
  {
   "cell_type": "code",
   "execution_count": 237,
   "id": "5ecb6891-d7f2-44de-b79a-4baa364d8e40",
   "metadata": {},
   "outputs": [
    {
     "data": {
      "text/plain": [
       "array([41367533, 41382045, 41382935, 41394274, 41395960], dtype=object)"
      ]
     },
     "execution_count": 237,
     "metadata": {},
     "output_type": "execute_result"
    }
   ],
   "source": [
    "y"
   ]
  },
  {
   "cell_type": "code",
   "execution_count": 256,
   "id": "b2a6d49f-4e41-475a-8513-91c9fa1e9691",
   "metadata": {},
   "outputs": [
    {
     "data": {
      "text/plain": [
       "array([1, 1, 1, 3, 2])"
      ]
     },
     "execution_count": 256,
     "metadata": {},
     "output_type": "execute_result"
    }
   ],
   "source": [
    "np.vstack([np.isin(y, xi).astype(int) for xi in x]).sum(axis=0)"
   ]
  },
  {
   "cell_type": "code",
   "execution_count": 255,
   "id": "acf8c800-a94d-42f8-bf44-394f4752405d",
   "metadata": {},
   "outputs": [
    {
     "data": {
      "text/plain": [
       "[array([0, 1, 0, 1, 1]), array([1, 0, 0, 1, 1]), array([0, 0, 1, 1, 0])]"
      ]
     },
     "execution_count": 255,
     "metadata": {},
     "output_type": "execute_result"
    }
   ],
   "source": [
    "[np.isin(y, xi).astype(int) for xi in x]"
   ]
  },
  {
   "cell_type": "code",
   "execution_count": 246,
   "id": "342fdf70-f065-4a28-8c7e-b605e7ee418a",
   "metadata": {},
   "outputs": [
    {
     "data": {
      "text/plain": [
       "array([[41367533],\n",
       "       [41382045],\n",
       "       [41382935],\n",
       "       [41394274],\n",
       "       [41395960]], dtype=object)"
      ]
     },
     "execution_count": 246,
     "metadata": {},
     "output_type": "execute_result"
    }
   ],
   "source": [
    "y[..., None]"
   ]
  },
  {
   "cell_type": "code",
   "execution_count": 251,
   "id": "52442f49-020d-4db7-94f5-9e8281bd775d",
   "metadata": {},
   "outputs": [
    {
     "data": {
      "text/plain": [
       "array([0, 1, 0, 1, 1])"
      ]
     },
     "execution_count": 251,
     "metadata": {},
     "output_type": "execute_result"
    }
   ],
   "source": [
    "np.isin(y, x[0]).astype(int)"
   ]
  },
  {
   "cell_type": "code",
   "execution_count": 248,
   "id": "5866f3d7-c069-42a2-a8c0-a5975b332856",
   "metadata": {},
   "outputs": [
    {
     "data": {
      "text/plain": [
       "array([41387351, 41387352, 41387353, ..., 41399324, 41399325, 41399326])"
      ]
     },
     "execution_count": 248,
     "metadata": {},
     "output_type": "execute_result"
    }
   ],
   "source": [
    "x[0]"
   ]
  },
  {
   "cell_type": "code",
   "execution_count": 312,
   "id": "73da9520-a620-4629-8217-0d7c50d52d8d",
   "metadata": {},
   "outputs": [
    {
     "data": {
      "text/html": [
       "<div>\n",
       "<style scoped>\n",
       "    .dataframe tbody tr th:only-of-type {\n",
       "        vertical-align: middle;\n",
       "    }\n",
       "\n",
       "    .dataframe tbody tr th {\n",
       "        vertical-align: top;\n",
       "    }\n",
       "\n",
       "    .dataframe thead th {\n",
       "        text-align: right;\n",
       "    }\n",
       "</style>\n",
       "<table border=\"1\" class=\"dataframe\">\n",
       "  <thead>\n",
       "    <tr style=\"text-align: right;\">\n",
       "      <th></th>\n",
       "      <th>ensembl_trs_id</th>\n",
       "      <th>ensembl_gene_name</th>\n",
       "      <th>trs_type</th>\n",
       "      <th>uniprot_isoform_id</th>\n",
       "      <th>uniprot_trembl_id</th>\n",
       "      <th>cds_start</th>\n",
       "      <th>cds_end</th>\n",
       "      <th>_protein_id</th>\n",
       "      <th>_id_warning</th>\n",
       "    </tr>\n",
       "  </thead>\n",
       "  <tbody>\n",
       "    <tr>\n",
       "      <th>0</th>\n",
       "      <td>ENST00000303728</td>\n",
       "      <td>PRY</td>\n",
       "      <td>protein_coding</td>\n",
       "      <td>O14603-1</td>\n",
       "      <td>A0A384MTZ8</td>\n",
       "      <td>22501565</td>\n",
       "      <td>22514070</td>\n",
       "      <td>O14603-1</td>\n",
       "      <td>NaN</td>\n",
       "    </tr>\n",
       "    <tr>\n",
       "      <th>1</th>\n",
       "      <td>ENST00000477123</td>\n",
       "      <td>PRY</td>\n",
       "      <td>nonsense_mediated_decay</td>\n",
       "      <td>O14603-2</td>\n",
       "      <td>NaN</td>\n",
       "      <td>22501565</td>\n",
       "      <td>22512668</td>\n",
       "      <td>O14603-2</td>\n",
       "      <td>NaN</td>\n",
       "    </tr>\n",
       "    <tr>\n",
       "      <th>2</th>\n",
       "      <td>ENST00000457658</td>\n",
       "      <td>USP9Y</td>\n",
       "      <td>processed_transcript</td>\n",
       "      <td>NaN</td>\n",
       "      <td>NaN</td>\n",
       "      <td>&lt;NA&gt;</td>\n",
       "      <td>&lt;NA&gt;</td>\n",
       "      <td>_1002</td>\n",
       "      <td>NaN</td>\n",
       "    </tr>\n",
       "    <tr>\n",
       "      <th>3</th>\n",
       "      <td>ENST00000440408</td>\n",
       "      <td>USP9Y</td>\n",
       "      <td>processed_transcript</td>\n",
       "      <td>NaN</td>\n",
       "      <td>NaN</td>\n",
       "      <td>&lt;NA&gt;</td>\n",
       "      <td>&lt;NA&gt;</td>\n",
       "      <td>_1003</td>\n",
       "      <td>NaN</td>\n",
       "    </tr>\n",
       "    <tr>\n",
       "      <th>4</th>\n",
       "      <td>ENST00000651177</td>\n",
       "      <td>USP9Y</td>\n",
       "      <td>protein_coding</td>\n",
       "      <td>O00507-1</td>\n",
       "      <td>NaN</td>\n",
       "      <td>12709448</td>\n",
       "      <td>12859416</td>\n",
       "      <td>O00507-1</td>\n",
       "      <td>dup</td>\n",
       "    </tr>\n",
       "    <tr>\n",
       "      <th>...</th>\n",
       "      <td>...</td>\n",
       "      <td>...</td>\n",
       "      <td>...</td>\n",
       "      <td>...</td>\n",
       "      <td>...</td>\n",
       "      <td>...</td>\n",
       "      <td>...</td>\n",
       "      <td>...</td>\n",
       "      <td>...</td>\n",
       "    </tr>\n",
       "    <tr>\n",
       "      <th>162358</th>\n",
       "      <td>ENST00000435087</td>\n",
       "      <td>HAX1</td>\n",
       "      <td>protein_coding</td>\n",
       "      <td>NaN</td>\n",
       "      <td>Q5VYD6</td>\n",
       "      <td>154272724</td>\n",
       "      <td>154275701</td>\n",
       "      <td>Q5VYD6</td>\n",
       "      <td>NaN</td>\n",
       "    </tr>\n",
       "    <tr>\n",
       "      <th>162359</th>\n",
       "      <td>ENST00000532105</td>\n",
       "      <td>HAX1</td>\n",
       "      <td>protein_coding</td>\n",
       "      <td>NaN</td>\n",
       "      <td>E9PIQ7</td>\n",
       "      <td>154273842</td>\n",
       "      <td>154275701</td>\n",
       "      <td>E9PIQ7</td>\n",
       "      <td>NaN</td>\n",
       "    </tr>\n",
       "    <tr>\n",
       "      <th>162360</th>\n",
       "      <td>ENST00000471326</td>\n",
       "      <td>HAX1</td>\n",
       "      <td>retained_intron</td>\n",
       "      <td>NaN</td>\n",
       "      <td>NaN</td>\n",
       "      <td>&lt;NA&gt;</td>\n",
       "      <td>&lt;NA&gt;</td>\n",
       "      <td>_163360</td>\n",
       "      <td>NaN</td>\n",
       "    </tr>\n",
       "    <tr>\n",
       "      <th>162361</th>\n",
       "      <td>ENST00000492550</td>\n",
       "      <td>HAX1</td>\n",
       "      <td>retained_intron</td>\n",
       "      <td>NaN</td>\n",
       "      <td>NaN</td>\n",
       "      <td>&lt;NA&gt;</td>\n",
       "      <td>&lt;NA&gt;</td>\n",
       "      <td>_163361</td>\n",
       "      <td>NaN</td>\n",
       "    </tr>\n",
       "    <tr>\n",
       "      <th>162362</th>\n",
       "      <td>ENST00000459914</td>\n",
       "      <td>HAX1</td>\n",
       "      <td>retained_intron</td>\n",
       "      <td>NaN</td>\n",
       "      <td>NaN</td>\n",
       "      <td>&lt;NA&gt;</td>\n",
       "      <td>&lt;NA&gt;</td>\n",
       "      <td>_163362</td>\n",
       "      <td>NaN</td>\n",
       "    </tr>\n",
       "  </tbody>\n",
       "</table>\n",
       "<p>146590 rows × 9 columns</p>\n",
       "</div>"
      ],
      "text/plain": [
       "         ensembl_trs_id ensembl_gene_name                 trs_type  \\\n",
       "0       ENST00000303728               PRY           protein_coding   \n",
       "1       ENST00000477123               PRY  nonsense_mediated_decay   \n",
       "2       ENST00000457658             USP9Y     processed_transcript   \n",
       "3       ENST00000440408             USP9Y     processed_transcript   \n",
       "4       ENST00000651177             USP9Y           protein_coding   \n",
       "...                 ...               ...                      ...   \n",
       "162358  ENST00000435087              HAX1           protein_coding   \n",
       "162359  ENST00000532105              HAX1           protein_coding   \n",
       "162360  ENST00000471326              HAX1          retained_intron   \n",
       "162361  ENST00000492550              HAX1          retained_intron   \n",
       "162362  ENST00000459914              HAX1          retained_intron   \n",
       "\n",
       "       uniprot_isoform_id uniprot_trembl_id  cds_start    cds_end _protein_id  \\\n",
       "0                O14603-1        A0A384MTZ8   22501565   22514070    O14603-1   \n",
       "1                O14603-2               NaN   22501565   22512668    O14603-2   \n",
       "2                     NaN               NaN       <NA>       <NA>       _1002   \n",
       "3                     NaN               NaN       <NA>       <NA>       _1003   \n",
       "4                O00507-1               NaN   12709448   12859416    O00507-1   \n",
       "...                   ...               ...        ...        ...         ...   \n",
       "162358                NaN            Q5VYD6  154272724  154275701      Q5VYD6   \n",
       "162359                NaN            E9PIQ7  154273842  154275701      E9PIQ7   \n",
       "162360                NaN               NaN       <NA>       <NA>     _163360   \n",
       "162361                NaN               NaN       <NA>       <NA>     _163361   \n",
       "162362                NaN               NaN       <NA>       <NA>     _163362   \n",
       "\n",
       "       _id_warning  \n",
       "0              NaN  \n",
       "1              NaN  \n",
       "2              NaN  \n",
       "3              NaN  \n",
       "4              dup  \n",
       "...            ...  \n",
       "162358         NaN  \n",
       "162359         NaN  \n",
       "162360         NaN  \n",
       "162361         NaN  \n",
       "162362         NaN  \n",
       "\n",
       "[146590 rows x 9 columns]"
      ]
     },
     "execution_count": 312,
     "metadata": {},
     "output_type": "execute_result"
    }
   ],
   "source": [
    "ens_min"
   ]
  },
  {
   "cell_type": "code",
   "execution_count": null,
   "id": "88a2bf52-50cf-4b3d-88e1-dfc642bc99ba",
   "metadata": {},
   "outputs": [],
   "source": []
  }
 ],
 "metadata": {
  "kernelspec": {
   "display_name": "Python 3 (ipykernel)",
   "language": "python",
   "name": "python3"
  },
  "language_info": {
   "codemirror_mode": {
    "name": "ipython",
    "version": 3
   },
   "file_extension": ".py",
   "mimetype": "text/x-python",
   "name": "python",
   "nbconvert_exporter": "python",
   "pygments_lexer": "ipython3",
   "version": "3.10.4"
  }
 },
 "nbformat": 4,
 "nbformat_minor": 5
}
