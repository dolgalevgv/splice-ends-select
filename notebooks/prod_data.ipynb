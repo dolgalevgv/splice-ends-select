{
 "cells": [
  {
   "cell_type": "code",
   "execution_count": 115,
   "id": "36bb4f8f-6dcd-4853-9fe9-5216411fd6f5",
   "metadata": {},
   "outputs": [],
   "source": [
    "import numpy as np\n",
    "import pandas as pd"
   ]
  },
  {
   "cell_type": "code",
   "execution_count": 116,
   "id": "9b03ddd9-4a40-4dc5-a86c-592e1cf605bc",
   "metadata": {},
   "outputs": [],
   "source": [
    "pd.set_option('display.max_columns', None)"
   ]
  },
  {
   "cell_type": "code",
   "execution_count": 117,
   "id": "ca561a34-ffa3-4e64-b7c6-81fc7bf2f47e",
   "metadata": {},
   "outputs": [],
   "source": [
    "ens_annot = pd.read_csv('../data/raw/ensembl_general.txt', low_memory=False)\n",
    "ens_uniprot = pd.read_csv('../data/raw/ensembl_uniprot.txt')\n",
    "ens_exons = pd.read_csv('../data/raw/ensembl_exons.txt')\n",
    "ens_ccds = pd.read_csv('../data/raw/ensembl_ccds.txt')"
   ]
  },
  {
   "cell_type": "code",
   "execution_count": 119,
   "id": "e22c2b8b-4e88-42aa-9f76-fdc3b2668fe9",
   "metadata": {},
   "outputs": [],
   "source": [
    "ens_annot = ens_annot.rename({'Transcript stable ID': 'ensembl_trs_id',\n",
    "                              'Gene stable ID': 'ensembl_gene_id',\n",
    "                              'Gene name': 'ensembl_gene_name',\n",
    "                              'Protein stable ID': 'ensembl_protein_id',\n",
    "                              'Chromosome/scaffold name': 'chromosome_or_scaffold',\n",
    "                              'Gene start (bp)': 'gene_start',\n",
    "                              'Gene end (bp)': 'gene_end',\n",
    "                              'Strand': 'strand',\n",
    "                              'Transcript start (bp)': 'trs_start',\n",
    "                              'Transcript end (bp)': 'trs_end',\n",
    "                              'Transcript length (including UTRs and CDS)': 'trs_length_bp',\n",
    "                              'Transcript support level (TSL)': 'trs_support_level',\n",
    "                              'GENCODE basic annotation': 'in_gencode_basic',\n",
    "                              'APPRIS annotation': 'appris_annotation',\n",
    "                              'Ensembl Canonical': 'is_ensembl_canonical',\n",
    "                              'Transcript name': 'ensembl_trs_name',\n",
    "                              'Gene type': 'gene_type',\n",
    "                              'Transcript type': 'trs_type',}, axis=1)"
   ]
  },
  {
   "cell_type": "code",
   "execution_count": 120,
   "id": "8bdd41a8-c07d-45ec-b962-821de973d0aa",
   "metadata": {},
   "outputs": [],
   "source": [
    "ens_annot['is_ensembl_canonical'] = ens_annot['is_ensembl_canonical'].map(lambda x: True if x == 1.0 else False)\n",
    "ens_annot['in_gencode_basic'] = ens_annot['in_gencode_basic'].map(lambda x: True if x == 'GENCODE basic' else False)\n",
    "ens_annot['trs_support_level'] = ens_annot['trs_support_level'].fillna('tslNA').map(lambda x: x[:x.index(' ')] if ' ' in x else x)"
   ]
  },
  {
   "cell_type": "code",
   "execution_count": 121,
   "id": "1570445b-40c7-4dec-9e28-0c850bc84ccb",
   "metadata": {},
   "outputs": [],
   "source": [
    "ens_uniprot = ens_uniprot.rename({'Transcript stable ID': 'ensembl_trs_id',\n",
    "                                  'Gene stable ID': 'ensembl_gene_id',\n",
    "                                  'Protein stable ID': 'ensembl_protein_id',\n",
    "                                  'UniProtKB isoform ID': 'uniprot_isoform_id',\n",
    "                                  'UniProtKB/Swiss-Prot ID': 'uniprot_base_id',\n",
    "                                  'UniProtKB/TrEMBL ID': 'uniprot_trembl_id'}, axis=1)"
   ]
  },
  {
   "cell_type": "code",
   "execution_count": 122,
   "id": "ad2d7de6-629d-409a-83e4-2304627e893a",
   "metadata": {},
   "outputs": [],
   "source": [
    "ens_uniprot['uniprot_trembl_id'] = ens_uniprot.groupby('ensembl_trs_id')['uniprot_trembl_id'].transform(lambda x: ', '.join(sorted([i for i in x if i is not np.nan])))\n",
    "ens_uniprot['uniprot_trembl_id'] = ens_uniprot['uniprot_trembl_id'].map(lambda x: np.nan if x == '' else x)\n",
    "ens_uniprot['uniprot_base_id'] = ens_uniprot['uniprot_base_id'].map(lambda x: x + '-1' if x is not np.nan else np.nan)\n",
    "ens_uniprot['uniprot_isoform_id'] = ens_uniprot['uniprot_isoform_id'].combine_first(ens_uniprot['uniprot_base_id'])\n",
    "ens_uniprot['uniprot_base_id'] = ens_uniprot['uniprot_base_id'].map(lambda x: x[:x.index('-')] if x is not np.nan else np.nan)\n",
    "ens_uniprot = ens_uniprot.drop_duplicates('ensembl_trs_id', keep='first')"
   ]
  },
  {
   "cell_type": "code",
   "execution_count": 124,
   "id": "eeee4393-a790-42dc-b728-e4f221c52be5",
   "metadata": {},
   "outputs": [],
   "source": [
    "ens_ccds = ens_ccds.rename({'Transcript stable ID': 'ensembl_trs_id',\n",
    "                            'Gene stable ID': 'ensembl_gene_id',\n",
    "                            'Protein stable ID': 'ensembl_protein_id',\n",
    "                            'CCDS ID': 'ccds_id'}, axis=1)"
   ]
  },
  {
   "cell_type": "code",
   "execution_count": 125,
   "id": "2be53f7c-0e76-43c8-93a7-79e8ac8dd5d4",
   "metadata": {},
   "outputs": [],
   "source": [
    "ens_annot['uniprot_base_id'] = ens_annot['ensembl_trs_id'].map(ens_uniprot.set_index('ensembl_trs_id')['uniprot_base_id'])\n",
    "ens_annot['uniprot_isoform_id'] = ens_annot['ensembl_trs_id'].map(ens_uniprot.set_index('ensembl_trs_id')['uniprot_isoform_id'])\n",
    "ens_annot['uniprot_trembl_id'] = ens_annot['ensembl_trs_id'].map(ens_uniprot.set_index('ensembl_trs_id')['uniprot_trembl_id'])\n",
    "ens_annot['ccds_id'] = ens_annot['ensembl_trs_id'].map(ens_ccds.set_index('ensembl_trs_id')['ccds_id'])"
   ]
  },
  {
   "cell_type": "code",
   "execution_count": 126,
   "id": "99f0fea8-9e8c-4ad0-81e7-81246e68e3ff",
   "metadata": {},
   "outputs": [],
   "source": [
    "ens_exons = ens_exons.rename({'Gene stable ID': 'ensembl_gene_id', \n",
    "                              'Transcript stable ID': 'ensembl_trs_id', \n",
    "                              '5\\' UTR start': '5utr_start', \n",
    "                              '5\\' UTR end': '5utr_end', \n",
    "                              '3\\' UTR start': '3utr_start', \n",
    "                              '3\\' UTR end': '3utr_end', \n",
    "                              'Exon region start (bp)': 'exon_start', \n",
    "                              'Exon region end (bp)': 'exon_end',\n",
    "                              'Exon stable ID': 'ensembl_exon_id', \n",
    "                              'Constitutive exon': 'exon_is_constitutive', \n",
    "                              'Genomic coding start': 'cds_start', \n",
    "                              'Genomic coding end': 'cds_end',\n",
    "                              'CDS Length': 'cds_length_bp'}, axis=1)"
   ]
  },
  {
   "cell_type": "code",
   "execution_count": 127,
   "id": "22b4841e-ead4-40e7-9edf-4f20d38abe61",
   "metadata": {},
   "outputs": [],
   "source": [
    "ens_exons = ens_exons[['ensembl_gene_id', 'ensembl_trs_id', 'ensembl_exon_id', '5utr_start', \n",
    "                       '5utr_end', '3utr_start', '3utr_end', 'exon_start', 'exon_end',\n",
    "                       'exon_is_constitutive', 'cds_start', 'cds_end', 'cds_length_bp']]"
   ]
  },
  {
   "cell_type": "code",
   "execution_count": 128,
   "id": "615f5d32-996c-46d8-9eb1-1834a0bd877e",
   "metadata": {},
   "outputs": [],
   "source": [
    "ens_annot['5utr_start'] = ens_annot['ensembl_trs_id'].map(ens_exons.groupby('ensembl_trs_id')['5utr_start'].min())\n",
    "ens_annot['5utr_end'] = ens_annot['ensembl_trs_id'].map(ens_exons.groupby('ensembl_trs_id')['5utr_end'].max())\n",
    "ens_annot['3utr_start'] = ens_annot['ensembl_trs_id'].map(ens_exons.groupby('ensembl_trs_id')['3utr_start'].min())\n",
    "ens_annot['3utr_end'] = ens_annot['ensembl_trs_id'].map(ens_exons.groupby('ensembl_trs_id')['3utr_end'].max())\n",
    "ens_annot['cds_start'] = ens_annot['ensembl_trs_id'].map(ens_exons.groupby('ensembl_trs_id')['cds_start'].min())\n",
    "ens_annot['cds_end'] = ens_annot['ensembl_trs_id'].map(ens_exons.groupby('ensembl_trs_id')['cds_end'].max())"
   ]
  },
  {
   "cell_type": "code",
   "execution_count": 129,
   "id": "4fe5f37c-b881-40b7-b9ed-e29301ae1a92",
   "metadata": {},
   "outputs": [],
   "source": [
    "ens_annot['cds_length_bp'] = ens_annot['ensembl_trs_id'].map(ens_exons.drop_duplicates('ensembl_trs_id').set_index('ensembl_trs_id')['cds_length_bp'])\n",
    "ens_annot['protein_length_aa'] = ens_annot['cds_length_bp'].map(lambda x: (x - 3) / 3 if x is not np.nan else np.nan)"
   ]
  },
  {
   "cell_type": "code",
   "execution_count": 130,
   "id": "a3a35c7d-c238-436a-93e2-d7b835ca2297",
   "metadata": {},
   "outputs": [],
   "source": [
    "ens_annot = ens_annot[['chromosome_or_scaffold', 'ensembl_gene_id', 'ensembl_gene_name', 'gene_type', \n",
    "                       'strand', 'gene_start', 'gene_end', 'ensembl_trs_id', 'ensembl_trs_name', 'trs_type', \n",
    "                       'is_ensembl_canonical', 'trs_support_level', 'trs_length_bp', 'trs_start', \n",
    "                       'trs_end', '5utr_start', '5utr_end', '3utr_start', '3utr_end', 'cds_start',\n",
    "                       'cds_end', 'cds_length_bp', 'in_gencode_basic', 'appris_annotation', 'ensembl_protein_id',\n",
    "                       'uniprot_base_id', 'uniprot_isoform_id', 'uniprot_trembl_id', 'ccds_id', 'protein_length_aa']]"
   ]
  },
  {
   "cell_type": "code",
   "execution_count": 132,
   "id": "999524f3-0754-43fc-97cf-c33ea2137428",
   "metadata": {},
   "outputs": [],
   "source": [
    "ens_annot.to_csv('../data/processed/ensembl_annotation_20220705.csv', index=False)\n",
    "ens_exons.to_csv('../data/processed/ensembl_exons_20220705.csv', index=False)"
   ]
  },
  {
   "cell_type": "code",
   "execution_count": null,
   "id": "d79d0c1e-05db-4ea0-a2a2-227e8e15cd49",
   "metadata": {},
   "outputs": [],
   "source": []
  }
 ],
 "metadata": {
  "kernelspec": {
   "display_name": "Python 3 (ipykernel)",
   "language": "python",
   "name": "python3"
  },
  "language_info": {
   "codemirror_mode": {
    "name": "ipython",
    "version": 3
   },
   "file_extension": ".py",
   "mimetype": "text/x-python",
   "name": "python",
   "nbconvert_exporter": "python",
   "pygments_lexer": "ipython3",
   "version": "3.10.4"
  }
 },
 "nbformat": 4,
 "nbformat_minor": 5
}
